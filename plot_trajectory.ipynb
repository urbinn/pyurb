{
 "cells": [
  {
   "cell_type": "code",
   "execution_count": 1,
   "metadata": {
    "collapsed": true
   },
   "outputs": [],
   "source": [
    "from progressbar import ProgressBar\n",
    "from urb_kitti import *\n",
    "import cv2\n",
    "%matplotlib inline"
   ]
  },
  {
   "cell_type": "markdown",
   "metadata": {},
   "source": [
    "Read frames from KITTI sequence 00 into a list of frames (frame)."
   ]
  },
  {
   "cell_type": "code",
   "execution_count": 2,
   "metadata": {},
   "outputs": [
    {
     "name": "stdout",
     "output_type": "stream",
     "text": [
      "4541\n"
     ]
    }
   ],
   "source": [
    "%%bash\n",
    "ls /data/urbinn/datasets/kitti/sequences/00/image_2 | wc -l"
   ]
  },
  {
   "cell_type": "code",
   "execution_count": null,
   "metadata": {},
   "outputs": [
    {
     "name": "stderr",
     "output_type": "stream",
     "text": [
      "  0% (38 of 4500) |                       | Elapsed Time: 0:00:49 ETA:  1:35:57"
     ]
    },
    {
     "name": "stdout",
     "output_type": "stream",
     "text": [
      "WARNING: invalid pose estimation\n",
      "47 None\n"
     ]
    },
    {
     "name": "stderr",
     "output_type": "stream",
     "text": [
      "  4% (206 of 4500) |#                     | Elapsed Time: 0:04:01 ETA:  1:50:43"
     ]
    },
    {
     "name": "stdout",
     "output_type": "stream",
     "text": [
      "WARNING: invalid pose estimation\n",
      "7 None\n"
     ]
    },
    {
     "name": "stderr",
     "output_type": "stream",
     "text": [
      "\r",
      "                                                                               \r",
      "\r",
      "  4% (207 of 4500) |#                     | Elapsed Time: 0:04:05 ETA:  1:56:51"
     ]
    },
    {
     "name": "stdout",
     "output_type": "stream",
     "text": [
      "WARNING: invalid pose estimation\n",
      "4 None\n"
     ]
    },
    {
     "name": "stderr",
     "output_type": "stream",
     "text": [
      "\r",
      "                                                                               \r",
      "\r",
      "  4% (208 of 4500) |#                     | Elapsed Time: 0:04:09 ETA:  2:02:15"
     ]
    },
    {
     "name": "stdout",
     "output_type": "stream",
     "text": [
      "WARNING: invalid pose estimation\n",
      "4 None\n"
     ]
    },
    {
     "name": "stderr",
     "output_type": "stream",
     "text": [
      "\r",
      "                                                                               \r",
      "\r",
      "  4% (209 of 4500) |#                     | Elapsed Time: 0:04:12 ETA:  2:02:18"
     ]
    },
    {
     "name": "stdout",
     "output_type": "stream",
     "text": [
      "WARNING: invalid pose estimation\n",
      "12 None\n"
     ]
    },
    {
     "name": "stderr",
     "output_type": "stream",
     "text": [
      "\r",
      "                                                                               \r",
      "\r",
      "  4% (210 of 4500) |#                     | Elapsed Time: 0:04:15 ETA:  2:06:05"
     ]
    },
    {
     "name": "stdout",
     "output_type": "stream",
     "text": [
      "WARNING: invalid pose estimation\n",
      "14 None\n"
     ]
    },
    {
     "name": "stderr",
     "output_type": "stream",
     "text": [
      "\r",
      "                                                                               \r",
      "\r",
      "  4% (211 of 4500) |#                     | Elapsed Time: 0:04:18 ETA:  2:05:47"
     ]
    },
    {
     "name": "stdout",
     "output_type": "stream",
     "text": [
      "WARNING: invalid pose estimation\n",
      "15 None\n"
     ]
    },
    {
     "name": "stderr",
     "output_type": "stream",
     "text": [
      "\r",
      "                                                                               \r",
      "\r",
      "  4% (212 of 4500) |#                     | Elapsed Time: 0:04:20 ETA:  2:09:14"
     ]
    },
    {
     "name": "stdout",
     "output_type": "stream",
     "text": [
      "WARNING: invalid pose estimation\n",
      "25 None\n"
     ]
    },
    {
     "name": "stderr",
     "output_type": "stream",
     "text": [
      "  4% (221 of 4500) |#                     | Elapsed Time: 0:04:29 ETA:  2:07:33"
     ]
    },
    {
     "name": "stdout",
     "output_type": "stream",
     "text": [
      "WARNING: invalid pose estimation\n",
      "52 None\n"
     ]
    },
    {
     "name": "stderr",
     "output_type": "stream",
     "text": [
      "  9% (439 of 4500) |##                    | Elapsed Time: 0:07:08 ETA:  0:45:02"
     ]
    },
    {
     "name": "stdout",
     "output_type": "stream",
     "text": [
      "WARNING: invalid pose estimation\n",
      "27 None\n"
     ]
    },
    {
     "name": "stderr",
     "output_type": "stream",
     "text": [
      "  9% (443 of 4500) |##                    | Elapsed Time: 0:07:15 ETA:  0:52:33"
     ]
    },
    {
     "name": "stdout",
     "output_type": "stream",
     "text": [
      "WARNING: invalid pose estimation\n",
      "25 None\n"
     ]
    },
    {
     "name": "stderr",
     "output_type": "stream",
     "text": [
      " 10% (474 of 4500) |##                    | Elapsed Time: 0:07:59 ETA:  1:31:18"
     ]
    },
    {
     "name": "stdout",
     "output_type": "stream",
     "text": [
      "WARNING: invalid pose estimation\n",
      "27 None\n"
     ]
    },
    {
     "name": "stderr",
     "output_type": "stream",
     "text": [
      " 17% (797 of 4500) |###                   | Elapsed Time: 0:13:26 ETA:  2:19:33"
     ]
    },
    {
     "name": "stdout",
     "output_type": "stream",
     "text": [
      "WARNING: invalid pose estimation\n",
      "73 None\n"
     ]
    },
    {
     "name": "stderr",
     "output_type": "stream",
     "text": [
      " 21% (968 of 4500) |####                  | Elapsed Time: 0:18:02 ETA:  2:02:34"
     ]
    },
    {
     "name": "stdout",
     "output_type": "stream",
     "text": [
      "WARNING: invalid pose estimation\n",
      "44 None\n"
     ]
    },
    {
     "name": "stderr",
     "output_type": "stream",
     "text": [
      " 21% (971 of 4500) |####                  | Elapsed Time: 0:18:13 ETA:  2:15:51"
     ]
    },
    {
     "name": "stdout",
     "output_type": "stream",
     "text": [
      "WARNING: invalid pose estimation\n",
      "38 None\n"
     ]
    },
    {
     "name": "stderr",
     "output_type": "stream",
     "text": [
      " 23% (1047 of 4500) |####                 | Elapsed Time: 0:20:12 ETA:  1:32:21"
     ]
    },
    {
     "name": "stdout",
     "output_type": "stream",
     "text": [
      "WARNING: invalid pose estimation\n",
      "49 None\n"
     ]
    },
    {
     "name": "stderr",
     "output_type": "stream",
     "text": [
      " 23% (1049 of 4500) |####                 | Elapsed Time: 0:20:18 ETA:  1:30:21"
     ]
    },
    {
     "name": "stdout",
     "output_type": "stream",
     "text": [
      "WARNING: invalid pose estimation\n",
      "32 None\n"
     ]
    },
    {
     "name": "stderr",
     "output_type": "stream",
     "text": [
      "\r",
      "                                                                               \r",
      "\r",
      " 23% (1050 of 4500) |####                 | Elapsed Time: 0:20:21 ETA:  1:33:55"
     ]
    },
    {
     "name": "stdout",
     "output_type": "stream",
     "text": [
      "WARNING: invalid pose estimation\n",
      "32 None\n"
     ]
    },
    {
     "name": "stderr",
     "output_type": "stream",
     "text": [
      " 23% (1052 of 4500) |####                 | Elapsed Time: 0:20:28 ETA:  1:39:24"
     ]
    },
    {
     "name": "stdout",
     "output_type": "stream",
     "text": [
      "WARNING: invalid pose estimation\n",
      "31 None\n"
     ]
    },
    {
     "name": "stderr",
     "output_type": "stream",
     "text": [
      "\r",
      "                                                                               \r",
      "\r",
      " 23% (1053 of 4500) |####                 | Elapsed Time: 0:20:32 ETA:  1:43:57"
     ]
    },
    {
     "name": "stdout",
     "output_type": "stream",
     "text": [
      "WARNING: invalid pose estimation\n",
      "30 None\n"
     ]
    },
    {
     "name": "stderr",
     "output_type": "stream",
     "text": [
      " 25% (1133 of 4500) |#####                | Elapsed Time: 0:23:31 ETA:  1:06:31"
     ]
    },
    {
     "name": "stdout",
     "output_type": "stream",
     "text": [
      "WARNING: invalid pose estimation\n",
      "23 None\n"
     ]
    },
    {
     "name": "stderr",
     "output_type": "stream",
     "text": [
      "\r",
      "                                                                               \r",
      "\r",
      " 25% (1134 of 4500) |#####                | Elapsed Time: 0:23:32 ETA:  1:07:05"
     ]
    },
    {
     "name": "stdout",
     "output_type": "stream",
     "text": [
      "WARNING: invalid pose estimation\n",
      "17 None\n"
     ]
    },
    {
     "name": "stderr",
     "output_type": "stream",
     "text": [
      " 25% (1137 of 4500) |#####                | Elapsed Time: 0:23:34 ETA:  0:59:35"
     ]
    },
    {
     "name": "stdout",
     "output_type": "stream",
     "text": [
      "WARNING: invalid pose estimation\n",
      "44 None\n"
     ]
    },
    {
     "name": "stderr",
     "output_type": "stream",
     "text": [
      " 25% (1166 of 4500) |#####                | Elapsed Time: 0:24:01 ETA:  0:43:32"
     ]
    },
    {
     "name": "stdout",
     "output_type": "stream",
     "text": [
      "WARNING: invalid pose estimation\n",
      "25 None\n"
     ]
    },
    {
     "name": "stderr",
     "output_type": "stream",
     "text": [
      "\r",
      "                                                                               \r",
      "\r",
      " 25% (1167 of 4500) |#####                | Elapsed Time: 0:24:04 ETA:  0:46:52"
     ]
    },
    {
     "name": "stdout",
     "output_type": "stream",
     "text": [
      "WARNING: invalid pose estimation\n",
      "30 None\n"
     ]
    },
    {
     "name": "stderr",
     "output_type": "stream",
     "text": [
      " 28% (1290 of 4500) |######               | Elapsed Time: 0:26:24 ETA:  1:01:58"
     ]
    },
    {
     "name": "stdout",
     "output_type": "stream",
     "text": [
      "WARNING: invalid pose estimation\n",
      "35 None\n"
     ]
    },
    {
     "name": "stderr",
     "output_type": "stream",
     "text": [
      " 29% (1323 of 4500) |######               | Elapsed Time: 0:27:09 ETA:  1:11:19"
     ]
    },
    {
     "name": "stdout",
     "output_type": "stream",
     "text": [
      "WARNING: invalid pose estimation\n",
      "24 None\n"
     ]
    },
    {
     "name": "stderr",
     "output_type": "stream",
     "text": [
      "\r",
      "                                                                               \r",
      "\r",
      " 29% (1324 of 4500) |######               | Elapsed Time: 0:27:12 ETA:  1:14:39"
     ]
    },
    {
     "name": "stdout",
     "output_type": "stream",
     "text": [
      "WARNING: invalid pose estimation\n",
      "25 None\n"
     ]
    },
    {
     "name": "stderr",
     "output_type": "stream",
     "text": [
      "\r",
      "                                                                               \r",
      "\r",
      " 29% (1325 of 4500) |######               | Elapsed Time: 0:27:15 ETA:  1:17:43"
     ]
    },
    {
     "name": "stdout",
     "output_type": "stream",
     "text": [
      "WARNING: invalid pose estimation\n",
      "17 None\n"
     ]
    },
    {
     "name": "stderr",
     "output_type": "stream",
     "text": [
      "\r",
      "                                                                               \r",
      "\r",
      " 29% (1326 of 4500) |######               | Elapsed Time: 0:27:17 ETA:  1:17:06"
     ]
    },
    {
     "name": "stdout",
     "output_type": "stream",
     "text": [
      "WARNING: invalid pose estimation\n",
      "16 None\n"
     ]
    },
    {
     "name": "stderr",
     "output_type": "stream",
     "text": [
      "\r",
      "                                                                               \r",
      "\r",
      " 29% (1327 of 4500) |######               | Elapsed Time: 0:27:19 ETA:  1:19:20"
     ]
    },
    {
     "name": "stdout",
     "output_type": "stream",
     "text": [
      "WARNING: invalid pose estimation\n",
      "15 None\n"
     ]
    },
    {
     "name": "stderr",
     "output_type": "stream",
     "text": [
      " 31% (1411 of 4500) |######               | Elapsed Time: 0:28:13 ETA:  0:24:19"
     ]
    },
    {
     "name": "stdout",
     "output_type": "stream",
     "text": [
      "WARNING: invalid pose estimation\n",
      "45 None\n"
     ]
    },
    {
     "name": "stderr",
     "output_type": "stream",
     "text": [
      " 31% (1415 of 4500) |######               | Elapsed Time: 0:28:18 ETA:  0:27:20"
     ]
    },
    {
     "name": "stdout",
     "output_type": "stream",
     "text": [
      "WARNING: invalid pose estimation\n",
      "39 None\n"
     ]
    },
    {
     "name": "stderr",
     "output_type": "stream",
     "text": [
      " 69% (3147 of 4500) |##############       | Elapsed Time: 1:07:53 ETA:  0:33:00"
     ]
    },
    {
     "name": "stdout",
     "output_type": "stream",
     "text": [
      "WARNING: invalid pose estimation\n",
      "25 None\n"
     ]
    },
    {
     "name": "stderr",
     "output_type": "stream",
     "text": [
      " 70% (3151 of 4500) |##############       | Elapsed Time: 1:08:05 ETA:  0:36:40"
     ]
    },
    {
     "name": "stdout",
     "output_type": "stream",
     "text": [
      "WARNING: invalid pose estimation\n",
      "24 None\n"
     ]
    },
    {
     "name": "stderr",
     "output_type": "stream",
     "text": [
      " 71% (3233 of 4500) |###############      | Elapsed Time: 1:11:28 ETA:  1:03:32"
     ]
    },
    {
     "name": "stdout",
     "output_type": "stream",
     "text": [
      "WARNING: invalid pose estimation\n",
      "29 None\n"
     ]
    },
    {
     "name": "stderr",
     "output_type": "stream",
     "text": [
      " 71% (3235 of 4500) |###############      | Elapsed Time: 1:11:38 ETA:  1:05:30"
     ]
    },
    {
     "name": "stdout",
     "output_type": "stream",
     "text": [
      "WARNING: invalid pose estimation\n",
      "27 None\n"
     ]
    },
    {
     "name": "stderr",
     "output_type": "stream",
     "text": [
      "\r",
      "                                                                               \r",
      "\r",
      " 72% (3244 of 4500) |###############      | Elapsed Time: 1:12:11 ETA:  1:08:29"
     ]
    },
    {
     "name": "stdout",
     "output_type": "stream",
     "text": [
      "WARNING: invalid pose estimation\n",
      "20 None\n"
     ]
    },
    {
     "name": "stderr",
     "output_type": "stream",
     "text": [
      "\r",
      "                                                                               \r",
      "\r",
      " 72% (3245 of 4500) |###############      | Elapsed Time: 1:12:16 ETA:  1:10:43"
     ]
    },
    {
     "name": "stdout",
     "output_type": "stream",
     "text": [
      "WARNING: invalid pose estimation\n",
      "17 None\n"
     ]
    },
    {
     "name": "stderr",
     "output_type": "stream",
     "text": [
      "\r",
      "                                                                               \r",
      "\r",
      " 72% (3246 of 4500) |###############      | Elapsed Time: 1:12:21 ETA:  1:13:15"
     ]
    },
    {
     "name": "stdout",
     "output_type": "stream",
     "text": [
      "WARNING: invalid pose estimation\n",
      "11 None\n"
     ]
    },
    {
     "name": "stderr",
     "output_type": "stream",
     "text": [
      "\r",
      "                                                                               \r",
      "\r",
      " 72% (3247 of 4500) |###############      | Elapsed Time: 1:12:27 ETA:  1:13:02"
     ]
    },
    {
     "name": "stdout",
     "output_type": "stream",
     "text": [
      "WARNING: invalid pose estimation\n",
      "12 None\n"
     ]
    },
    {
     "name": "stderr",
     "output_type": "stream",
     "text": [
      " 72% (3250 of 4500) |###############      | Elapsed Time: 1:12:41 ETA:  1:17:04"
     ]
    },
    {
     "name": "stdout",
     "output_type": "stream",
     "text": [
      "WARNING: invalid pose estimation\n",
      "28 None\n"
     ]
    },
    {
     "name": "stderr",
     "output_type": "stream",
     "text": [
      " 72% (3252 of 4500) |###############      | Elapsed Time: 1:12:46 ETA:  1:16:39"
     ]
    },
    {
     "name": "stdout",
     "output_type": "stream",
     "text": [
      "WARNING: invalid pose estimation\n",
      "27 None\n"
     ]
    },
    {
     "name": "stderr",
     "output_type": "stream",
     "text": [
      "\r",
      "                                                                               \r",
      "\r",
      " 72% (3253 of 4500) |###############      | Elapsed Time: 1:12:50 ETA:  1:16:16"
     ]
    },
    {
     "name": "stdout",
     "output_type": "stream",
     "text": [
      "WARNING: invalid pose estimation\n",
      "15 None\n"
     ]
    },
    {
     "name": "stderr",
     "output_type": "stream",
     "text": [
      " 72% (3256 of 4500) |###############      | Elapsed Time: 1:13:00 ETA:  1:15:32"
     ]
    },
    {
     "name": "stdout",
     "output_type": "stream",
     "text": [
      "WARNING: invalid pose estimation\n",
      "12 None\n"
     ]
    },
    {
     "name": "stderr",
     "output_type": "stream",
     "text": [
      "\r",
      "                                                                               \r",
      "\r",
      " 72% (3257 of 4500) |###############      | Elapsed Time: 1:13:03 ETA:  1:13:58"
     ]
    },
    {
     "name": "stdout",
     "output_type": "stream",
     "text": [
      "WARNING: invalid pose estimation\n",
      "13 None\n"
     ]
    },
    {
     "name": "stderr",
     "output_type": "stream",
     "text": [
      "\r",
      "                                                                               \r",
      "\r",
      " 72% (3258 of 4500) |###############      | Elapsed Time: 1:13:06 ETA:  1:12:29"
     ]
    },
    {
     "name": "stdout",
     "output_type": "stream",
     "text": [
      "WARNING: invalid pose estimation\n",
      "18 None\n"
     ]
    },
    {
     "name": "stderr",
     "output_type": "stream",
     "text": [
      "\r",
      "                                                                               \r",
      "\r",
      " 72% (3259 of 4500) |###############      | Elapsed Time: 1:13:08 ETA:  1:13:28"
     ]
    },
    {
     "name": "stdout",
     "output_type": "stream",
     "text": [
      "WARNING: invalid pose estimation\n",
      "16 None\n"
     ]
    },
    {
     "name": "stderr",
     "output_type": "stream",
     "text": [
      " 72% (3271 of 4500) |###############      | Elapsed Time: 1:13:23 ETA:  1:00:57"
     ]
    },
    {
     "name": "stdout",
     "output_type": "stream",
     "text": [
      "WARNING: invalid pose estimation\n",
      "31 None\n"
     ]
    },
    {
     "name": "stderr",
     "output_type": "stream",
     "text": [
      " 72% (3283 of 4500) |###############      | Elapsed Time: 1:13:40 ETA:  0:49:21"
     ]
    },
    {
     "name": "stdout",
     "output_type": "stream",
     "text": [
      "WARNING: invalid pose estimation\n",
      "31 None\n"
     ]
    },
    {
     "name": "stderr",
     "output_type": "stream",
     "text": [
      " 74% (3353 of 4500) |###############      | Elapsed Time: 1:16:53 ETA:  1:01:32"
     ]
    },
    {
     "name": "stdout",
     "output_type": "stream",
     "text": [
      "WARNING: invalid pose estimation\n",
      "24 None\n"
     ]
    },
    {
     "name": "stderr",
     "output_type": "stream",
     "text": [
      "\r",
      "                                                                               \r",
      "\r",
      " 74% (3354 of 4500) |###############      | Elapsed Time: 1:16:55 ETA:  1:02:33"
     ]
    },
    {
     "name": "stdout",
     "output_type": "stream",
     "text": [
      "WARNING: invalid pose estimation\n",
      "35 None\n"
     ]
    },
    {
     "name": "stderr",
     "output_type": "stream",
     "text": [
      " 75% (3414 of 4500) |###############      | Elapsed Time: 1:17:30 ETA:  0:08:45"
     ]
    },
    {
     "name": "stdout",
     "output_type": "stream",
     "text": [
      "WARNING: invalid pose estimation\n",
      "29 None\n"
     ]
    },
    {
     "name": "stderr",
     "output_type": "stream",
     "text": [
      " 76% (3422 of 4500) |###############      | Elapsed Time: 1:17:35 ETA:  0:10:02"
     ]
    },
    {
     "name": "stdout",
     "output_type": "stream",
     "text": [
      "WARNING: invalid pose estimation\n",
      "22 None\n"
     ]
    },
    {
     "name": "stderr",
     "output_type": "stream",
     "text": [
      " 76% (3431 of 4500) |################     | Elapsed Time: 1:17:42 ETA:  0:11:33"
     ]
    },
    {
     "name": "stdout",
     "output_type": "stream",
     "text": [
      "WARNING: invalid pose estimation\n",
      "26 None\n"
     ]
    },
    {
     "name": "stderr",
     "output_type": "stream",
     "text": [
      " 76% (3459 of 4500) |################     | Elapsed Time: 1:18:13 ETA:  0:16:52"
     ]
    },
    {
     "name": "stdout",
     "output_type": "stream",
     "text": [
      "WARNING: invalid pose estimation\n",
      "39 None\n"
     ]
    },
    {
     "name": "stderr",
     "output_type": "stream",
     "text": [
      " 77% (3476 of 4500) |################     | Elapsed Time: 1:18:37 ETA:  0:21:01"
     ]
    },
    {
     "name": "stdout",
     "output_type": "stream",
     "text": [
      "WARNING: invalid pose estimation\n",
      "31 None\n"
     ]
    },
    {
     "name": "stderr",
     "output_type": "stream",
     "text": [
      " 91% (4139 of 4500) |###################  | Elapsed Time: 1:43:58 ETA:  0:30:24"
     ]
    },
    {
     "name": "stdout",
     "output_type": "stream",
     "text": [
      "WARNING: invalid pose estimation\n",
      "9 None\n"
     ]
    },
    {
     "name": "stderr",
     "output_type": "stream",
     "text": [
      "\r",
      "                                                                               \r",
      "\r",
      " 92% (4140 of 4500) |###################  | Elapsed Time: 1:44:05 ETA:  0:30:33"
     ]
    },
    {
     "name": "stdout",
     "output_type": "stream",
     "text": [
      "WARNING: invalid pose estimation\n",
      "7 None\n"
     ]
    },
    {
     "name": "stderr",
     "output_type": "stream",
     "text": [
      "\r",
      "                                                                               \r",
      "\r",
      " 92% (4141 of 4500) |###################  | Elapsed Time: 1:44:12 ETA:  0:30:45"
     ]
    },
    {
     "name": "stdout",
     "output_type": "stream",
     "text": [
      "WARNING: invalid pose estimation\n",
      "10 None\n"
     ]
    },
    {
     "name": "stderr",
     "output_type": "stream",
     "text": [
      " 92% (4147 of 4500) |###################  | Elapsed Time: 1:44:35 ETA:  0:30:04"
     ]
    },
    {
     "name": "stdout",
     "output_type": "stream",
     "text": [
      "WARNING: invalid pose estimation\n",
      "21 None\n"
     ]
    },
    {
     "name": "stderr",
     "output_type": "stream",
     "text": [
      " 92% (4149 of 4500) |###################  | Elapsed Time: 1:44:44 ETA:  0:29:21"
     ]
    },
    {
     "name": "stdout",
     "output_type": "stream",
     "text": [
      "WARNING: invalid pose estimation\n",
      "20 None\n"
     ]
    },
    {
     "name": "stderr",
     "output_type": "stream",
     "text": [
      " 92% (4156 of 4500) |###################  | Elapsed Time: 1:45:14 ETA:  0:27:11"
     ]
    },
    {
     "name": "stdout",
     "output_type": "stream",
     "text": [
      "WARNING: invalid pose estimation\n",
      "19 None\n"
     ]
    },
    {
     "name": "stderr",
     "output_type": "stream",
     "text": [
      "\r",
      "                                                                               \r",
      "\r",
      " 92% (4157 of 4500) |###################  | Elapsed Time: 1:45:19 ETA:  0:26:57"
     ]
    },
    {
     "name": "stdout",
     "output_type": "stream",
     "text": [
      "WARNING: invalid pose estimation\n",
      "17 None\n"
     ]
    },
    {
     "name": "stderr",
     "output_type": "stream",
     "text": [
      "\r",
      "                                                                               \r",
      "\r",
      " 92% (4158 of 4500) |###################  | Elapsed Time: 1:45:24 ETA:  0:26:46"
     ]
    },
    {
     "name": "stdout",
     "output_type": "stream",
     "text": [
      "WARNING: invalid pose estimation\n",
      "17 None\n"
     ]
    },
    {
     "name": "stderr",
     "output_type": "stream",
     "text": [
      "\r",
      "                                                                               \r",
      "\r",
      " 92% (4159 of 4500) |###################  | Elapsed Time: 1:45:30 ETA:  0:26:35"
     ]
    },
    {
     "name": "stdout",
     "output_type": "stream",
     "text": [
      "WARNING: invalid pose estimation\n",
      "19 None\n"
     ]
    },
    {
     "name": "stderr",
     "output_type": "stream",
     "text": [
      "\r",
      "                                                                               \r",
      "\r",
      " 92% (4160 of 4500) |###################  | Elapsed Time: 1:45:36 ETA:  0:26:24"
     ]
    },
    {
     "name": "stdout",
     "output_type": "stream",
     "text": [
      "WARNING: invalid pose estimation\n",
      "20 None\n"
     ]
    },
    {
     "name": "stderr",
     "output_type": "stream",
     "text": [
      " 92% (4166 of 4500) |###################  | Elapsed Time: 1:46:06 ETA:  0:26:28"
     ]
    },
    {
     "name": "stdout",
     "output_type": "stream",
     "text": [
      "WARNING: invalid pose estimation\n",
      "25 None\n"
     ]
    },
    {
     "name": "stderr",
     "output_type": "stream",
     "text": [
      "\r",
      "                                                                               \r",
      "\r",
      " 92% (4167 of 4500) |###################  | Elapsed Time: 1:46:13 ETA:  0:26:17"
     ]
    },
    {
     "name": "stdout",
     "output_type": "stream",
     "text": [
      "WARNING: invalid pose estimation\n",
      "20 None\n"
     ]
    },
    {
     "name": "stderr",
     "output_type": "stream",
     "text": [
      "\r",
      "                                                                               \r",
      "\r",
      " 92% (4168 of 4500) |###################  | Elapsed Time: 1:46:21 ETA:  0:26:36"
     ]
    },
    {
     "name": "stdout",
     "output_type": "stream",
     "text": [
      "WARNING: invalid pose estimation\n",
      "18 None\n"
     ]
    },
    {
     "name": "stderr",
     "output_type": "stream",
     "text": [
      "\r",
      "                                                                               \r",
      "\r",
      " 92% (4169 of 4500) |###################  | Elapsed Time: 1:46:27 ETA:  0:26:43"
     ]
    },
    {
     "name": "stdout",
     "output_type": "stream",
     "text": [
      "WARNING: invalid pose estimation\n",
      "15 None\n"
     ]
    },
    {
     "name": "stderr",
     "output_type": "stream",
     "text": [
      " 92% (4173 of 4500) |###################  | Elapsed Time: 1:46:41 ETA:  0:25:57"
     ]
    },
    {
     "name": "stdout",
     "output_type": "stream",
     "text": [
      "WARNING: invalid pose estimation\n",
      "20 None\n"
     ]
    },
    {
     "name": "stderr",
     "output_type": "stream",
     "text": [
      " 93% (4187 of 4500) |###################  | Elapsed Time: 1:47:23 ETA:  0:22:00"
     ]
    },
    {
     "name": "stdout",
     "output_type": "stream",
     "text": [
      "WARNING: invalid pose estimation\n",
      "33 None\n"
     ]
    },
    {
     "name": "stderr",
     "output_type": "stream",
     "text": [
      " 94% (4236 of 4500) |###################  | Elapsed Time: 1:48:53 ETA:  0:07:39"
     ]
    },
    {
     "name": "stdout",
     "output_type": "stream",
     "text": [
      "WARNING: invalid pose estimation\n",
      "34 None\n"
     ]
    },
    {
     "name": "stderr",
     "output_type": "stream",
     "text": [
      " 94% (4262 of 4500) |###################  | Elapsed Time: 1:50:27 ETA:  0:12:39"
     ]
    },
    {
     "name": "stdout",
     "output_type": "stream",
     "text": [
      "WARNING: invalid pose estimation\n",
      "17 None\n"
     ]
    },
    {
     "name": "stderr",
     "output_type": "stream",
     "text": [
      " 94% (4264 of 4500) |###################  | Elapsed Time: 1:50:37 ETA:  0:13:21"
     ]
    },
    {
     "name": "stdout",
     "output_type": "stream",
     "text": [
      "WARNING: invalid pose estimation\n",
      "17 None\n"
     ]
    },
    {
     "name": "stderr",
     "output_type": "stream",
     "text": [
      "\r",
      "                                                                               \r",
      "\r",
      " 94% (4265 of 4500) |###################  | Elapsed Time: 1:50:42 ETA:  0:13:43"
     ]
    },
    {
     "name": "stdout",
     "output_type": "stream",
     "text": [
      "WARNING: invalid pose estimation\n",
      "18 None\n"
     ]
    },
    {
     "name": "stderr",
     "output_type": "stream",
     "text": [
      "\r",
      "                                                                               \r",
      "\r",
      " 94% (4266 of 4500) |###################  | Elapsed Time: 1:50:47 ETA:  0:14:04"
     ]
    },
    {
     "name": "stdout",
     "output_type": "stream",
     "text": [
      "WARNING: invalid pose estimation\n",
      "18 None\n"
     ]
    },
    {
     "name": "stderr",
     "output_type": "stream",
     "text": [
      "\r",
      "                                                                               \r",
      "\r",
      " 94% (4267 of 4500) |###################  | Elapsed Time: 1:50:51 ETA:  0:14:02"
     ]
    },
    {
     "name": "stdout",
     "output_type": "stream",
     "text": [
      "WARNING: invalid pose estimation\n",
      "13 None\n"
     ]
    },
    {
     "name": "stderr",
     "output_type": "stream",
     "text": [
      "\r",
      "                                                                               \r",
      "\r",
      " 94% (4268 of 4500) |###################  | Elapsed Time: 1:50:56 ETA:  0:13:57"
     ]
    },
    {
     "name": "stdout",
     "output_type": "stream",
     "text": [
      "WARNING: invalid pose estimation\n",
      "14 None\n"
     ]
    },
    {
     "name": "stderr",
     "output_type": "stream",
     "text": [
      " 94% (4272 of 4500) |###################  | Elapsed Time: 1:51:14 ETA:  0:14:15"
     ]
    },
    {
     "name": "stdout",
     "output_type": "stream",
     "text": [
      "WARNING: invalid pose estimation\n",
      "16 None\n"
     ]
    },
    {
     "name": "stderr",
     "output_type": "stream",
     "text": [
      " 95% (4281 of 4500) |###################  | Elapsed Time: 1:52:11 ETA:  0:15:56"
     ]
    },
    {
     "name": "stdout",
     "output_type": "stream",
     "text": [
      "WARNING: invalid pose estimation\n",
      "14 None\n"
     ]
    },
    {
     "name": "stderr",
     "output_type": "stream",
     "text": [
      "\r",
      "                                                                               \r",
      "\r",
      " 95% (4282 of 4500) |###################  | Elapsed Time: 1:52:17 ETA:  0:15:52"
     ]
    },
    {
     "name": "stdout",
     "output_type": "stream",
     "text": [
      "WARNING: invalid pose estimation\n",
      "12 None\n"
     ]
    },
    {
     "name": "stderr",
     "output_type": "stream",
     "text": [
      "\r",
      "                                                                               \r",
      "\r",
      " 95% (4283 of 4500) |###################  | Elapsed Time: 1:52:24 ETA:  0:16:18"
     ]
    },
    {
     "name": "stdout",
     "output_type": "stream",
     "text": [
      "WARNING: invalid pose estimation\n",
      "10 None\n"
     ]
    },
    {
     "name": "stderr",
     "output_type": "stream",
     "text": [
      " 95% (4287 of 4500) |#################### | Elapsed Time: 1:52:45 ETA:  0:16:35"
     ]
    },
    {
     "name": "stdout",
     "output_type": "stream",
     "text": [
      "WARNING: invalid pose estimation\n",
      "22 None\n"
     ]
    },
    {
     "name": "stderr",
     "output_type": "stream",
     "text": [
      " 95% (4290 of 4500) |#################### | Elapsed Time: 1:53:00 ETA:  0:17:10"
     ]
    },
    {
     "name": "stdout",
     "output_type": "stream",
     "text": [
      "WARNING: invalid pose estimation\n",
      "14 None\n"
     ]
    },
    {
     "name": "stderr",
     "output_type": "stream",
     "text": [
      "\r",
      "                                                                               \r",
      "\r",
      " 95% (4291 of 4500) |#################### | Elapsed Time: 1:53:06 ETA:  0:17:12"
     ]
    },
    {
     "name": "stdout",
     "output_type": "stream",
     "text": [
      "WARNING: invalid pose estimation\n",
      "18 None\n"
     ]
    },
    {
     "name": "stderr",
     "output_type": "stream",
     "text": [
      " 95% (4293 of 4500) |#################### | Elapsed Time: 1:53:17 ETA:  0:17:17"
     ]
    },
    {
     "name": "stdout",
     "output_type": "stream",
     "text": [
      "WARNING: invalid pose estimation\n",
      "32 None\n"
     ]
    },
    {
     "name": "stderr",
     "output_type": "stream",
     "text": [
      " 96% (4322 of 4500) |#################### | Elapsed Time: 1:55:22 ETA:  0:14:16"
     ]
    },
    {
     "name": "stdout",
     "output_type": "stream",
     "text": [
      "WARNING: invalid pose estimation\n",
      "18 None\n"
     ]
    },
    {
     "name": "stderr",
     "output_type": "stream",
     "text": [
      " 96% (4327 of 4500) |#################### | Elapsed Time: 1:55:47 ETA:  0:13:17"
     ]
    },
    {
     "name": "stdout",
     "output_type": "stream",
     "text": [
      "WARNING: invalid pose estimation\n",
      "12 None\n"
     ]
    },
    {
     "name": "stderr",
     "output_type": "stream",
     "text": [
      " 96% (4337 of 4500) |#################### | Elapsed Time: 1:56:42 ETA:  0:12:39"
     ]
    },
    {
     "name": "stdout",
     "output_type": "stream",
     "text": [
      "WARNING: invalid pose estimation\n",
      "13 None\n"
     ]
    },
    {
     "name": "stderr",
     "output_type": "stream",
     "text": [
      "\r",
      "                                                                               \r",
      "\r",
      " 96% (4338 of 4500) |#################### | Elapsed Time: 1:56:48 ETA:  0:12:33"
     ]
    },
    {
     "name": "stdout",
     "output_type": "stream",
     "text": [
      "WARNING: invalid pose estimation\n",
      "9 None\n"
     ]
    },
    {
     "name": "stderr",
     "output_type": "stream",
     "text": [
      "\r",
      "                                                                               \r",
      "\r",
      " 96% (4339 of 4500) |#################### | Elapsed Time: 1:56:53 ETA:  0:12:26"
     ]
    },
    {
     "name": "stdout",
     "output_type": "stream",
     "text": [
      "WARNING: invalid pose estimation\n",
      "8 None\n"
     ]
    },
    {
     "name": "stderr",
     "output_type": "stream",
     "text": [
      " 96% (4345 of 4500) |#################### | Elapsed Time: 1:57:24 ETA:  0:13:04"
     ]
    },
    {
     "name": "stdout",
     "output_type": "stream",
     "text": [
      "WARNING: invalid pose estimation\n",
      "16 None\n"
     ]
    },
    {
     "name": "stderr",
     "output_type": "stream",
     "text": [
      "\r",
      "                                                                               \r",
      "\r",
      " 96% (4346 of 4500) |#################### | Elapsed Time: 1:57:29 ETA:  0:13:18"
     ]
    },
    {
     "name": "stdout",
     "output_type": "stream",
     "text": [
      "WARNING: invalid pose estimation\n",
      "20 None\n"
     ]
    },
    {
     "name": "stderr",
     "output_type": "stream",
     "text": [
      " 96% (4348 of 4500) |#################### | Elapsed Time: 1:57:39 ETA:  0:13:10"
     ]
    },
    {
     "name": "stdout",
     "output_type": "stream",
     "text": [
      "WARNING: invalid pose estimation\n",
      "20 None\n"
     ]
    },
    {
     "name": "stderr",
     "output_type": "stream",
     "text": [
      " 96% (4352 of 4500) |#################### | Elapsed Time: 1:57:59 ETA:  0:12:39"
     ]
    },
    {
     "name": "stdout",
     "output_type": "stream",
     "text": [
      "WARNING: invalid pose estimation\n",
      "18 None\n"
     ]
    },
    {
     "name": "stderr",
     "output_type": "stream",
     "text": [
      "\r",
      "                                                                               \r",
      "\r",
      " 96% (4353 of 4500) |#################### | Elapsed Time: 1:58:05 ETA:  0:12:30"
     ]
    },
    {
     "name": "stdout",
     "output_type": "stream",
     "text": [
      "WARNING: invalid pose estimation\n",
      "14 None\n"
     ]
    },
    {
     "name": "stderr",
     "output_type": "stream",
     "text": [
      "\r",
      "                                                                               \r",
      "\r",
      " 96% (4354 of 4500) |#################### | Elapsed Time: 1:58:11 ETA:  0:12:16"
     ]
    },
    {
     "name": "stdout",
     "output_type": "stream",
     "text": [
      "WARNING: invalid pose estimation\n",
      "10 None\n"
     ]
    },
    {
     "name": "stderr",
     "output_type": "stream",
     "text": [
      "\r",
      "                                                                               \r",
      "\r",
      " 96% (4355 of 4500) |#################### | Elapsed Time: 1:58:16 ETA:  0:12:28"
     ]
    },
    {
     "name": "stdout",
     "output_type": "stream",
     "text": [
      "WARNING: invalid pose estimation\n",
      "9 None\n"
     ]
    },
    {
     "name": "stderr",
     "output_type": "stream",
     "text": [
      "\r",
      "                                                                               \r",
      "\r",
      " 96% (4356 of 4500) |#################### | Elapsed Time: 1:58:22 ETA:  0:12:21"
     ]
    },
    {
     "name": "stdout",
     "output_type": "stream",
     "text": [
      "WARNING: invalid pose estimation\n",
      "12 None\n"
     ]
    },
    {
     "name": "stderr",
     "output_type": "stream",
     "text": [
      " 96% (4363 of 4500) |#################### | Elapsed Time: 1:58:50 ETA:  0:11:24"
     ]
    },
    {
     "name": "stdout",
     "output_type": "stream",
     "text": [
      "WARNING: invalid pose estimation\n",
      "16 None\n"
     ]
    },
    {
     "name": "stderr",
     "output_type": "stream",
     "text": [
      " 97% (4365 of 4500) |#################### | Elapsed Time: 1:59:00 ETA:  0:11:27"
     ]
    },
    {
     "name": "stdout",
     "output_type": "stream",
     "text": [
      "WARNING: invalid pose estimation\n",
      "14 None\n"
     ]
    },
    {
     "name": "stderr",
     "output_type": "stream",
     "text": [
      "\r",
      "                                                                               \r",
      "\r",
      " 97% (4366 of 4500) |#################### | Elapsed Time: 1:59:06 ETA:  0:11:21"
     ]
    },
    {
     "name": "stdout",
     "output_type": "stream",
     "text": [
      "WARNING: invalid pose estimation\n",
      "17 None\n"
     ]
    },
    {
     "name": "stderr",
     "output_type": "stream",
     "text": [
      " 99% (4492 of 4500) |#################### | Elapsed Time: 2:01:11 ETA:  0:00:09"
     ]
    },
    {
     "name": "stdout",
     "output_type": "stream",
     "text": [
      "WARNING: invalid pose estimation\n",
      "32 None\n"
     ]
    },
    {
     "name": "stderr",
     "output_type": "stream",
     "text": [
      "100% (4500 of 4500) |#####################| Elapsed Time: 2:01:26 Time: 2:01:26\n"
     ]
    }
   ],
   "source": [
    "LEFTDIR = '/data/urbinn/datasets/kitti/sequences/00/image_2'\n",
    "RIGHTDIR = '/data/urbinn/datasets/kitti/sequences/00/image_3'\n",
    "\n",
    "frames = []\n",
    "seq = Sequence()\n",
    "for frameid in ProgressBar()(range(4500)):\n",
    "    filename = '%06d.png'%(frameid)\n",
    "    left_frame = Frame(LEFTDIR + '/' + filename, RIGHTDIR)\n",
    "    seq.add_frame(left_frame, clean=True)\n",
    "    frames.append(left_frame)"
   ]
  },
  {
   "cell_type": "code",
   "execution_count": null,
   "metadata": {
    "collapsed": true
   },
   "outputs": [],
   "source": [
    "trajectoryXZ = []\n",
    "points = []\n",
    "\n",
    "for frame in seq.keyframes[:]:\n",
    "    pose = frame.get_pose()\n",
    "    if pose is not None:\n",
    "        points_new = []\n",
    "        for p in points:\n",
    "            p = np.dot(pose, p)\n",
    "            points_new.append(p)\n",
    "        points = points_new\n",
    "        new_point = np.array([0,0,0,1.0])\n",
    "        points.append(new_point)\n",
    "  \n",
    "\n",
    "minx = min([p[0] for p in points])\n",
    "maxx = max([p[0] for p in points])\n",
    "miny = min([p[2] for p in points])\n",
    "maxy = max([p[2] for p in points])\n",
    "maxxy = max(maxx, minx, maxy - miny)\n",
    "\n",
    "for p in points:\n",
    "    #print(p)\n",
    "    x = 400 * (p[0] - minx) / (maxxy)\n",
    "    z = 400 * (p[2] - miny) / (maxxy)\n",
    "    trajectoryXZ.append([x, z])"
   ]
  },
  {
   "cell_type": "code",
   "execution_count": null,
   "metadata": {},
   "outputs": [
    {
     "data": {
      "image/png": "[encoded data removed]",
      "text/plain": [
       "<matplotlib.figure.Figure at 0x7f630a72ed68>"
      ]
     },
     "metadata": {},
     "output_type": "display_data"
    }
   ],
   "source": [
    "# Create a blank image\n",
    "img = np.zeros((400, 400, 3), np.uint8) \n",
    "img[:] = 255 #or img.fill(255)\n",
    "\n",
    "# Draw a black line with thickness of 2 px\n",
    "for i in range(1,len(trajectoryXZ)):\n",
    "    cv2.line(img, (int(trajectoryXZ[i - 1][0]), int(trajectoryXZ[i - 1][1])), (int(trajectoryXZ[i][0]), int(trajectoryXZ[i][1])), (0, 0, 0), 1)\n",
    "show(img)"
   ]
  },
  {
   "cell_type": "code",
   "execution_count": null,
   "metadata": {},
   "outputs": [],
   "source": [
    "seq.keyframes"
   ]
  },
  {
   "cell_type": "code",
   "execution_count": null,
   "metadata": {},
   "outputs": [],
   "source": [
    "show2(draw_frame_depth(frames[35]), draw_frame_depth(frames[36]))"
   ]
  },
  {
   "cell_type": "code",
   "execution_count": null,
   "metadata": {
    "collapsed": true
   },
   "outputs": [],
   "source": []
  }
 ],
 "metadata": {
  "kernelspec": {
   "display_name": "Python 3",
   "language": "python",
   "name": "python3"
  },
  "language_info": {
   "codemirror_mode": {
    "name": "ipython",
    "version": 3
   },
   "file_extension": ".py",
   "mimetype": "text/x-python",
   "name": "python",
   "nbconvert_exporter": "python",
   "pygments_lexer": "ipython3",
   "version": "3.6.1"
  }
 },
 "nbformat": 4,
 "nbformat_minor": 2
}
