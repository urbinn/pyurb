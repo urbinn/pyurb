{
 "cells": [
  {
   "cell_type": "code",
   "execution_count": 1,
   "metadata": {},
   "outputs": [],
   "source": [
    "from progressbar import ProgressBar\n",
    "from urb_kitti import *\n",
    "import cv2\n",
    "%matplotlib inline"
   ]
  },
  {
   "cell_type": "markdown",
   "metadata": {},
   "source": [
    "Read frames from KITTI sequence 00 into a list of frames (frame)."
   ]
  },
  {
   "cell_type": "code",
   "execution_count": 2,
   "metadata": {},
   "outputs": [
    {
     "name": "stderr",
     "output_type": "stream",
     "text": [
      " 18% (18 of 100) |####                    | Elapsed Time: 0:00:13 ETA:  0:01:14"
     ]
    },
    {
     "name": "stdout",
     "output_type": "stream",
     "text": [
      "WARNING: invalid pose estimation\n"
     ]
    },
    {
     "name": "stderr",
     "output_type": "stream",
     "text": [
      " 36% (36 of 100) |########                | Elapsed Time: 0:00:33 ETA:  0:01:09"
     ]
    },
    {
     "name": "stdout",
     "output_type": "stream",
     "text": [
      "WARNING: invalid pose estimation\n"
     ]
    },
    {
     "name": "stderr",
     "output_type": "stream",
     "text": [
      "\r",
      "                                                                               \r",
      "\r",
      " 37% (37 of 100) |########                | Elapsed Time: 0:00:35 ETA:  0:01:05"
     ]
    },
    {
     "name": "stdout",
     "output_type": "stream",
     "text": [
      "WARNING: invalid pose estimation\n"
     ]
    },
    {
     "name": "stderr",
     "output_type": "stream",
     "text": [
      "\r",
      "                                                                               \r",
      "\r",
      " 38% (38 of 100) |#########               | Elapsed Time: 0:00:36 ETA:  0:01:11"
     ]
    },
    {
     "name": "stdout",
     "output_type": "stream",
     "text": [
      "WARNING: invalid pose estimation\n"
     ]
    },
    {
     "name": "stderr",
     "output_type": "stream",
     "text": [
      " 40% (40 of 100) |#########               | Elapsed Time: 0:00:38 ETA:  0:01:05"
     ]
    },
    {
     "name": "stdout",
     "output_type": "stream",
     "text": [
      "WARNING: invalid pose estimation\n"
     ]
    },
    {
     "name": "stderr",
     "output_type": "stream",
     "text": [
      "\r",
      "                                                                               \r",
      "\r",
      " 41% (41 of 100) |#########               | Elapsed Time: 0:00:39 ETA:  0:01:10"
     ]
    },
    {
     "name": "stdout",
     "output_type": "stream",
     "text": [
      "WARNING: invalid pose estimation\n"
     ]
    },
    {
     "name": "stderr",
     "output_type": "stream",
     "text": [
      "\r",
      "                                                                               \r",
      "\r",
      " 42% (42 of 100) |##########              | Elapsed Time: 0:00:40 ETA:  0:01:09"
     ]
    },
    {
     "name": "stdout",
     "output_type": "stream",
     "text": [
      "WARNING: invalid pose estimation\n"
     ]
    },
    {
     "name": "stderr",
     "output_type": "stream",
     "text": [
      "\r",
      "                                                                               \r",
      "\r",
      " 43% (43 of 100) |##########              | Elapsed Time: 0:00:42 ETA:  0:01:07"
     ]
    },
    {
     "name": "stdout",
     "output_type": "stream",
     "text": [
      "WARNING: invalid pose estimation\n"
     ]
    },
    {
     "name": "stderr",
     "output_type": "stream",
     "text": [
      "\r",
      "                                                                               \r",
      "\r",
      " 44% (44 of 100) |##########              | Elapsed Time: 0:00:43 ETA:  0:01:05"
     ]
    },
    {
     "name": "stdout",
     "output_type": "stream",
     "text": [
      "WARNING: invalid pose estimation\n"
     ]
    },
    {
     "name": "stderr",
     "output_type": "stream",
     "text": [
      "\r",
      "                                                                               \r",
      "\r",
      " 45% (45 of 100) |##########              | Elapsed Time: 0:00:44 ETA:  0:01:03"
     ]
    },
    {
     "name": "stdout",
     "output_type": "stream",
     "text": [
      "WARNING: invalid pose estimation\n"
     ]
    },
    {
     "name": "stderr",
     "output_type": "stream",
     "text": [
      "\r",
      "                                                                               \r",
      "\r",
      " 46% (46 of 100) |###########             | Elapsed Time: 0:00:45 ETA:  0:01:01"
     ]
    },
    {
     "name": "stdout",
     "output_type": "stream",
     "text": [
      "WARNING: invalid pose estimation\n"
     ]
    },
    {
     "name": "stderr",
     "output_type": "stream",
     "text": [
      "\r",
      "                                                                               \r",
      "\r",
      " 47% (47 of 100) |###########             | Elapsed Time: 0:00:46 ETA:  0:00:58"
     ]
    },
    {
     "name": "stdout",
     "output_type": "stream",
     "text": [
      "WARNING: invalid pose estimation\n"
     ]
    },
    {
     "name": "stderr",
     "output_type": "stream",
     "text": [
      "\r",
      "                                                                               \r",
      "\r",
      " 48% (48 of 100) |###########             | Elapsed Time: 0:00:47 ETA:  0:00:55"
     ]
    },
    {
     "name": "stdout",
     "output_type": "stream",
     "text": [
      "WARNING: invalid pose estimation\n"
     ]
    },
    {
     "name": "stderr",
     "output_type": "stream",
     "text": [
      "\r",
      "                                                                               \r",
      "\r",
      " 49% (49 of 100) |###########             | Elapsed Time: 0:00:48 ETA:  0:00:53"
     ]
    },
    {
     "name": "stdout",
     "output_type": "stream",
     "text": [
      "WARNING: invalid pose estimation\n"
     ]
    },
    {
     "name": "stderr",
     "output_type": "stream",
     "text": [
      " 51% (51 of 100) |############            | Elapsed Time: 0:00:49 ETA:  0:00:48"
     ]
    },
    {
     "name": "stdout",
     "output_type": "stream",
     "text": [
      "WARNING: invalid pose estimation\n"
     ]
    },
    {
     "name": "stderr",
     "output_type": "stream",
     "text": [
      " 53% (53 of 100) |############            | Elapsed Time: 0:00:51 ETA:  0:00:44"
     ]
    },
    {
     "name": "stdout",
     "output_type": "stream",
     "text": [
      "WARNING: invalid pose estimation\n"
     ]
    },
    {
     "name": "stderr",
     "output_type": "stream",
     "text": [
      " 56% (57 of 100) |#############           | Elapsed Time: 0:00:55 ETA:  0:00:40"
     ]
    },
    {
     "name": "stdout",
     "output_type": "stream",
     "text": [
      "WARNING: invalid pose estimation\n"
     ]
    },
    {
     "name": "stderr",
     "output_type": "stream",
     "text": [
      " 62% (62 of 100) |##############          | Elapsed Time: 0:00:59 ETA:  0:00:31"
     ]
    },
    {
     "name": "stdout",
     "output_type": "stream",
     "text": [
      "WARNING: invalid pose estimation\n"
     ]
    },
    {
     "name": "stderr",
     "output_type": "stream",
     "text": [
      " 65% (65 of 100) |###############         | Elapsed Time: 0:01:02 ETA:  0:00:28"
     ]
    },
    {
     "name": "stdout",
     "output_type": "stream",
     "text": [
      "WARNING: invalid pose estimation\n"
     ]
    },
    {
     "name": "stderr",
     "output_type": "stream",
     "text": [
      " 68% (68 of 100) |################        | Elapsed Time: 0:01:04 ETA:  0:00:25"
     ]
    },
    {
     "name": "stdout",
     "output_type": "stream",
     "text": [
      "WARNING: invalid pose estimation\n"
     ]
    },
    {
     "name": "stderr",
     "output_type": "stream",
     "text": [
      " 73% (73 of 100) |#################       | Elapsed Time: 0:01:07 ETA:  0:00:18"
     ]
    },
    {
     "name": "stdout",
     "output_type": "stream",
     "text": [
      "WARNING: invalid pose estimation\n"
     ]
    },
    {
     "name": "stderr",
     "output_type": "stream",
     "text": [
      "100% (100 of 100) |#######################| Elapsed Time: 0:01:18 Time: 0:01:18\n"
     ]
    }
   ],
   "source": [
    "bar = ProgressBar()\n",
    "LEFTDIR = '/data/urbinn/datasets/kitti/sequences/00/image_2'\n",
    "RIGHTDIR = '/data/urbinn/datasets/kitti/sequences/00/image_3'\n",
    "\n",
    "seq = Sequence()\n",
    "for frameid in bar(range(100)):\n",
    "    filename = '%06d.png'%(frameid)\n",
    "    left_frame = Frame(LEFTDIR + '/' + filename, RIGHTDIR)\n",
    "    seq.add_frame(left_frame, clean=True)"
   ]
  },
  {
   "cell_type": "code",
   "execution_count": 3,
   "metadata": {
    "collapsed": true
   },
   "outputs": [],
   "source": [
    "trajectoryXZ = []\n",
    "points = []\n",
    "\n",
    "for frame in seq.keyframes[:]:\n",
    "    pose = frame.get_pose()\n",
    "    if pose is not None:\n",
    "        points_new = []\n",
    "        for p in points:\n",
    "            p = np.dot(pose, p)\n",
    "            points_new.append(p)\n",
    "        points = points_new\n",
    "        new_point = np.array([0,0,0,1.0])\n",
    "        points.append(new_point)\n",
    "  \n",
    "\n",
    "minx = min([p[0] for p in points])\n",
    "maxx = max([p[0] for p in points])\n",
    "miny = min([p[2] for p in points])\n",
    "maxy = max([p[2] for p in points])\n",
    "maxxy = max(maxx - minx, maxy - miny)\n",
    "\n",
    "for p in points:\n",
    "    #print(p)\n",
    "    x = 400 * (p[0] - minx) / (maxxy)\n",
    "    z = 400 * (p[2] - miny) / (maxxy)\n",
    "    trajectoryXZ.append([x, z])"
   ]
  },
  {
   "cell_type": "code",
   "execution_count": 4,
   "metadata": {},
   "outputs": [
    {
     "data": {
      "image/png": "[encoded data removed]",
      "text/plain": [
       "<matplotlib.figure.Figure at 0x7f2e52f15f98>"
      ]
     },
     "metadata": {},
     "output_type": "display_data"
    }
   ],
   "source": [
    "# Create a blank image\n",
    "img = np.zeros((400, 400, 3), np.uint8) \n",
    "img[:] = 255 #or img.fill(255)\n",
    "\n",
    "# Draw a black line with thickness of 2 px\n",
    "for i in range(1,len(trajectoryXZ)):\n",
    "    cv2.line(img, (int(trajectoryXZ[i - 1][0]), int(trajectoryXZ[i - 1][1])), (int(trajectoryXZ[i][0]), int(trajectoryXZ[i][1])), (0, 0, 0), 1)\n",
    "show(img)"
   ]
  },
  {
   "cell_type": "code",
   "execution_count": null,
   "metadata": {
    "collapsed": true
   },
   "outputs": [],
   "source": []
  }
 ],
 "metadata": {
  "kernelspec": {
   "display_name": "Python 3",
   "language": "python",
   "name": "python3"
  },
  "language_info": {
   "codemirror_mode": {
    "name": "ipython",
    "version": 3
   },
   "file_extension": ".py",
   "mimetype": "text/x-python",
   "name": "python",
   "nbconvert_exporter": "python",
   "pygments_lexer": "ipython3",
   "version": "3.6.1"
  }
 },
 "nbformat": 4,
 "nbformat_minor": 2
}
