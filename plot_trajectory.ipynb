{
 "cells": [
  {
   "cell_type": "code",
   "execution_count": 65,
   "metadata": {},
   "outputs": [
    {
     "data": {
      "text/html": [
       "<script>requirejs.config({paths: { 'plotly': ['https://cdn.plot.ly/plotly-latest.min']},});if(!window.Plotly) {{require(['plotly'],function(plotly) {window.Plotly=plotly;});}}</script>"
      ],
      "text/vnd.plotly.v1+html": [
       "<script>requirejs.config({paths: { 'plotly': ['https://cdn.plot.ly/plotly-latest.min']},});if(!window.Plotly) {{require(['plotly'],function(plotly) {window.Plotly=plotly;});}}</script>"
      ]
     },
     "metadata": {},
     "output_type": "display_data"
    }
   ],
   "source": [
    "from collections import defaultdict\n",
    "import cv2\n",
    "import numpy as np\n",
    "import matplotlib.pyplot as plt\n",
    "from mpl_toolkits.mplot3d import Axes3D\n",
    "%matplotlib inline\n",
    "from urb_frame import *\n",
    "from urb_sequence import *\n",
    "from plotly.offline import *\n",
    "from plotly.graph_objs import Scatter, Figure, Layout\n",
    "init_notebook_mode(connected=True)"
   ]
  },
  {
   "cell_type": "markdown",
   "metadata": {},
   "source": [
    "Read frames from KITTI sequence 00 into a list of frames (frame)."
   ]
  },
  {
   "cell_type": "code",
   "execution_count": 96,
   "metadata": {},
   "outputs": [
    {
     "name": "stdout",
     "output_type": "stream",
     "text": [
      "0\n",
      "1\n",
      "2\n",
      "3\n",
      "4\n",
      "5\n",
      "6\n",
      "7\n",
      "8\n",
      "9\n",
      "10\n",
      "11\n",
      "12\n",
      "13\n",
      "14\n",
      "15\n",
      "16\n",
      "17\n",
      "18\n",
      "19\n",
      "20\n",
      "21\n",
      "22\n",
      "23\n",
      "24\n",
      "25\n",
      "26\n",
      "27\n",
      "28\n",
      "29\n",
      "30\n",
      "31\n",
      "32\n",
      "33\n",
      "34\n",
      "35\n",
      "36\n",
      "37\n",
      "38\n",
      "39\n",
      "40\n",
      "41\n",
      "42\n",
      "43\n",
      "44\n",
      "45\n",
      "46\n",
      "47\n",
      "48\n",
      "49\n",
      "50\n",
      "51\n",
      "52\n",
      "53\n",
      "54\n",
      "55\n",
      "56\n",
      "57\n",
      "58\n",
      "59\n",
      "60\n",
      "61\n",
      "62\n",
      "63\n",
      "64\n",
      "65\n",
      "66\n",
      "67\n",
      "68\n",
      "69\n",
      "70\n",
      "71\n",
      "72\n",
      "73\n",
      "74\n",
      "75\n",
      "76\n",
      "77\n",
      "78\n",
      "79\n",
      "80\n",
      "81\n",
      "82\n",
      "83\n",
      "84\n",
      "85\n",
      "86\n",
      "87\n",
      "88\n",
      "89\n",
      "90\n",
      "91\n",
      "92\n",
      "93\n",
      "94\n",
      "95\n",
      "96\n",
      "97\n",
      "98\n",
      "99\n",
      "100\n",
      "101\n",
      "102\n",
      "103\n",
      "104\n",
      "105\n",
      "106\n",
      "107\n",
      "108\n",
      "109\n",
      "110\n",
      "111\n",
      "112\n",
      "113\n",
      "114\n",
      "115\n",
      "116\n",
      "117\n",
      "118\n",
      "119\n",
      "120\n",
      "121\n",
      "122\n",
      "123\n",
      "124\n",
      "125\n",
      "126\n",
      "127\n",
      "128\n",
      "129\n",
      "130\n",
      "131\n",
      "132\n",
      "133\n",
      "134\n",
      "135\n",
      "136\n",
      "137\n",
      "138\n",
      "139\n",
      "140\n",
      "141\n",
      "142\n",
      "143\n",
      "144\n",
      "145\n",
      "146\n",
      "147\n",
      "148\n",
      "149\n",
      "CPU times: user 4min 51s, sys: 11.3 s, total: 5min 3s\n",
      "Wall time: 2min 36s\n"
     ]
    }
   ],
   "source": [
    "%%time\n",
    "LEFTDIR = '/data/urbinn/datasets/kitti/sequences/00/image_2'\n",
    "RIGHTDIR = '/data/urbinn/datasets/kitti/sequences/00/image_3'\n",
    "\n",
    "frame = []\n",
    "for frameid in range(150):\n",
    "    print(frameid)\n",
    "    filename = '%06d.png'%(frameid)\n",
    "    left_frame = Frame(LEFTDIR + '/' + filename)\n",
    "    left_frame.get_framepoints()\n",
    "    frame.append(left_frame)\n",
    "    left_frame.read_corresponding(RIGHTDIR)\n",
    "    left_frame.compute_depth()"
   ]
  },
  {
   "cell_type": "markdown",
   "metadata": {},
   "source": [
    "We can also manually compute the Depth of the points and show these"
   ]
  },
  {
   "cell_type": "markdown",
   "metadata": {},
   "source": [
    "Turn the list of frames into a sequence. The first frame is automatically taken as the KeyFrame and its FramePoints are rerieved, depth is estimated, only the most confident points are kept.\n",
    "\n",
    "If a new frame is added and its pose can not be reliably determined, the previous frame is turned in and they are tracked in the other frames."
   ]
  },
  {
   "cell_type": "code",
   "execution_count": 97,
   "metadata": {
    "collapsed": true
   },
   "outputs": [],
   "source": [
    "seq = create_sequence(frame)"
   ]
  },
  {
   "cell_type": "code",
   "execution_count": 86,
   "metadata": {},
   "outputs": [
    {
     "data": {
      "text/plain": [
       "array([[  9.99894537e-01,  -2.24523238e-03,   1.43482815e-02,\n",
       "         -4.63461489e-03],\n",
       "       [  2.21789896e-03,   9.99995696e-01,   1.92062440e-03,\n",
       "          1.02355547e-02],\n",
       "       [ -1.43525320e-02,  -1.88859881e-03,   9.99895214e-01,\n",
       "         -2.36522893e+00],\n",
       "       [  0.00000000e+00,   0.00000000e+00,   0.00000000e+00,\n",
       "          1.00000000e+00]])"
      ]
     },
     "execution_count": 86,
     "metadata": {},
     "output_type": "execute_result"
    }
   ],
   "source": [
    "kf = seq.keyframes[2]\n",
    "kf.get_pose()"
   ]
  },
  {
   "cell_type": "code",
   "execution_count": 69,
   "metadata": {},
   "outputs": [
    {
     "data": {
      "text/plain": [
       "array([[  9.99494576e-01,  -1.65213557e-03,   3.17468624e-02,\n",
       "         -9.00927604e-02],\n",
       "       [  1.42382033e-03,   9.99972972e-01,   7.21300308e-03,\n",
       "          1.13086799e-02],\n",
       "       [ -3.17579212e-02,  -7.16415563e-03,   9.99469914e-01,\n",
       "         -5.29998042e+00],\n",
       "       [  0.00000000e+00,   0.00000000e+00,   0.00000000e+00,\n",
       "          1.00000000e+00]])"
      ]
     },
     "execution_count": 69,
     "metadata": {},
     "output_type": "execute_result"
    }
   ],
   "source": [
    "kf.get_pose_wrt(seq.keyframes[0])"
   ]
  },
  {
   "cell_type": "code",
   "execution_count": 70,
   "metadata": {
    "collapsed": true
   },
   "outputs": [],
   "source": [
    "def plot_frame(frame):\n",
    "    coords = frame.get_framepoints_xyz()\n",
    "    layout = Layout(\n",
    "                    scene = dict(\n",
    "                    xaxis = dict(\n",
    "                        nticks=4, range = [-100,100], mirror='ticks'),\n",
    "                    yaxis = dict(\n",
    "                        nticks=4, range = [-100, 100],),\n",
    "                    zaxis = dict(\n",
    "                        nticks=4, range = [0,200],),),\n",
    "                    width=900,\n",
    "                    height=300,\n",
    "                    margin=dict(\n",
    "                    r=20, l=10,\n",
    "                    b=10, t=10)\n",
    "                  )\n",
    "    scatter = Scatter(x=-coords[:,0], y=coords[:,2], mode='markers', marker=dict(size=2))\n",
    "    iplot(dict(data=[scatter], layout=layout))\n",
    "\n"
   ]
  },
  {
   "cell_type": "code",
   "execution_count": 71,
   "metadata": {},
   "outputs": [
    {
     "data": {
      "application/vnd.plotly.v1+json": {
       "data": [
        {
         "marker": {
          "size": 2
         },
         "mode": "markers",
         "type": "scatter",
         "x": [
          7.370042170087894,
          7.544813745837591,
          10.803376979852809,
          -11.209557426957309,
          1.3938602174927117,
          9.7671734173793,
          -2.9528987534566262,
          -9.908453617820099,
          15.327801397537096,
          17.45990135570503,
          14.132529792277774,
          13.716998904105049,
          9.431065318935977,
          14.089863619806692,
          19.087850437043382,
          15.88127030766981,
          13.957621290935245,
          16.062754529051254,
          -3.220698712066911,
          16.883195089194466,
          13.809934855696607,
          13.840292735305516,
          9.367996918718745,
          14.169902739627396,
          13.954616335462465,
          -4.2613761598943,
          -3.0641264724952957,
          14.182510323214071,
          13.872396965538668,
          9.401835431946248,
          13.813820164500806,
          -3.3008201480919332,
          7.2650383512951695,
          -2.927598393557104,
          -3.7647518751590363,
          6.023545972555322,
          -2.2977440116996077,
          5.368404708010179,
          6.734272479417339,
          -0.23056633673368612,
          10.844731139019466,
          -11.188497112263285,
          8.087778466652955,
          -8.797644087769092,
          9.917724099120532,
          11.174058209926383,
          14.012411354053869,
          -2.664112796419512,
          -10.984009248346506,
          -11.129436027178665,
          9.43297779340359,
          15.016031602943922,
          -2.723413065987472,
          -6.721352897496203,
          -2.5437075459729868,
          14.866689134459309,
          15.433467942752298,
          -2.955747998048604,
          13.984549735145182,
          13.628427927777254,
          15.551128642287136,
          -1.4811591013196803,
          13.983428833230436,
          12.189425848198168,
          9.351685944779334,
          13.95869504307692,
          9.301371503841422,
          -3.5153309327868514,
          14.573812853950693,
          13.904631474751138,
          13.84731725915346,
          9.737188799316947,
          9.385173171498145,
          9.823213406197354,
          9.380618267326525,
          -2.6271243364547883,
          7.757526056753805,
          -2.288479904748744
         ],
         "y": [
          29.565914669678147,
          29.768655128401488,
          18.307883495969453,
          24.21238967700466,
          39.77266443213694,
          29.60119874685747,
          15.863936965386147,
          23.757772774942318,
          24.259481879562877,
          24.174362296543197,
          36.38795067909212,
          30.415687714870096,
          18.31364059730238,
          36.40850159414535,
          128.00687932185048,
          24.488465819914612,
          36.32795572772551,
          46.901483186086956,
          55.37846575139147,
          72.15877308088083,
          33.975356444876944,
          34.64285133377572,
          18.093420380519134,
          33.81926660862275,
          33.86766889824872,
          12.881509982864173,
          15.424052145214521,
          37.8731624356386,
          34.48307078550802,
          18.25688076933736,
          35.56734811274642,
          15.528158152081676,
          26.218399505698198,
          15.496392465192464,
          7.542531125265392,
          10.633935972461273,
          8.104458867372367,
          10.654849943956272,
          29.847022663546287,
          24.348336255586954,
          18.377964094795992,
          24.239734038722297,
          28.060570045987486,
          18.131045570037944,
          16.807016703247648,
          32.234233045877886,
          32.57807418649382,
          15.594472216473832,
          24.01383227687647,
          23.895728242264646,
          17.882598732504757,
          24.192152840578906,
          24.22731913695179,
          23.25080583580613,
          24.121184157546487,
          24.27801791497017,
          24.426721496807403,
          15.418332154526235,
          35.373441847955064,
          33.4144535147188,
          24.451439592399446,
          42.920608006476414,
          24.094547454655732,
          45.355944463418616,
          18.06191724160245,
          36.06955925489841,
          18.061795674484834,
          52.85849690045488,
          24.1286193896803,
          34.20833012796244,
          35.4000070259481,
          18.362457505812763,
          18.175428093892098,
          18.427997332740606,
          18.215680383781848,
          23.963852186177714,
          10.679090464391336,
          8.111583367888633
         ]
        }
       ],
       "layout": {
        "height": 300,
        "margin": {
         "b": 10,
         "l": 10,
         "r": 20,
         "t": 10
        },
        "scene": {
         "xaxis": {
          "mirror": "ticks",
          "nticks": 4,
          "range": [
           -100,
           100
          ]
         },
         "yaxis": {
          "nticks": 4,
          "range": [
           -100,
           100
          ]
         },
         "zaxis": {
          "nticks": 4,
          "range": [
           0,
           200
          ]
         }
        },
        "width": 900
       }
      },
      "text/html": [
       "<div id=\"c78fbfb2-bf3c-4429-be29-79f343ab8d1a\" style=\"height: 300px; width: 900px;\" class=\"plotly-graph-div\"></div><script type=\"text/javascript\">require([\"plotly\"], function(Plotly) { window.PLOTLYENV=window.PLOTLYENV || {};window.PLOTLYENV.BASE_URL=\"https://plot.ly\";Plotly.newPlot(\"c78fbfb2-bf3c-4429-be29-79f343ab8d1a\", [{\"type\": \"scatter\", \"x\": [7.370042170087894, 7.544813745837591, 10.803376979852809, -11.209557426957309, 1.3938602174927117, 9.7671734173793, -2.9528987534566262, -9.908453617820099, 15.327801397537096, 17.45990135570503, 14.132529792277774, 13.716998904105049, 9.431065318935977, 14.089863619806692, 19.087850437043382, 15.88127030766981, 13.957621290935245, 16.062754529051254, -3.220698712066911, 16.883195089194466, 13.809934855696607, 13.840292735305516, 9.367996918718745, 14.169902739627396, 13.954616335462465, -4.2613761598943, -3.0641264724952957, 14.182510323214071, 13.872396965538668, 9.401835431946248, 13.813820164500806, -3.3008201480919332, 7.2650383512951695, -2.927598393557104, -3.7647518751590363, 6.023545972555322, -2.2977440116996077, 5.368404708010179, 6.734272479417339, -0.23056633673368612, 10.844731139019466, -11.188497112263285, 8.087778466652955, -8.797644087769092, 9.917724099120532, 11.174058209926383, 14.012411354053869, -2.664112796419512, -10.984009248346506, -11.129436027178665, 9.43297779340359, 15.016031602943922, -2.723413065987472, -6.721352897496203, -2.5437075459729868, 14.866689134459309, 15.433467942752298, -2.955747998048604, 13.984549735145182, 13.628427927777254, 15.551128642287136, -1.4811591013196803, 13.983428833230436, 12.189425848198168, 9.351685944779334, 13.95869504307692, 9.301371503841422, -3.5153309327868514, 14.573812853950693, 13.904631474751138, 13.84731725915346, 9.737188799316947, 9.385173171498145, 9.823213406197354, 9.380618267326525, -2.6271243364547883, 7.757526056753805, -2.288479904748744], \"y\": [29.565914669678147, 29.768655128401488, 18.307883495969453, 24.21238967700466, 39.77266443213694, 29.60119874685747, 15.863936965386147, 23.757772774942318, 24.259481879562877, 24.174362296543197, 36.38795067909212, 30.415687714870096, 18.31364059730238, 36.40850159414535, 128.00687932185048, 24.488465819914612, 36.32795572772551, 46.901483186086956, 55.37846575139147, 72.15877308088083, 33.975356444876944, 34.64285133377572, 18.093420380519134, 33.81926660862275, 33.86766889824872, 12.881509982864173, 15.424052145214521, 37.8731624356386, 34.48307078550802, 18.25688076933736, 35.56734811274642, 15.528158152081676, 26.218399505698198, 15.496392465192464, 7.542531125265392, 10.633935972461273, 8.104458867372367, 10.654849943956272, 29.847022663546287, 24.348336255586954, 18.377964094795992, 24.239734038722297, 28.060570045987486, 18.131045570037944, 16.807016703247648, 32.234233045877886, 32.57807418649382, 15.594472216473832, 24.01383227687647, 23.895728242264646, 17.882598732504757, 24.192152840578906, 24.22731913695179, 23.25080583580613, 24.121184157546487, 24.27801791497017, 24.426721496807403, 15.418332154526235, 35.373441847955064, 33.4144535147188, 24.451439592399446, 42.920608006476414, 24.094547454655732, 45.355944463418616, 18.06191724160245, 36.06955925489841, 18.061795674484834, 52.85849690045488, 24.1286193896803, 34.20833012796244, 35.4000070259481, 18.362457505812763, 18.175428093892098, 18.427997332740606, 18.215680383781848, 23.963852186177714, 10.679090464391336, 8.111583367888633], \"mode\": \"markers\", \"marker\": {\"size\": 2}}], {\"scene\": {\"xaxis\": {\"nticks\": 4, \"range\": [-100, 100], \"mirror\": \"ticks\"}, \"yaxis\": {\"nticks\": 4, \"range\": [-100, 100]}, \"zaxis\": {\"nticks\": 4, \"range\": [0, 200]}}, \"width\": 900, \"height\": 300, \"margin\": {\"r\": 20, \"l\": 10, \"b\": 10, \"t\": 10}}, {\"showLink\": true, \"linkText\": \"Export to plot.ly\"})});</script>"
      ],
      "text/vnd.plotly.v1+html": [
       "<div id=\"c78fbfb2-bf3c-4429-be29-79f343ab8d1a\" style=\"height: 300px; width: 900px;\" class=\"plotly-graph-div\"></div><script type=\"text/javascript\">require([\"plotly\"], function(Plotly) { window.PLOTLYENV=window.PLOTLYENV || {};window.PLOTLYENV.BASE_URL=\"https://plot.ly\";Plotly.newPlot(\"c78fbfb2-bf3c-4429-be29-79f343ab8d1a\", [{\"type\": \"scatter\", \"x\": [7.370042170087894, 7.544813745837591, 10.803376979852809, -11.209557426957309, 1.3938602174927117, 9.7671734173793, -2.9528987534566262, -9.908453617820099, 15.327801397537096, 17.45990135570503, 14.132529792277774, 13.716998904105049, 9.431065318935977, 14.089863619806692, 19.087850437043382, 15.88127030766981, 13.957621290935245, 16.062754529051254, -3.220698712066911, 16.883195089194466, 13.809934855696607, 13.840292735305516, 9.367996918718745, 14.169902739627396, 13.954616335462465, -4.2613761598943, -3.0641264724952957, 14.182510323214071, 13.872396965538668, 9.401835431946248, 13.813820164500806, -3.3008201480919332, 7.2650383512951695, -2.927598393557104, -3.7647518751590363, 6.023545972555322, -2.2977440116996077, 5.368404708010179, 6.734272479417339, -0.23056633673368612, 10.844731139019466, -11.188497112263285, 8.087778466652955, -8.797644087769092, 9.917724099120532, 11.174058209926383, 14.012411354053869, -2.664112796419512, -10.984009248346506, -11.129436027178665, 9.43297779340359, 15.016031602943922, -2.723413065987472, -6.721352897496203, -2.5437075459729868, 14.866689134459309, 15.433467942752298, -2.955747998048604, 13.984549735145182, 13.628427927777254, 15.551128642287136, -1.4811591013196803, 13.983428833230436, 12.189425848198168, 9.351685944779334, 13.95869504307692, 9.301371503841422, -3.5153309327868514, 14.573812853950693, 13.904631474751138, 13.84731725915346, 9.737188799316947, 9.385173171498145, 9.823213406197354, 9.380618267326525, -2.6271243364547883, 7.757526056753805, -2.288479904748744], \"y\": [29.565914669678147, 29.768655128401488, 18.307883495969453, 24.21238967700466, 39.77266443213694, 29.60119874685747, 15.863936965386147, 23.757772774942318, 24.259481879562877, 24.174362296543197, 36.38795067909212, 30.415687714870096, 18.31364059730238, 36.40850159414535, 128.00687932185048, 24.488465819914612, 36.32795572772551, 46.901483186086956, 55.37846575139147, 72.15877308088083, 33.975356444876944, 34.64285133377572, 18.093420380519134, 33.81926660862275, 33.86766889824872, 12.881509982864173, 15.424052145214521, 37.8731624356386, 34.48307078550802, 18.25688076933736, 35.56734811274642, 15.528158152081676, 26.218399505698198, 15.496392465192464, 7.542531125265392, 10.633935972461273, 8.104458867372367, 10.654849943956272, 29.847022663546287, 24.348336255586954, 18.377964094795992, 24.239734038722297, 28.060570045987486, 18.131045570037944, 16.807016703247648, 32.234233045877886, 32.57807418649382, 15.594472216473832, 24.01383227687647, 23.895728242264646, 17.882598732504757, 24.192152840578906, 24.22731913695179, 23.25080583580613, 24.121184157546487, 24.27801791497017, 24.426721496807403, 15.418332154526235, 35.373441847955064, 33.4144535147188, 24.451439592399446, 42.920608006476414, 24.094547454655732, 45.355944463418616, 18.06191724160245, 36.06955925489841, 18.061795674484834, 52.85849690045488, 24.1286193896803, 34.20833012796244, 35.4000070259481, 18.362457505812763, 18.175428093892098, 18.427997332740606, 18.215680383781848, 23.963852186177714, 10.679090464391336, 8.111583367888633], \"mode\": \"markers\", \"marker\": {\"size\": 2}}], {\"scene\": {\"xaxis\": {\"nticks\": 4, \"range\": [-100, 100], \"mirror\": \"ticks\"}, \"yaxis\": {\"nticks\": 4, \"range\": [-100, 100]}, \"zaxis\": {\"nticks\": 4, \"range\": [0, 200]}}, \"width\": 900, \"height\": 300, \"margin\": {\"r\": 20, \"l\": 10, \"b\": 10, \"t\": 10}}, {\"showLink\": true, \"linkText\": \"Export to plot.ly\"})});</script>"
      ]
     },
     "metadata": {},
     "output_type": "display_data"
    }
   ],
   "source": [
    "plot_frame(frame[0]);"
   ]
  },
  {
   "cell_type": "code",
   "execution_count": 91,
   "metadata": {},
   "outputs": [
    {
     "name": "stdout",
     "output_type": "stream",
     "text": [
      "<urb_frame.Frame object at 0x7f51a83ebcc0>\n",
      "<urb_frame.Frame object at 0x7f51a83c2ba8>\n",
      "<urb_frame.Frame object at 0x7f518c779518>\n",
      "<urb_frame.Frame object at 0x7f518c272898>\n",
      "<urb_frame.Frame object at 0x7f518c210e48>\n",
      "<urb_frame.Frame object at 0x7f518c0fc6a0>\n",
      "<urb_frame.Frame object at 0x7f510c7c6400>\n",
      "<urb_frame.Frame object at 0x7f510c6c6978>\n",
      "<urb_frame.Frame object at 0x7f510c5d7470>\n",
      "<urb_frame.Frame object at 0x7f510c4f9c50>\n",
      "<urb_frame.Frame object at 0x7f510c4a0f98>\n",
      "<urb_frame.Frame object at 0x7f510c4b2080>\n",
      "<urb_frame.Frame object at 0x7f51c824f518>\n",
      "<urb_frame.Frame object at 0x7f518c3884a8>\n",
      "<urb_frame.Frame object at 0x7f518c3d9438>\n",
      "<urb_frame.Frame object at 0x7f518c3b0e10>\n",
      "<urb_frame.Frame object at 0x7f510c3391d0>\n",
      "<urb_frame.Frame object at 0x7f510c2c9780>\n",
      "[[50.0, 50.0], [49.955692991078813, 47.064830874045761], [49.909907239643509, 44.700019576592062], [49.937919726276448, 45.103528790903994], [49.930998230068447, 45.755764507885793], [49.983294001140401, 45.707899314424495], [50.004680367909032, 44.75509858713113], [50.018950819194714, 44.543586689825162], [50.084947557962707, 44.369001419807425], [50.06121653388891, 45.24104728339686], [50.044263635516856, 46.15891245559866], [50.048408779499084, 47.109154269875873], [49.999503152608284, 47.059934532247695], [49.949886641060687, 45.996446201636481], [50.003240338812624, 45.946253665218762], [49.994996102318318, 44.957598520017783], [49.919192727088905, 44.942018017640706], [49.885207166351265, 46.011722258589735]]\n"
     ]
    }
   ],
   "source": [
    "totalKF = len(seq.keyframes)\n",
    "trajectoryXZ = []\n",
    "\n",
    "for frame in seq.keyframes[:18]:\n",
    "    print(frame)\n",
    "    pose = frame.get_pose_wrt(seq.keyframes[0])\n",
    "    x = pose[0][3] + 50\n",
    "    z = pose[2][3] + 50\n",
    "    trajectoryXZ.append([x, z])\n",
    "    \n",
    "print(trajectoryXZ)"
   ]
  },
  {
   "cell_type": "code",
   "execution_count": 102,
   "metadata": {},
   "outputs": [],
   "source": [
    "seq_counts = len(seq.keyframes)"
   ]
  },
  {
   "cell_type": "code",
   "execution_count": 114,
   "metadata": {},
   "outputs": [
    {
     "name": "stdout",
     "output_type": "stream",
     "text": [
      "[ -0.74524134   0.66241154 -51.31370374   1.        ]\n",
      "[ -0.54223445   0.60639489 -48.38573233   1.        ]\n",
      "[ -0.44369951   0.56013488 -46.02298288   1.        ]\n",
      "[ -0.35605277   0.51862178 -43.49288396   1.        ]\n",
      "[ -0.29561259   0.4943446  -41.78084011   1.        ]\n",
      "[ -0.27461041   0.46285158 -39.20207528   1.        ]\n",
      "[ -0.23590803   0.48433275 -36.53574056   1.        ]\n",
      "[ -0.25245232   0.46214663 -33.74535061   1.        ]\n",
      "[ -0.28374816   0.4244705  -30.90461913   1.        ]\n",
      "[ -0.28339594   0.38252344 -28.98665638   1.        ]\n",
      "[ -0.29649039   0.34478016 -27.06331444   1.        ]\n",
      "[ -0.29761374   0.31260216 -26.09508581   1.        ]\n",
      "[ -0.251262     0.27987255 -24.12372619   1.        ]\n",
      "[ -0.18480851   0.22695582 -22.09355355   1.        ]\n",
      "[ -0.18912439   0.20073691 -20.07068168   1.        ]\n",
      "[ -0.10881653   0.18210638 -17.05149848   1.        ]\n",
      "[ -0.06217497   0.16268066 -15.01377298   1.        ]\n",
      "[  0.02990024   0.29371384 -13.06325687   1.        ]\n",
      "[  0.03797455   0.19517705 -11.0072441    1.        ]\n",
      "[ 0.04495629  0.16233319 -8.95748292  1.        ]\n",
      "[-0.01794314  0.12871415 -6.05576199  1.        ]\n",
      "[  9.77041069e-04   9.88861090e-02  -4.06429947e+00   1.00000000e+00]\n",
      "[-0.00497074  0.08634301 -3.07079744  1.        ]\n",
      "[ 0.  0.  0.  1.]\n"
     ]
    }
   ],
   "source": [
    "trajectoryXZ = []\n",
    "points = []\n",
    "\n",
    "for frame in seq.keyframes[:30]:\n",
    "    pose = frame.get_pose()\n",
    "    if pose is not None:\n",
    "        points_new = []\n",
    "        for p in points:\n",
    "            p = np.dot(pose, p)\n",
    "            points_new.append(p)\n",
    "        points = points_new\n",
    "        new_point = np.array([0,0,0,1.0])\n",
    "        points.append(new_point)\n",
    "  \n",
    "    \n",
    "for p in points:\n",
    "    print(p)\n",
    "    x = p[0] + 50\n",
    "    z = p[2] + 50\n",
    "    trajectoryXZ.append([x, z])"
   ]
  },
  {
   "cell_type": "code",
   "execution_count": 115,
   "metadata": {},
   "outputs": [
    {
     "data": {
      "text/plain": [
       "[[49.254758655764732, -1.3137037423036588],\n",
       " [49.457765546105392, 1.6142676665281073],\n",
       " [49.556300488630775, 3.977017123404373],\n",
       " [49.643947232558048, 6.5071160423705052],\n",
       " [49.704387412500921, 8.2191598882918484],\n",
       " [49.72538958926237, 10.797924723712114],\n",
       " [49.764091969051286, 13.464259443133606],\n",
       " [49.74754768232377, 16.254649385051572],\n",
       " [49.716251842129715, 19.095380866401324],\n",
       " [49.716604057608677, 21.013343620502525],\n",
       " [49.703509614247579, 22.936685561900546],\n",
       " [49.702386261043912, 23.904914193625444],\n",
       " [49.748737999609446, 25.876273814526485],\n",
       " [49.815191493462429, 27.906446445740723],\n",
       " [49.810875607553591, 29.929318322721905],\n",
       " [49.891183474704945, 32.948501517961645],\n",
       " [49.937825034400085, 34.986227023435482],\n",
       " [50.029900238944521, 36.93674313411357],\n",
       " [50.037974548984685, 38.992755901099564],\n",
       " [50.044956289300274, 41.042517082498392],\n",
       " [49.982056859255621, 43.944238008490302],\n",
       " [50.000977041068779, 45.935700534407793],\n",
       " [49.995029258551106, 46.929202563472352],\n",
       " [50.0, 50.0]]"
      ]
     },
     "execution_count": 115,
     "metadata": {},
     "output_type": "execute_result"
    }
   ],
   "source": [
    "trajectoryXZ"
   ]
  },
  {
   "cell_type": "code",
   "execution_count": 118,
   "metadata": {},
   "outputs": [
    {
     "data": {
      "text/plain": [
       "<matplotlib.image.AxesImage at 0x7f50da2f0c18>"
      ]
     },
     "execution_count": 118,
     "metadata": {},
     "output_type": "execute_result"
    },
    {
     "data": {
      "image/png": "[encoded data removed]",
      "text/html": [
       "\n",
       "\n",
       "<style>\n",
       "\n",
       "</style>\n",
       "\n",
       "<div id=\"fig_el1883051399852333840008144852763\"></div>\n",
       "<script>\n",
       "function mpld3_load_lib(url, callback){\n",
       "  var s = document.createElement('script');\n",
       "  s.src = url;\n",
       "  s.async = true;\n",
       "  s.onreadystatechange = s.onload = callback;\n",
       "  s.onerror = function(){console.warn(\"failed to load library \" + url);};\n",
       "  document.getElementsByTagName(\"head\")[0].appendChild(s);\n",
       "}\n",
       "\n",
       "if(typeof(mpld3) !== \"undefined\" && mpld3._mpld3IsLoaded){\n",
       "   // already loaded: just create the figure\n",
       "   !function(mpld3){\n",
       "       \n",
       "       mpld3.draw_figure(\"fig_el1883051399852333840008144852763\", {\"width\": 432.0, \"height\": 288.0, \"axes\": [{\"bbox\": [0.26083333333333336, 0.125, 0.5033333333333333, 0.755], \"xlim\": [-0.5, 99.5], \"ylim\": [99.5, -0.5], \"xdomain\": [-0.5, 99.5], \"ydomain\": [99.5, -0.5], \"xscale\": \"linear\", \"yscale\": \"linear\", \"axes\": [{\"position\": \"bottom\", \"nticks\": 7, \"tickvalues\": null, \"tickformat\": null, \"scale\": \"linear\", \"fontsize\": 10.0, \"grid\": {\"gridOn\": false}, \"visible\": true}, {\"position\": \"left\", \"nticks\": 7, \"tickvalues\": null, \"tickformat\": null, \"scale\": \"linear\", \"fontsize\": 10.0, \"grid\": {\"gridOn\": false}, \"visible\": true}], \"axesbg\": \"#FFFFFF\", \"axesbgalpha\": null, \"zoomable\": true, \"id\": \"el188305139985234106016\", \"lines\": [], \"paths\": [], \"markers\": [], \"texts\": [], \"collections\": [], \"images\": [{\"data\": \"iVBORw0KGgoAAAANSUhEUgAAAGQAAABkCAYAAABw4pVUAAAABHNCSVQICAgIfAhkiAAAAR5JREFUeJzt3DEOAjEMAEGH//851PScWKyZFzjawnKTc++98+fOObPgGTMz8/r1AHwSJEaQGEFiBIkRJEaQGEFiBIkRJEaQGEFiBIkRJEaQGEFiBIkRJEaQGEFiBIkRJEaQGEFiBIkRJEaQGEFiBIkRJEaQGEFiBIkRJEaQmBVB7r1zzvn1GF+xIsgmgsQIEiNIjCAxK4L4yYHHCBKzIojDMMYO4TGCxKwIYofwmDVBLHUeIUiMIDGCxAgSI0iMIDGCxAgSI0iMIDGCxAgSI0iMIDGCxAgSI0iMIDGCxAgSI0iMIDGCxAgSI0iMIDGCxAgSI0iMIDGCxAgSI0iMIDGCxAgSI0iMIDGCxAgSI0iMIDGCxAgSI0iMIDGCxLwBiSMZweOB21AAAAAASUVORK5CYII=\", \"extent\": [-0.5, 99.5, 99.5, -0.5], \"coordinates\": \"data\", \"alpha\": null, \"zorder\": 0, \"id\": \"el188305139985234627608\"}], \"sharex\": [], \"sharey\": []}], \"data\": {}, \"id\": \"el188305139985233384000\", \"plugins\": [{\"type\": \"reset\"}, {\"type\": \"zoom\", \"button\": true, \"enabled\": false}, {\"type\": \"boxzoom\", \"button\": true, \"enabled\": false}]});\n",
       "   }(mpld3);\n",
       "}else if(typeof define === \"function\" && define.amd){\n",
       "   // require.js is available: use it to load d3/mpld3\n",
       "   require.config({paths: {d3: \"https://mpld3.github.io/js/d3.v3.min\"}});\n",
       "   require([\"d3\"], function(d3){\n",
       "      window.d3 = d3;\n",
       "      mpld3_load_lib(\"https://mpld3.github.io/js/mpld3.v0.3.js\", function(){\n",
       "         \n",
       "         mpld3.draw_figure(\"fig_el1883051399852333840008144852763\", {\"width\": 432.0, \"height\": 288.0, \"axes\": [{\"bbox\": [0.26083333333333336, 0.125, 0.5033333333333333, 0.755], \"xlim\": [-0.5, 99.5], \"ylim\": [99.5, -0.5], \"xdomain\": [-0.5, 99.5], \"ydomain\": [99.5, -0.5], \"xscale\": \"linear\", \"yscale\": \"linear\", \"axes\": [{\"position\": \"bottom\", \"nticks\": 7, \"tickvalues\": null, \"tickformat\": null, \"scale\": \"linear\", \"fontsize\": 10.0, \"grid\": {\"gridOn\": false}, \"visible\": true}, {\"position\": \"left\", \"nticks\": 7, \"tickvalues\": null, \"tickformat\": null, \"scale\": \"linear\", \"fontsize\": 10.0, \"grid\": {\"gridOn\": false}, \"visible\": true}], \"axesbg\": \"#FFFFFF\", \"axesbgalpha\": null, \"zoomable\": true, \"id\": \"el188305139985234106016\", \"lines\": [], \"paths\": [], \"markers\": [], \"texts\": [], \"collections\": [], \"images\": [{\"data\": \"iVBORw0KGgoAAAANSUhEUgAAAGQAAABkCAYAAABw4pVUAAAABHNCSVQICAgIfAhkiAAAAR5JREFUeJzt3DEOAjEMAEGH//851PScWKyZFzjawnKTc++98+fOObPgGTMz8/r1AHwSJEaQGEFiBIkRJEaQGEFiBIkRJEaQGEFiBIkRJEaQGEFiBIkRJEaQGEFiBIkRJEaQGEFiBIkRJEaQGEFiBIkRJEaQGEFiBIkRJEaQmBVB7r1zzvn1GF+xIsgmgsQIEiNIjCAxK4L4yYHHCBKzIojDMMYO4TGCxKwIYofwmDVBLHUeIUiMIDGCxAgSI0iMIDGCxAgSI0iMIDGCxAgSI0iMIDGCxAgSI0iMIDGCxAgSI0iMIDGCxAgSI0iMIDGCxAgSI0iMIDGCxAgSI0iMIDGCxAgSI0iMIDGCxAgSI0iMIDGCxAgSI0iMIDGCxLwBiSMZweOB21AAAAAASUVORK5CYII=\", \"extent\": [-0.5, 99.5, 99.5, -0.5], \"coordinates\": \"data\", \"alpha\": null, \"zorder\": 0, \"id\": \"el188305139985234627608\"}], \"sharex\": [], \"sharey\": []}], \"data\": {}, \"id\": \"el188305139985233384000\", \"plugins\": [{\"type\": \"reset\"}, {\"type\": \"zoom\", \"button\": true, \"enabled\": false}, {\"type\": \"boxzoom\", \"button\": true, \"enabled\": false}]});\n",
       "      });\n",
       "    });\n",
       "}else{\n",
       "    // require.js not available: dynamically load d3 & mpld3\n",
       "    mpld3_load_lib(\"https://mpld3.github.io/js/d3.v3.min.js\", function(){\n",
       "         mpld3_load_lib(\"https://mpld3.github.io/js/mpld3.v0.3.js\", function(){\n",
       "                 \n",
       "                 mpld3.draw_figure(\"fig_el1883051399852333840008144852763\", {\"width\": 432.0, \"height\": 288.0, \"axes\": [{\"bbox\": [0.26083333333333336, 0.125, 0.5033333333333333, 0.755], \"xlim\": [-0.5, 99.5], \"ylim\": [99.5, -0.5], \"xdomain\": [-0.5, 99.5], \"ydomain\": [99.5, -0.5], \"xscale\": \"linear\", \"yscale\": \"linear\", \"axes\": [{\"position\": \"bottom\", \"nticks\": 7, \"tickvalues\": null, \"tickformat\": null, \"scale\": \"linear\", \"fontsize\": 10.0, \"grid\": {\"gridOn\": false}, \"visible\": true}, {\"position\": \"left\", \"nticks\": 7, \"tickvalues\": null, \"tickformat\": null, \"scale\": \"linear\", \"fontsize\": 10.0, \"grid\": {\"gridOn\": false}, \"visible\": true}], \"axesbg\": \"#FFFFFF\", \"axesbgalpha\": null, \"zoomable\": true, \"id\": \"el188305139985234106016\", \"lines\": [], \"paths\": [], \"markers\": [], \"texts\": [], \"collections\": [], \"images\": [{\"data\": \"iVBORw0KGgoAAAANSUhEUgAAAGQAAABkCAYAAABw4pVUAAAABHNCSVQICAgIfAhkiAAAAR5JREFUeJzt3DEOAjEMAEGH//851PScWKyZFzjawnKTc++98+fOObPgGTMz8/r1AHwSJEaQGEFiBIkRJEaQGEFiBIkRJEaQGEFiBIkRJEaQGEFiBIkRJEaQGEFiBIkRJEaQGEFiBIkRJEaQGEFiBIkRJEaQGEFiBIkRJEaQmBVB7r1zzvn1GF+xIsgmgsQIEiNIjCAxK4L4yYHHCBKzIojDMMYO4TGCxKwIYofwmDVBLHUeIUiMIDGCxAgSI0iMIDGCxAgSI0iMIDGCxAgSI0iMIDGCxAgSI0iMIDGCxAgSI0iMIDGCxAgSI0iMIDGCxAgSI0iMIDGCxAgSI0iMIDGCxAgSI0iMIDGCxAgSI0iMIDGCxAgSI0iMIDGCxLwBiSMZweOB21AAAAAASUVORK5CYII=\", \"extent\": [-0.5, 99.5, 99.5, -0.5], \"coordinates\": \"data\", \"alpha\": null, \"zorder\": 0, \"id\": \"el188305139985234627608\"}], \"sharex\": [], \"sharey\": []}], \"data\": {}, \"id\": \"el188305139985233384000\", \"plugins\": [{\"type\": \"reset\"}, {\"type\": \"zoom\", \"button\": true, \"enabled\": false}, {\"type\": \"boxzoom\", \"button\": true, \"enabled\": false}]});\n",
       "            })\n",
       "         });\n",
       "}\n",
       "</script>"
      ],
      "text/plain": [
       "<matplotlib.figure.Figure at 0x7f50da1c1240>"
      ]
     },
     "metadata": {},
     "output_type": "display_data"
    }
   ],
   "source": [
    "# Create a blank image\n",
    "img = np.zeros((100, 100, 3), np.uint8) \n",
    "img[:] = 255 #or img.fill(255)\n",
    "\n",
    "# Draw a black line with thickness of 2 px\n",
    "for i in range(1,len(trajectoryXZ)):\n",
    "    cv2.line(img, (int(trajectoryXZ[i - 1][0]), int(trajectoryXZ[i - 1][1])), (int(trajectoryXZ[i][0]), int(trajectoryXZ[i][1])), (0, 0, 0), 1)\n",
    "plt.imshow(img)"
   ]
  },
  {
   "cell_type": "code",
   "execution_count": null,
   "metadata": {
    "collapsed": true
   },
   "outputs": [],
   "source": []
  }
 ],
 "metadata": {
  "kernelspec": {
   "display_name": "Python 3",
   "language": "python",
   "name": "python3"
  },
  "language_info": {
   "codemirror_mode": {
    "name": "ipython",
    "version": 3
   },
   "file_extension": ".py",
   "mimetype": "text/x-python",
   "name": "python",
   "nbconvert_exporter": "python",
   "pygments_lexer": "ipython3",
   "version": "3.6.1"
  }
 },
 "nbformat": 4,
 "nbformat_minor": 2
}
