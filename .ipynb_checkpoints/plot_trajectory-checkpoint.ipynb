{
 "cells": [
  {
   "cell_type": "code",
   "execution_count": 2,
   "metadata": {
    "collapsed": true
   },
   "outputs": [],
   "source": [
    "from progressbar import ProgressBar\n",
    "from urb_kitti import *\n",
    "import cv2\n",
    "%matplotlib inline"
   ]
  },
  {
   "cell_type": "markdown",
   "metadata": {},
   "source": [
    "Read frames from KITTI sequence 00 into a list of frames (frame)."
   ]
  },
  {
   "cell_type": "code",
   "execution_count": 3,
   "metadata": {},
   "outputs": [
    {
     "name": "stderr",
     "output_type": "stream",
     "text": [
      "  2% (2 of 100) |                         | Elapsed Time: 0:00:01 ETA:  0:01:16"
     ]
    },
    {
     "name": "stdout",
     "output_type": "stream",
     "text": [
      "[[ 0.99999163  0.00244687  0.00327771 -0.00141382]\n",
      " [-0.00245339  0.99999502  0.00198638  0.00833253]\n",
      " [-0.00327284 -0.00199441  0.99999266 -0.69269103]\n",
      " [ 0.          0.          0.          1.        ]]\n"
     ]
    },
    {
     "name": "stderr",
     "output_type": "stream",
     "text": [
      "\r",
      "                                                                               \r",
      "\r",
      "  3% (3 of 100) |                         | Elapsed Time: 0:00:01 ETA:  0:00:57"
     ]
    },
    {
     "name": "stdout",
     "output_type": "stream",
     "text": [
      "[[ 0.99997136  0.00194455  0.0073136  -0.0046938 ]\n",
      " [-0.0019713   0.99999139  0.00365212 -0.00532409]\n",
      " [-0.00730643 -0.00366643  0.99996659 -1.40356973]\n",
      " [ 0.          0.          0.          1.        ]]\n"
     ]
    },
    {
     "name": "stderr",
     "output_type": "stream",
     "text": [
      "  5% (5 of 100) |#                        | Elapsed Time: 0:00:02 ETA:  0:00:41"
     ]
    },
    {
     "name": "stdout",
     "output_type": "stream",
     "text": [
      "[[  9.99929934e-01   1.77044758e-03   1.17043708e-02  -1.82862754e-02]\n",
      " [ -1.82756435e-03   9.99986466e-01   4.87105889e-03  -6.26285341e-04]\n",
      " [ -1.16955884e-02  -4.89210809e-03   9.99919637e-01  -2.14341063e+00]\n",
      " [  0.00000000e+00   0.00000000e+00   0.00000000e+00   1.00000000e+00]]\n",
      "[[  9.99848389e-01   6.25623322e-04   1.74013781e-02  -4.43070089e-02]\n",
      " [ -7.18007324e-04   9.99985680e-01   5.30326407e-03   1.36133777e-02]\n",
      " [ -1.73978110e-02  -5.31495435e-03   9.99834520e-01  -2.93516913e+00]\n",
      " [  0.00000000e+00   0.00000000e+00   0.00000000e+00   1.00000000e+00]]\n",
      "None\n"
     ]
    },
    {
     "name": "stderr",
     "output_type": "stream",
     "text": [
      "  7% (7 of 100) |#                        | Elapsed Time: 0:00:04 ETA:  0:00:54"
     ]
    },
    {
     "name": "stdout",
     "output_type": "stream",
     "text": [
      "[[  9.99951947e-01   3.19639508e-04   9.79798925e-03  -1.46173971e-02]\n",
      " [ -3.25207763e-04   9.99999787e-01   5.66717879e-04   2.44790631e-02]\n",
      " [ -9.79780601e-03  -5.69877029e-04   9.99951838e-01  -1.58582008e+00]\n",
      " [  0.00000000e+00   0.00000000e+00   0.00000000e+00   1.00000000e+00]]\n"
     ]
    },
    {
     "name": "stderr",
     "output_type": "stream",
     "text": [
      "\r",
      "                                                                               \r",
      "\r",
      "  8% (8 of 100) |##                       | Elapsed Time: 0:00:04 ETA:  0:00:50"
     ]
    },
    {
     "name": "stdout",
     "output_type": "stream",
     "text": [
      "[[  9.99894537e-01  -2.24523238e-03   1.43482815e-02  -4.63461489e-03]\n",
      " [  2.21789896e-03   9.99995696e-01   1.92062440e-03   1.02355547e-02]\n",
      " [ -1.43525320e-02  -1.88859881e-03   9.99895214e-01  -2.36522893e+00]\n",
      " [  0.00000000e+00   0.00000000e+00   0.00000000e+00   1.00000000e+00]]\n",
      "None\n"
     ]
    },
    {
     "name": "stderr",
     "output_type": "stream",
     "text": [
      " 10% (10 of 100) |##                      | Elapsed Time: 0:00:06 ETA:  0:00:50"
     ]
    },
    {
     "name": "stdout",
     "output_type": "stream",
     "text": [
      "[[  9.99952655e-01   1.17940208e-03   9.65902260e-03  -2.03162759e-02]\n",
      " [ -1.13692420e-03   9.99989665e-01  -4.40205109e-03   1.73797487e-02]\n",
      " [ -9.66411456e-03   4.39086110e-03   9.99943661e-01  -1.65953280e+00]\n",
      " [  0.00000000e+00   0.00000000e+00   0.00000000e+00   1.00000000e+00]]\n"
     ]
    },
    {
     "name": "stderr",
     "output_type": "stream",
     "text": [
      "\r",
      "                                                                               \r",
      "\r",
      " 11% (11 of 100) |##                      | Elapsed Time: 0:00:06 ETA:  0:00:50"
     ]
    },
    {
     "name": "stdout",
     "output_type": "stream",
     "text": [
      "[[ 0.99990397  0.00292956  0.01354532 -0.02107029]\n",
      " [-0.00282771  0.99996763 -0.00753216  0.02275122]\n",
      " [-0.01356695  0.00749314  0.99987989 -2.53176702]\n",
      " [ 0.          0.          0.          1.        ]]\n",
      "None\n"
     ]
    },
    {
     "name": "stderr",
     "output_type": "stream",
     "text": [
      " 13% (13 of 100) |###                     | Elapsed Time: 0:00:08 ETA:  0:01:00"
     ]
    },
    {
     "name": "stdout",
     "output_type": "stream",
     "text": [
      "[[  9.99983513e-01  -1.48339259e-03   5.54727668e-03  -2.47565526e-02]\n",
      " [  1.47585395e-03   9.99997982e-01   1.36282778e-03   9.18201241e-03]\n",
      " [ -5.54928709e-03  -1.35461834e-03   9.99983685e-01  -1.71307890e+00]\n",
      " [  0.00000000e+00   0.00000000e+00   0.00000000e+00   1.00000000e+00]]\n",
      "None\n"
     ]
    },
    {
     "name": "stderr",
     "output_type": "stream",
     "text": [
      " 15% (15 of 100) |###                     | Elapsed Time: 0:00:09 ETA:  0:00:56"
     ]
    },
    {
     "name": "stdout",
     "output_type": "stream",
     "text": [
      "[[  9.99988362e-01   3.79376775e-03   2.98032014e-03   1.40093963e-02]\n",
      " [ -3.79606189e-03   9.99992503e-01   7.64484947e-04  -1.45492287e-02]\n",
      " [ -2.97739752e-03  -7.75789530e-04   9.99995267e-01  -1.72145024e+00]\n",
      " [  0.00000000e+00   0.00000000e+00   0.00000000e+00   1.00000000e+00]]\n"
     ]
    },
    {
     "name": "stderr",
     "output_type": "stream",
     "text": [
      "\r",
      "                                                                               \r",
      "\r",
      " 16% (16 of 100) |###                     | Elapsed Time: 0:00:10 ETA:  0:00:55"
     ]
    },
    {
     "name": "stdout",
     "output_type": "stream",
     "text": [
      "[[  9.99987081e-01   3.02032260e-03   4.08848655e-03   2.23718104e-02]\n",
      " [ -3.02280654e-03   9.99995250e-01   6.01501436e-04   1.00250361e-02]\n",
      " [ -4.08665041e-03  -6.13852369e-04   9.99991461e-01  -2.57892613e+00]\n",
      " [  0.00000000e+00   0.00000000e+00   0.00000000e+00   1.00000000e+00]]\n",
      "None\n"
     ]
    },
    {
     "name": "stderr",
     "output_type": "stream",
     "text": [
      " 18% (18 of 100) |####                    | Elapsed Time: 0:00:11 ETA:  0:00:49"
     ]
    },
    {
     "name": "stdout",
     "output_type": "stream",
     "text": [
      "[[ 0.99998973 -0.00347661  0.0029091   0.00782005]\n",
      " [ 0.00346634  0.99998777  0.00352711  0.0436155 ]\n",
      " [-0.00292133 -0.00351699  0.99998955 -1.78260918]\n",
      " [ 0.          0.          0.          1.        ]]\n"
     ]
    },
    {
     "name": "stderr",
     "output_type": "stream",
     "text": [
      "\r",
      "                                                                               \r",
      "\r",
      " 19% (19 of 100) |####                    | Elapsed Time: 0:00:11 ETA:  0:00:47"
     ]
    },
    {
     "name": "stdout",
     "output_type": "stream",
     "text": [
      "[[ 0.99998024  0.00300574  0.00552128 -0.00661587]\n",
      " [-0.0030343   0.99998202  0.00517221 -0.05810708]\n",
      " [-0.00550563 -0.00518886  0.99997138 -2.66606075]\n",
      " [ 0.          0.          0.          1.        ]]\n",
      "None\n"
     ]
    },
    {
     "name": "stderr",
     "output_type": "stream",
     "text": [
      " 21% (21 of 100) |#####                   | Elapsed Time: 0:00:13 ETA:  0:00:47"
     ]
    },
    {
     "name": "stdout",
     "output_type": "stream",
     "text": [
      "[[  9.99997503e-01  -5.63183524e-04   2.16276690e-03  -1.11628258e-03]\n",
      " [  5.67432148e-04   9.99997910e-01  -1.96432854e-03   2.42454527e-02]\n",
      " [ -2.16165610e-03   1.96555086e-03   9.99995732e-01  -1.83301604e+00]\n",
      " [  0.00000000e+00   0.00000000e+00   0.00000000e+00   1.00000000e+00]]\n"
     ]
    },
    {
     "name": "stderr",
     "output_type": "stream",
     "text": [
      "\r",
      "                                                                               \r",
      "\r",
      " 22% (22 of 100) |#####                   | Elapsed Time: 0:00:13 ETA:  0:00:47"
     ]
    },
    {
     "name": "stdout",
     "output_type": "stream",
     "text": [
      "[[  9.99993545e-01   2.39220809e-03   2.68091199e-03   4.09831915e-02]\n",
      " [ -2.38172677e-03   9.99989535e-01  -3.90600820e-03  -3.35850222e-03]\n",
      " [ -2.69022792e-03   3.89959778e-03   9.99988778e-01  -2.79022420e+00]\n",
      " [  0.00000000e+00   0.00000000e+00   0.00000000e+00   1.00000000e+00]]\n",
      "None\n"
     ]
    },
    {
     "name": "stderr",
     "output_type": "stream",
     "text": [
      " 24% (24 of 100) |#####                   | Elapsed Time: 0:00:15 ETA:  0:00:49"
     ]
    },
    {
     "name": "stdout",
     "output_type": "stream",
     "text": [
      "[[  9.99991213e-01   2.30211795e-03   3.50332633e-03  -1.63426134e-02]\n",
      " [ -2.30599793e-03   9.99996732e-01   1.10387852e-03   2.48476167e-03]\n",
      " [ -3.50077362e-03  -1.11194748e-03   9.99993254e-01  -1.91319829e+00]\n",
      " [  0.00000000e+00   0.00000000e+00   0.00000000e+00   1.00000000e+00]]\n"
     ]
    },
    {
     "name": "stderr",
     "output_type": "stream",
     "text": [
      "\r",
      "                                                                               \r",
      "\r",
      " 25% (25 of 100) |######                  | Elapsed Time: 0:00:16 ETA:  0:00:49"
     ]
    },
    {
     "name": "stdout",
     "output_type": "stream",
     "text": [
      "[[  9.99996766e-01   2.08897077e-03   1.45074363e-03   5.15709022e-02]\n",
      " [ -2.09309553e-03   9.99993755e-01   2.84753539e-03   3.93694292e-03]\n",
      " [ -1.44478615e-03  -2.85056273e-03   9.99994893e-01  -2.84068288e+00]\n",
      " [  0.00000000e+00   0.00000000e+00   0.00000000e+00   1.00000000e+00]]\n",
      "None\n"
     ]
    },
    {
     "name": "stderr",
     "output_type": "stream",
     "text": [
      " 27% (27 of 100) |######                  | Elapsed Time: 0:00:17 ETA:  0:00:50"
     ]
    },
    {
     "name": "stdout",
     "output_type": "stream",
     "text": [
      "[[  9.99998272e-01  -1.84571322e-03   2.23921802e-04   1.23708241e-02]\n",
      " [  1.84675254e-03   9.99987091e-01  -4.73358973e-03   2.75923031e-02]\n",
      " [ -2.15182063e-04   4.73399507e-03   9.99988771e-01  -1.91818311e+00]\n",
      " [  0.00000000e+00   0.00000000e+00   0.00000000e+00   1.00000000e+00]]\n",
      "None\n"
     ]
    },
    {
     "name": "stderr",
     "output_type": "stream",
     "text": [
      " 28% (29 of 100) |######                  | Elapsed Time: 0:00:19 ETA:  0:00:47"
     ]
    },
    {
     "name": "stdout",
     "output_type": "stream",
     "text": [
      "[[  9.99993141e-01   1.66110302e-03  -3.31031165e-03   3.23943558e-02]\n",
      " [ -1.68626721e-03   9.99969595e-01  -7.61352170e-03   3.83939697e-02]\n",
      " [  3.29756416e-03   7.61905155e-03   9.99965537e-01  -1.92310082e+00]\n",
      " [  0.00000000e+00   0.00000000e+00   0.00000000e+00   1.00000000e+00]]\n",
      "None\n"
     ]
    },
    {
     "name": "stderr",
     "output_type": "stream",
     "text": [
      "\r",
      "                                                                               \r",
      "\r",
      " 30% (30 of 100) |#######                 | Elapsed Time: 0:00:20 ETA:  0:00:54"
     ]
    },
    {
     "name": "stdout",
     "output_type": "stream",
     "text": [
      "None\n"
     ]
    },
    {
     "name": "stderr",
     "output_type": "stream",
     "text": [
      " 32% (32 of 100) |#######                 | Elapsed Time: 0:00:21 ETA:  0:00:49"
     ]
    },
    {
     "name": "stdout",
     "output_type": "stream",
     "text": [
      "[[  9.99996582e-01  -1.85053066e-03  -1.84722493e-03  -1.80164853e-02]\n",
      " [  1.86413650e-03   9.99970947e-01   7.39121024e-03   2.04581832e-02]\n",
      " [  1.83349360e-03  -7.39462845e-03   9.99970978e-01  -1.97198766e+00]\n",
      " [  0.00000000e+00   0.00000000e+00   0.00000000e+00   1.00000000e+00]]\n",
      "None\n"
     ]
    },
    {
     "name": "stderr",
     "output_type": "stream",
     "text": [
      " 34% (34 of 100) |########                | Elapsed Time: 0:00:23 ETA:  0:00:54"
     ]
    },
    {
     "name": "stdout",
     "output_type": "stream",
     "text": [
      "[[  9.99994455e-01   3.18033030e-03  -9.87387120e-04  -3.57788749e-02]\n",
      " [ -3.17948634e-03   9.99994580e-01   8.55133550e-04   3.80156517e-02]\n",
      " [  9.90101375e-04  -8.51989425e-04   9.99999147e-01  -2.03127838e+00]\n",
      " [  0.00000000e+00   0.00000000e+00   0.00000000e+00   1.00000000e+00]]\n",
      "None\n"
     ]
    },
    {
     "name": "stderr",
     "output_type": "stream",
     "text": [
      " 36% (36 of 100) |########                | Elapsed Time: 0:00:24 ETA:  0:00:50"
     ]
    },
    {
     "name": "stdout",
     "output_type": "stream",
     "text": [
      "[[  9.99987766e-01   4.91029610e-03  -5.97256620e-04   3.69256387e-02]\n",
      " [ -4.91515963e-03   9.99952352e-01  -8.43417666e-03   3.04398420e-02]\n",
      " [  5.55813857e-04   8.43700909e-03   9.99964253e-01  -2.02248031e+00]\n",
      " [  0.00000000e+00   0.00000000e+00   0.00000000e+00   1.00000000e+00]]\n",
      "None\n"
     ]
    },
    {
     "name": "stderr",
     "output_type": "stream",
     "text": [
      " 39% (39 of 100) |#########               | Elapsed Time: 0:00:26 ETA:  0:00:39"
     ]
    },
    {
     "name": "stdout",
     "output_type": "stream",
     "text": [
      "[[ 0.99997325  0.00669496  0.00294436 -0.03409984]\n",
      " [-0.00670744  0.99996849  0.00424629  0.03491239]\n",
      " [-0.00291584 -0.00426593  0.99998665 -2.0872084 ]\n",
      " [ 0.          0.          0.          1.        ]]\n",
      "[[  9.99939609e-01   1.01273049e-02   4.26804768e-03  -4.37260788e-02]\n",
      " [ -1.01618064e-02   9.99915227e-01   8.14104755e-03  -1.56862444e-03]\n",
      " [ -4.18523899e-03  -8.18392697e-03   9.99957753e-01  -3.01999159e+00]\n",
      " [  0.00000000e+00   0.00000000e+00   0.00000000e+00   1.00000000e+00]]\n",
      "None\n"
     ]
    },
    {
     "name": "stderr",
     "output_type": "stream",
     "text": [
      " 41% (41 of 100) |#########               | Elapsed Time: 0:00:27 ETA:  0:00:36"
     ]
    },
    {
     "name": "stdout",
     "output_type": "stream",
     "text": [
      "[[  9.99994695e-01  -8.95750532e-04   3.13185363e-03  -2.84487975e-02]\n",
      " [  8.96531632e-04   9.99999567e-01  -2.48009966e-04   6.39634971e-03]\n",
      " [ -3.13163012e-03   2.50816456e-04   9.99995065e-01  -2.03814322e+00]\n",
      " [  0.00000000e+00   0.00000000e+00   0.00000000e+00   1.00000000e+00]]\n",
      "None\n"
     ]
    },
    {
     "name": "stderr",
     "output_type": "stream",
     "text": [
      " 43% (43 of 100) |##########              | Elapsed Time: 0:00:28 ETA:  0:00:34"
     ]
    },
    {
     "name": "stdout",
     "output_type": "stream",
     "text": [
      "[[  9.99982745e-01   4.41855763e-03   3.87128592e-03  -8.03622506e-02]\n",
      " [ -4.41213433e-03   9.99988878e-01  -1.66618796e-03  -1.40699596e-01]\n",
      " [ -3.87860502e-03   1.64907858e-03   9.99991118e-01  -1.95036052e+00]\n",
      " [  0.00000000e+00   0.00000000e+00   0.00000000e+00   1.00000000e+00]]\n",
      "None\n"
     ]
    },
    {
     "name": "stderr",
     "output_type": "stream",
     "text": [
      "\r",
      "                                                                               \r",
      "\r",
      " 44% (44 of 100) |##########              | Elapsed Time: 0:00:29 ETA:  0:00:31"
     ]
    },
    {
     "name": "stdout",
     "output_type": "stream",
     "text": [
      "None\n"
     ]
    },
    {
     "name": "stderr",
     "output_type": "stream",
     "text": [
      "\r",
      "                                                                               \r",
      "\r",
      " 45% (45 of 100) |##########              | Elapsed Time: 0:00:30 ETA:  0:00:36"
     ]
    },
    {
     "name": "stdout",
     "output_type": "stream",
     "text": [
      "None\n"
     ]
    },
    {
     "name": "stderr",
     "output_type": "stream",
     "text": [
      "\r",
      "                                                                               \r",
      "\r",
      " 46% (46 of 100) |###########             | Elapsed Time: 0:00:31 ETA:  0:00:34"
     ]
    },
    {
     "name": "stdout",
     "output_type": "stream",
     "text": [
      "None\n"
     ]
    },
    {
     "name": "stderr",
     "output_type": "stream",
     "text": [
      "\r",
      "                                                                               \r",
      "\r",
      " 47% (47 of 100) |###########             | Elapsed Time: 0:00:32 ETA:  0:00:37"
     ]
    },
    {
     "name": "stdout",
     "output_type": "stream",
     "text": [
      "None\n"
     ]
    },
    {
     "name": "stderr",
     "output_type": "stream",
     "text": [
      "\r",
      "                                                                               \r",
      "\r",
      " 48% (48 of 100) |###########             | Elapsed Time: 0:00:33 ETA:  0:00:41"
     ]
    },
    {
     "name": "stdout",
     "output_type": "stream",
     "text": [
      "None\n"
     ]
    },
    {
     "name": "stderr",
     "output_type": "stream",
     "text": [
      "\r",
      "                                                                               \r",
      "\r",
      " 49% (49 of 100) |###########             | Elapsed Time: 0:00:34 ETA:  0:00:39"
     ]
    },
    {
     "name": "stdout",
     "output_type": "stream",
     "text": [
      "None\n"
     ]
    },
    {
     "name": "stderr",
     "output_type": "stream",
     "text": [
      " 51% (51 of 100) |############            | Elapsed Time: 0:00:35 ETA:  0:00:36"
     ]
    },
    {
     "name": "stdout",
     "output_type": "stream",
     "text": [
      "[[  9.99998733e-01   6.02321091e-04   1.47343326e-03  -1.58988327e-03]\n",
      " [ -5.96854107e-04   9.99992947e-01  -3.70800085e-03   9.70357113e-02]\n",
      " [ -1.47565628e-03   3.70711673e-03   9.99992040e-01  -2.05609940e+00]\n",
      " [  0.00000000e+00   0.00000000e+00   0.00000000e+00   1.00000000e+00]]\n",
      "None\n"
     ]
    },
    {
     "name": "stderr",
     "output_type": "stream",
     "text": [
      " 53% (53 of 100) |############            | Elapsed Time: 0:00:36 ETA:  0:00:34"
     ]
    },
    {
     "name": "stdout",
     "output_type": "stream",
     "text": [
      "[[  9.99996370e-01  -2.27215704e-03   1.44848919e-03  -2.80116405e-03]\n",
      " [  2.26852949e-03   9.99994299e-01   2.50111168e-03   2.62376792e-02]\n",
      " [ -1.45416385e-03  -2.49781666e-03   9.99995823e-01  -2.04986636e+00]\n",
      " [  0.00000000e+00   0.00000000e+00   0.00000000e+00   1.00000000e+00]]\n",
      "None\n"
     ]
    },
    {
     "name": "stderr",
     "output_type": "stream",
     "text": [
      " 56% (56 of 100) |#############           | Elapsed Time: 0:00:37 ETA:  0:00:24"
     ]
    },
    {
     "name": "stdout",
     "output_type": "stream",
     "text": [
      "[[  9.99998502e-01  -1.67712094e-03   4.28036140e-04   3.19280726e-02]\n",
      " [  1.67440109e-03   9.99978895e-01   6.27740875e-03   7.64732231e-03]\n",
      " [ -4.38555080e-04  -6.27668264e-03   9.99980205e-01  -2.01009666e+00]\n",
      " [  0.00000000e+00   0.00000000e+00   0.00000000e+00   1.00000000e+00]]\n",
      "[[  9.99999659e-01   8.06111332e-04  -1.79031324e-04   6.95284872e-02]\n",
      " [ -8.05720122e-04   9.99997311e-01   2.17457823e-03   1.89105599e-02]\n",
      " [  1.80783794e-04  -2.17443324e-03   9.99997620e-01  -2.90170279e+00]\n",
      " [  0.00000000e+00   0.00000000e+00   0.00000000e+00   1.00000000e+00]]\n",
      "None\n"
     ]
    },
    {
     "name": "stderr",
     "output_type": "stream",
     "text": [
      " 57% (58 of 100) |#############           | Elapsed Time: 0:00:38 ETA:  0:00:21"
     ]
    },
    {
     "name": "stdout",
     "output_type": "stream",
     "text": [
      "[[  9.99984660e-01   5.47549707e-03   8.36352808e-04  -1.60150844e-02]\n",
      " [ -5.47303603e-03   9.99980768e-01  -2.91705966e-03   2.48114010e-02]\n",
      " [ -8.52309075e-04   2.91243752e-03   9.99995396e-01  -1.99155683e+00]\n",
      " [  0.00000000e+00   0.00000000e+00   0.00000000e+00   1.00000000e+00]]\n",
      "None\n"
     ]
    },
    {
     "name": "stderr",
     "output_type": "stream",
     "text": [
      "\r",
      "                                                                               \r",
      "\r",
      " 59% (59 of 100) |##############          | Elapsed Time: 0:00:40 ETA:  0:00:21"
     ]
    },
    {
     "name": "stdout",
     "output_type": "stream",
     "text": [
      "None\n"
     ]
    },
    {
     "name": "stderr",
     "output_type": "stream",
     "text": [
      " 62% (62 of 100) |##############          | Elapsed Time: 0:00:41 ETA:  0:00:21"
     ]
    },
    {
     "name": "stdout",
     "output_type": "stream",
     "text": [
      "[[  9.99994121e-01   3.05203097e-03   1.56298275e-03  -1.56095373e-02]\n",
      " [ -3.05057905e-03   9.99994914e-01  -9.30486939e-04   6.47487990e-02]\n",
      " [ -1.56581467e-03   9.25713467e-04   9.99998346e-01  -1.96310100e+00]\n",
      " [  0.00000000e+00   0.00000000e+00   0.00000000e+00   1.00000000e+00]]\n",
      "[[  9.99983796e-01   5.31680440e-03   2.03445245e-03  -4.97074145e-03]\n",
      " [ -5.30841092e-03   9.99977468e-01  -4.10906495e-03   8.63430147e-02]\n",
      " [ -2.05625371e-03   4.09819865e-03   9.99989488e-01  -3.07079744e+00]\n",
      " [  0.00000000e+00   0.00000000e+00   0.00000000e+00   1.00000000e+00]]\n",
      "None\n"
     ]
    },
    {
     "name": "stderr",
     "output_type": "stream",
     "text": [
      " 64% (64 of 100) |###############         | Elapsed Time: 0:00:42 ETA:  0:00:20"
     ]
    },
    {
     "name": "stdout",
     "output_type": "stream",
     "text": [
      "[[  9.99998049e-01   1.38125201e-03   1.41189664e-03  -8.27107272e-03]\n",
      " [ -1.37109614e-03   9.99973363e-01  -7.16890352e-03   5.26965069e-02]\n",
      " [ -1.42176110e-03   7.16695369e-03   9.99973306e-01  -1.97424387e+00]\n",
      " [  0.00000000e+00   0.00000000e+00   0.00000000e+00   1.00000000e+00]]\n",
      "None\n"
     ]
    },
    {
     "name": "stderr",
     "output_type": "stream",
     "text": [
      " 67% (67 of 100) |################        | Elapsed Time: 0:00:44 ETA:  0:00:18"
     ]
    },
    {
     "name": "stdout",
     "output_type": "stream",
     "text": [
      "[[ 0.99998468 -0.00503999  0.0022889   0.01710828]\n",
      " [ 0.005014    0.99992445  0.01122309  0.02929667]\n",
      " [-0.00234529 -0.01121144  0.9999344  -1.91366958]\n",
      " [ 0.          0.          0.          1.        ]]\n",
      "[[  9.99986774e-01  -4.68465191e-03   2.12271947e-03   1.14210344e-01]\n",
      " [  4.65038118e-03   9.99863220e-01   1.58718414e-02   4.98161848e-02]\n",
      " [ -2.19678317e-03  -1.58617600e-02   9.99871781e-01  -3.00308212e+00]\n",
      " [  0.00000000e+00   0.00000000e+00   0.00000000e+00   1.00000000e+00]]\n"
     ]
    },
    {
     "name": "stderr",
     "output_type": "stream",
     "text": [
      "\r",
      "                                                                               \r",
      "\r",
      " 68% (68 of 100) |################        | Elapsed Time: 0:00:44 ETA:  0:00:14"
     ]
    },
    {
     "name": "stdout",
     "output_type": "stream",
     "text": [
      "[[  9.99844496e-01  -1.72430532e-02   3.69608355e-03   1.38794298e-02]\n",
      " [  1.71869345e-02   9.99744046e-01   1.47123232e-02   1.01027557e-01]\n",
      " [ -3.94882289e-03  -1.46465110e-02   9.99884937e-01  -3.74286054e+00]\n",
      " [  0.00000000e+00   0.00000000e+00   0.00000000e+00   1.00000000e+00]]\n",
      "None\n"
     ]
    },
    {
     "name": "stderr",
     "output_type": "stream",
     "text": [
      " 70% (70 of 100) |################        | Elapsed Time: 0:00:45 ETA:  0:00:13"
     ]
    },
    {
     "name": "stdout",
     "output_type": "stream",
     "text": [
      "[[  9.99986101e-01  -5.26024454e-03   3.55910372e-04   8.25729342e-02]\n",
      " [  5.26211932e-03   9.99971088e-01  -5.48937279e-03   9.34553166e-02]\n",
      " [ -3.27024639e-04   5.49116934e-03   9.99984870e-01  -1.87668508e+00]\n",
      " [  0.00000000e+00   0.00000000e+00   0.00000000e+00   1.00000000e+00]]\n",
      "None\n"
     ]
    },
    {
     "name": "stderr",
     "output_type": "stream",
     "text": [
      " 73% (73 of 100) |#################       | Elapsed Time: 0:00:46 ETA:  0:00:12"
     ]
    },
    {
     "name": "stdout",
     "output_type": "stream",
     "text": [
      "[[  9.99995285e-01  -2.74755159e-03   1.37182163e-03   6.46769150e-02]\n",
      " [  2.74879583e-03   9.99995812e-01  -9.05939165e-04   2.65387206e-02]\n",
      " [ -1.36932677e-03   9.09705751e-04   9.99998649e-01  -1.85877864e+00]\n",
      " [  0.00000000e+00   0.00000000e+00   0.00000000e+00   1.00000000e+00]]\n",
      "[[  9.99981747e-01  -3.37105750e-03   5.01420008e-03  -4.13684400e-02]\n",
      " [  3.37891190e-03   9.99993077e-01  -1.55878486e-03   6.26230846e-02]\n",
      " [ -5.00891061e-03   1.57569895e-03   9.99986214e-01  -2.77526951e+00]\n",
      " [  0.00000000e+00   0.00000000e+00   0.00000000e+00   1.00000000e+00]]\n"
     ]
    },
    {
     "name": "stderr",
     "output_type": "stream",
     "text": [
      "\r",
      "                                                                               \r",
      "\r",
      " 74% (74 of 100) |#################       | Elapsed Time: 0:00:46 ETA:  0:00:09"
     ]
    },
    {
     "name": "stdout",
     "output_type": "stream",
     "text": [
      "[[  9.99978093e-01  -4.15076321e-03   5.15593750e-03   1.44757783e-03]\n",
      " [  4.17274174e-03   9.99982223e-01  -4.25934233e-03   1.50488017e-01]\n",
      " [ -5.13816632e-03   4.28076342e-03   9.99977637e-01  -3.63685341e+00]\n",
      " [  0.00000000e+00   0.00000000e+00   0.00000000e+00   1.00000000e+00]]\n",
      "None\n"
     ]
    },
    {
     "name": "stderr",
     "output_type": "stream",
     "text": [
      " 77% (77 of 100) |##################      | Elapsed Time: 0:00:48 ETA:  0:00:10"
     ]
    },
    {
     "name": "stdout",
     "output_type": "stream",
     "text": [
      "[[ 0.99999082 -0.00348004  0.0025013   0.00764299]\n",
      " [ 0.00349502  0.99997583 -0.00601022  0.12330281]\n",
      " [-0.00248033  0.0060189   0.99997881 -1.66334134]\n",
      " [ 0.          0.          0.          1.        ]]\n",
      "[[ 0.99998087 -0.00554592  0.00273948  0.02701587]\n",
      " [ 0.00557745  0.99991667 -0.01164198  0.2141072 ]\n",
      " [-0.00267469  0.01165704  0.99992848 -2.44253171]\n",
      " [ 0.          0.          0.          1.        ]]\n",
      "None\n"
     ]
    },
    {
     "name": "stderr",
     "output_type": "stream",
     "text": [
      " 80% (80 of 100) |###################     | Elapsed Time: 0:00:49 ETA:  0:00:06"
     ]
    },
    {
     "name": "stdout",
     "output_type": "stream",
     "text": [
      "[[ 0.99996833 -0.00750433  0.00265196  0.02592926]\n",
      " [ 0.00749897  0.99996984  0.00202281  0.02992773]\n",
      " [-0.00266706 -0.00200285  0.99999444 -1.57905456]\n",
      " [ 0.          0.          0.          1.        ]]\n",
      "[[ 0.99996678 -0.00715656  0.00390076  0.02387783]\n",
      " [ 0.00712123  0.99993418  0.00899557  0.03273947]\n",
      " [-0.00396488 -0.0089675   0.99995193 -2.34676752]\n",
      " [ 0.          0.          0.          1.        ]]\n"
     ]
    },
    {
     "name": "stderr",
     "output_type": "stream",
     "text": [
      " 82% (82 of 100) |###################     | Elapsed Time: 0:00:49 ETA:  0:00:06"
     ]
    },
    {
     "name": "stdout",
     "output_type": "stream",
     "text": [
      "[[ 0.9999672  -0.00622053  0.00518678  0.02213329]\n",
      " [ 0.00613776  0.99985597  0.01582299  0.00381058]\n",
      " [-0.00528446 -0.01579063  0.99986136 -3.09981679]\n",
      " [ 0.          0.          0.          1.        ]]\n",
      "[[  9.99915011e-01  -1.17645999e-02   5.61824653e-03   3.11142659e-04]\n",
      " [  1.16749014e-02   9.99807956e-01   1.57400330e-02   7.00288964e-02]\n",
      " [ -5.80234277e-03  -1.56731028e-02   9.99860334e-01  -3.75618494e+00]\n",
      " [  0.00000000e+00   0.00000000e+00   0.00000000e+00   1.00000000e+00]]\n"
     ]
    },
    {
     "name": "stderr",
     "output_type": "stream",
     "text": [
      "\r",
      "                                                                               \r",
      "\r",
      " 83% (83 of 100) |###################     | Elapsed Time: 0:00:49 ETA:  0:00:05"
     ]
    },
    {
     "name": "stdout",
     "output_type": "stream",
     "text": [
      "[[ 0.99988138 -0.01403073  0.00635325  0.01434806]\n",
      " [ 0.01394934  0.99982232  0.01267859  0.05610454]\n",
      " [-0.00653001 -0.01258846  0.99989944 -4.49859616]\n",
      " [ 0.          0.          0.          1.        ]]\n",
      "None\n"
     ]
    },
    {
     "name": "stderr",
     "output_type": "stream",
     "text": [
      " 86% (86 of 100) |####################    | Elapsed Time: 0:00:51 ETA:  0:00:04"
     ]
    },
    {
     "name": "stdout",
     "output_type": "stream",
     "text": [
      "[[ 0.99999394  0.00239109  0.00252884 -0.01483954]\n",
      " [-0.00239491  0.999996    0.00150614  0.023549  ]\n",
      " [-0.00252522 -0.00151219  0.99999567 -1.3467981 ]\n",
      " [ 0.          0.          0.          1.        ]]\n",
      "[[ 0.99994948  0.0098152   0.0021685  -0.02234919]\n",
      " [-0.00982887  0.99993129  0.00638746  0.02176953]\n",
      " [-0.00210566 -0.00640845  0.99997725 -1.98965512]\n",
      " [ 0.          0.          0.          1.        ]]\n"
     ]
    },
    {
     "name": "stderr",
     "output_type": "stream",
     "text": [
      "\r",
      "                                                                               \r",
      "\r",
      " 87% (87 of 100) |####################    | Elapsed Time: 0:00:51 ETA:  0:00:03"
     ]
    },
    {
     "name": "stdout",
     "output_type": "stream",
     "text": [
      "[[  9.99952589e-01   9.73577061e-03   1.84900121e-04   8.31324834e-03]\n",
      " [ -9.73716360e-03   9.99898944e-01   1.03580420e-02   1.00490111e-01]\n",
      " [ -8.40379142e-05  -1.03593514e-02   9.99946337e-01  -2.52362017e+00]\n",
      " [  0.00000000e+00   0.00000000e+00   0.00000000e+00   1.00000000e+00]]\n",
      "None\n"
     ]
    },
    {
     "name": "stderr",
     "output_type": "stream",
     "text": [
      " 90% (90 of 100) |#####################   | Elapsed Time: 0:00:52 ETA:  0:00:03"
     ]
    },
    {
     "name": "stdout",
     "output_type": "stream",
     "text": [
      "[[ 0.99995031 -0.00772022 -0.00630683 -0.01878119]\n",
      " [ 0.00770541  0.99996751 -0.00236841  0.00691633]\n",
      " [ 0.00632491  0.0023197   0.99997731 -1.20605274]\n",
      " [ 0.          0.          0.          1.        ]]\n",
      "[[ 0.99991999 -0.00675743 -0.01069343 -0.02745274]\n",
      " [ 0.00670184  0.99996389 -0.0052259   0.01225332]\n",
      " [ 0.01072836  0.00515381  0.99992917 -1.80301351]\n",
      " [ 0.          0.          0.          1.        ]]\n"
     ]
    },
    {
     "name": "stderr",
     "output_type": "stream",
     "text": [
      " 92% (92 of 100) |######################  | Elapsed Time: 0:00:52 ETA:  0:00:02"
     ]
    },
    {
     "name": "stdout",
     "output_type": "stream",
     "text": [
      "[[  9.99848101e-01  -9.66637055e-04  -1.74023176e-02   1.11978709e-02]\n",
      " [  7.70581201e-04   9.99936203e-01  -1.12692597e-02   7.39056033e-02]\n",
      " [  1.74121006e-02   1.12541380e-02   9.99785058e-01  -2.32736150e+00]\n",
      " [  0.00000000e+00   0.00000000e+00   0.00000000e+00   1.00000000e+00]]\n",
      "[[  9.99689474e-01   2.85666736e-03  -2.47546919e-02  -1.26387714e-02]\n",
      " [ -3.21556309e-03   9.99890127e-01  -1.44704319e-02   1.02570394e-01]\n",
      " [  2.47106349e-02   1.45455388e-02   9.99588821e-01  -2.89005174e+00]\n",
      " [  0.00000000e+00   0.00000000e+00   0.00000000e+00   1.00000000e+00]]\n",
      "None\n"
     ]
    },
    {
     "name": "stderr",
     "output_type": "stream",
     "text": [
      " 95% (95 of 100) |######################  | Elapsed Time: 0:00:53 ETA:  0:00:01"
     ]
    },
    {
     "name": "stdout",
     "output_type": "stream",
     "text": [
      "[[  9.99645881e-01  -9.42642063e-03  -2.48848264e-02  -2.64417173e-02]\n",
      " [  9.44760186e-03   9.99955101e-01   7.33736026e-04   1.20724991e-02]\n",
      " [  2.48767926e-02  -9.68578128e-04   9.99690055e-01  -1.06403600e+00]\n",
      " [  0.00000000e+00   0.00000000e+00   0.00000000e+00   1.00000000e+00]]\n",
      "[[  9.98987456e-01  -1.39430061e-02  -4.27744719e-02  -2.10753142e-02]\n",
      " [  1.39781762e-02   9.99902164e-01   5.23226062e-04  -4.07383877e-03]\n",
      " [  4.27629916e-02  -1.12060538e-03   9.99084616e-01  -1.58272851e+00]\n",
      " [  0.00000000e+00   0.00000000e+00   0.00000000e+00   1.00000000e+00]]\n"
     ]
    },
    {
     "name": "stderr",
     "output_type": "stream",
     "text": [
      " 97% (97 of 100) |####################### | Elapsed Time: 0:00:54 ETA:  0:00:00"
     ]
    },
    {
     "name": "stdout",
     "output_type": "stream",
     "text": [
      "[[  9.97758815e-01  -1.31038869e-02  -6.56173443e-02   1.95014351e-02]\n",
      " [  1.30253257e-02   9.99913847e-01  -1.62494314e-03   3.22870317e-02]\n",
      " [  6.56329842e-02   7.66614062e-04   9.97843537e-01  -2.05550064e+00]\n",
      " [  0.00000000e+00   0.00000000e+00   0.00000000e+00   1.00000000e+00]]\n",
      "[[  9.95754394e-01  -6.41902464e-03  -9.18258268e-02   5.68269027e-02]\n",
      " [  6.31802983e-03   9.99979074e-01  -1.39050581e-03   5.23851997e-02]\n",
      " [  9.18328310e-02   8.04443961e-04   9.95774113e-01  -2.51274150e+00]\n",
      " [  0.00000000e+00   0.00000000e+00   0.00000000e+00   1.00000000e+00]]\n",
      "None\n"
     ]
    },
    {
     "name": "stderr",
     "output_type": "stream",
     "text": [
      "100% (100 of 100) |#######################| Elapsed Time: 0:00:55 Time: 0:00:55\n"
     ]
    },
    {
     "name": "stdout",
     "output_type": "stream",
     "text": [
      "[[ 0.99802913  0.00102607 -0.06274398 -0.03252344]\n",
      " [-0.00125801  0.99999252 -0.00365711  0.02160299]\n",
      " [ 0.06273976  0.00372883  0.99802295 -0.93380916]\n",
      " [ 0.          0.          0.          1.        ]]\n",
      "[[  9.94940466e-01   3.79237600e-04  -1.00465540e-01  -2.06990064e-02]\n",
      " [ -8.24290984e-04   9.99990031e-01  -4.38843645e-03   2.73059544e-02]\n",
      " [  1.00462874e-01   4.44904585e-03   9.94930860e-01  -1.41431675e+00]\n",
      " [  0.00000000e+00   0.00000000e+00   0.00000000e+00   1.00000000e+00]]\n"
     ]
    }
   ],
   "source": [
    "bar = ProgressBar()\n",
    "LEFTDIR = '/data/urbinn/datasets/kitti/sequences/00/image_2'\n",
    "RIGHTDIR = '/data/urbinn/datasets/kitti/sequences/00/image_3'\n",
    "\n",
    "seq = Sequence()\n",
    "for frameid in bar(range(100)):\n",
    "    filename = '%06d.png'%(frameid)\n",
    "    left_frame = Frame(LEFTDIR + '/' + filename, RIGHTDIR)\n",
    "    seq.add_frame(left_frame, clean=True)"
   ]
  },
  {
   "cell_type": "code",
   "execution_count": 4,
   "metadata": {
    "collapsed": true
   },
   "outputs": [],
   "source": [
    "trajectoryXZ = []\n",
    "points = []\n",
    "\n",
    "for frame in seq.keyframes[:]:\n",
    "    pose = frame.get_pose()\n",
    "    if pose is not None:\n",
    "        points_new = []\n",
    "        for p in points:\n",
    "            p = np.dot(pose, p)\n",
    "            points_new.append(p)\n",
    "        points = points_new\n",
    "        new_point = np.array([0,0,0,1.0])\n",
    "        points.append(new_point)\n",
    "  \n",
    "\n",
    "minx = min([p[0] for p in points])\n",
    "maxx = max([p[0] for p in points])\n",
    "miny = min([p[2] for p in points])\n",
    "maxy = max([p[2] for p in points])\n",
    "maxxy = max(maxx, minx, maxy - miny)\n",
    "\n",
    "for p in points:\n",
    "    #print(p)\n",
    "    x = 400 * (p[0] - minx) / (maxxy)\n",
    "    z = 400 * (p[2] - miny) / (maxxy)\n",
    "    trajectoryXZ.append([x, z])"
   ]
  },
  {
   "cell_type": "code",
   "execution_count": 5,
   "metadata": {},
   "outputs": [
    {
     "data": {
      "image/png": "[encoded data removed]",
      "text/plain": [
       "<matplotlib.figure.Figure at 0x7f5ca81e1ba8>"
      ]
     },
     "metadata": {},
     "output_type": "display_data"
    }
   ],
   "source": [
    "# Create a blank image\n",
    "img = np.zeros((400, 400, 3), np.uint8) \n",
    "img[:] = 255 #or img.fill(255)\n",
    "\n",
    "# Draw a black line with thickness of 2 px\n",
    "for i in range(1,len(trajectoryXZ)):\n",
    "    cv2.line(img, (int(trajectoryXZ[i - 1][0]), int(trajectoryXZ[i - 1][1])), (int(trajectoryXZ[i][0]), int(trajectoryXZ[i][1])), (0, 0, 0), 1)\n",
    "show(img)"
   ]
  },
  {
   "cell_type": "code",
   "execution_count": 6,
   "metadata": {},
   "outputs": [
    {
     "data": {
      "text/plain": [
       "32"
      ]
     },
     "execution_count": 6,
     "metadata": {},
     "output_type": "execute_result"
    }
   ],
   "source": [
    "len(trajectoryXZ)"
   ]
  },
  {
   "cell_type": "code",
   "execution_count": null,
   "metadata": {
    "collapsed": true
   },
   "outputs": [],
   "source": []
  }
 ],
 "metadata": {
  "kernelspec": {
   "display_name": "Python 3",
   "language": "python",
   "name": "python3"
  }
 },
 "nbformat": 4,
 "nbformat_minor": 2
}
