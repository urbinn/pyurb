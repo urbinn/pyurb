{
 "cells": [
  {
   "cell_type": "markdown",
   "metadata": {},
   "source": [
    "# Match Kitti Sequence version 22-11\n",
    "\n",
    "Reads a sequence of stereo images as Frame. The Frames are scanned to identify FramePoints that are pixels that are at the top or botrom of vertical lines in the image. A patch is taken around each of the FramePoints in the left hand image, to match these to a patch in the right hand image and estimate the disparity/distance of the framePoint.\n",
    "\n",
    "A Sequence is created in which the first Frame is the KeyFrame. It's initial FramePoints are culled to keep only the points for which there is a confident estimate of its depth. The consecutive frames are used to track the KeyFrame's remaining FramePoints. Only a limited number of all framePoints will be found in the consecutive frames, mostly because nearby objects become larger quickly as we get closer. The matching FramePoints are given the same FramePointId as the corresponding point in the KeyFrame and its depth is estimated.\n",
    "\n",
    "The results are dumped into a folder 'dump', containing files 0.txt, 1.txt, etc. 0.txt contains the FramePoints as observed from the first frame, 1.txt form the second frame, etc. In these files, each row contains a single FramePoint with the values FramePointID, X, Y, Depth."
   ]
  },
  {
   "cell_type": "code",
   "execution_count": 4,
   "metadata": {},
   "outputs": [],
   "source": [
    "# when you change a setting you have to restart the kernel (settings are only loaded once)\n",
    "import os\n",
    "os.environ['STEREO_CONFIDENCE'] = '1.6'\n",
    "os.environ['SEQUENCE_CONFIDENCE'] = '1.6'\n",
    "#os.environ['PATCH_SIZE'] = '17'\n",
    "FRAMECOUNT = 1101\n",
    "\n",
    "from pyurb.urb_kitti import *\n",
    "%matplotlib inline\n",
    "import numpy as np"
   ]
  },
  {
   "cell_type": "markdown",
   "metadata": {},
   "source": [
    "Read the first 10 frames from KITTI sequence 00."
   ]
  },
  {
   "cell_type": "code",
   "execution_count": 5,
   "metadata": {},
   "outputs": [
    {
     "name": "stdout",
     "output_type": "stream",
     "text": [
      "CPU times: user 431 µs, sys: 848 µs, total: 1.28 ms\n",
      "Wall time: 1.29 ms\n"
     ]
    }
   ],
   "source": [
    "%%time\n",
    "LEFTDIR = '/data/urbinn/datasets/kitti/sequences/01/image_2'\n",
    "RIGHTDIR = '/data/urbinn/datasets/kitti/sequences/01/image_3'\n",
    "\n",
    "frame = []\n",
    "for frameid in range(FRAMECOUNT):\n",
    "    filename = '%06d.png'%(frameid)\n",
    "    left_frame = Frame(LEFTDIR + '/' + filename, RIGHTDIR)\n",
    "    frame.append(left_frame)"
   ]
  },
  {
   "cell_type": "code",
   "execution_count": 6,
   "metadata": {},
   "outputs": [
    {
     "name": "stdout",
     "output_type": "stream",
     "text": [
      "1101\n"
     ]
    }
   ],
   "source": [
    "%%bash\n",
    "ls /data/urbinn/datasets/kitti/sequences/01/image_2 | wc -l\n"
   ]
  },
  {
   "cell_type": "markdown",
   "metadata": {},
   "source": [
    "Inspect the FramePoints for the first frame"
   ]
  },
  {
   "cell_type": "markdown",
   "metadata": {},
   "source": [
    "We can also manually compute the Depth of the points and show these"
   ]
  },
  {
   "cell_type": "markdown",
   "metadata": {},
   "source": [
    "Turn the list of frames into a sequence. The first frame is automatically taken as the KeyFrame and its FramePoints are rerieved, depth is estimated, only the most confident points are kept, and they are tracked in the other frames."
   ]
  },
  {
   "cell_type": "code",
   "execution_count": null,
   "metadata": {},
   "outputs": [
    {
     "name": "stderr",
     "output_type": "stream",
     "text": [
      "  0% (5 of 1101) |                        | Elapsed Time: 0:00:07 ETA:  0:26:43"
     ]
    },
    {
     "name": "stdout",
     "output_type": "stream",
     "text": [
      "invalid speed 4.20373948795 -1.03510464781 \n",
      " [[ 0.97477079  0.0036529  -0.22317834  1.76321253]\n",
      " [-0.00251859  0.99998243  0.00536694 -0.1015843 ]\n",
      " [ 0.22319402 -0.00466944  0.97476286 -0.01759371]\n",
      " [ 0.          0.          0.          1.        ]]\n"
     ]
    },
    {
     "name": "stderr",
     "output_type": "stream",
     "text": [
      "  1% (16 of 1101) |                       | Elapsed Time: 0:00:19 ETA:  0:12:13"
     ]
    },
    {
     "name": "stdout",
     "output_type": "stream",
     "text": [
      "WARNING: invalid pose estimation\n",
      "150 -1.00338851616 [[  9.98943459e-01   9.72309543e-05  -4.59560289e-02  -2.08941232e-02]\n",
      " [ -1.12544650e-05   9.99998249e-01   1.87109748e-03   7.17438652e-03]\n",
      " [  4.59561304e-02  -1.86860338e-03   9.98941711e-01  -1.00338852e+00]\n",
      " [  0.00000000e+00   0.00000000e+00   0.00000000e+00   1.00000000e+00]]\n",
      "invalid speed -2.08640786322 -1.09959396519 \n",
      " [[  9.95641204e-01   3.08054441e-03  -9.32153570e-02   6.39715736e-02]\n",
      " [ -2.89525640e-03   9.99993555e-01   2.12291185e-03   3.22341005e-02]\n",
      " [  9.32212960e-02  -1.84377615e-03   9.95643707e-01  -2.08640786e+00]\n",
      " [  0.00000000e+00   0.00000000e+00   0.00000000e+00   1.00000000e+00]]\n"
     ]
    },
    {
     "name": "stderr",
     "output_type": "stream",
     "text": [
      "\r",
      "                                                                               \r",
      "\r",
      "  1% (17 of 1101) |                       | Elapsed Time: 0:00:22 ETA:  0:15:33"
     ]
    },
    {
     "name": "stdout",
     "output_type": "stream",
     "text": [
      "WARNING: invalid pose estimation\n",
      "146 -1.00517670237 [[  9.98912562e-01   3.57953037e-03  -4.64852676e-02  -1.64516709e-02]\n",
      " [ -3.59418415e-03   9.99993514e-01  -2.31654796e-04   3.21980523e-02]\n",
      " [  4.64841369e-02   3.98479497e-04   9.98918949e-01  -1.00517670e+00]\n",
      " [  0.00000000e+00   0.00000000e+00   0.00000000e+00   1.00000000e+00]]\n",
      "invalid speed -2.04236292523 -1.06812154425 \n",
      " [[  9.95616080e-01   3.06044939e-03  -9.34839845e-02   8.86356017e-02]\n",
      " [ -2.99482780e-03   9.99995161e-01   8.42239115e-04   3.24173737e-02]\n",
      " [  9.34861098e-02  -5.58578370e-04   9.95620427e-01  -2.04236293e+00]\n",
      " [  0.00000000e+00   0.00000000e+00   0.00000000e+00   1.00000000e+00]]\n"
     ]
    },
    {
     "name": "stderr",
     "output_type": "stream",
     "text": [
      "  2% (29 of 1101) |                       | Elapsed Time: 0:00:32 ETA:  0:13:45"
     ]
    },
    {
     "name": "stdout",
     "output_type": "stream",
     "text": [
      "invalid speed 0.00978176847203 -0.836114527871 \n",
      " [[  9.94458456e-01  -1.91204635e-03  -1.05112909e-01   1.16544995e-01]\n",
      " [  1.18729390e-03   9.99975094e-01  -6.95713093e-03   2.61644327e-01]\n",
      " [  1.05123593e-01   6.79377777e-03   9.94435958e-01  -1.36437807e+00]\n",
      " [  0.00000000e+00   0.00000000e+00   0.00000000e+00   1.00000000e+00]]\n"
     ]
    },
    {
     "name": "stderr",
     "output_type": "stream",
     "text": [
      "  2% (32 of 1101) |                       | Elapsed Time: 0:00:37 ETA:  0:20:37"
     ]
    },
    {
     "name": "stdout",
     "output_type": "stream",
     "text": [
      "invalid speed 1.6025639317 -1.05312674112 \n",
      " [[ 0.98815847 -0.01312812 -0.15287411  1.97624828]\n",
      " [ 0.01701677  0.99956336  0.02415632 -2.46549206]\n",
      " [ 0.15249023 -0.0264717   0.98795039 -1.74563854]\n",
      " [ 0.          0.          0.          1.        ]]\n"
     ]
    },
    {
     "name": "stderr",
     "output_type": "stream",
     "text": [
      "  3% (35 of 1101) |                       | Elapsed Time: 0:00:45 ETA:  0:29:48"
     ]
    },
    {
     "name": "stdout",
     "output_type": "stream",
     "text": [
      "invalid speed -2.60391667444 -1.08572143743 \n",
      " [[ 0.98866279  0.04793615 -0.14229549  2.92971594]\n",
      " [-0.04469653  0.99866537  0.02587838 -1.77550021]\n",
      " [ 0.14334609 -0.01922487  0.98948588 -5.90480226]\n",
      " [ 0.          0.          0.          1.        ]]\n"
     ]
    },
    {
     "name": "stderr",
     "output_type": "stream",
     "text": [
      "  3% (39 of 1101) |                       | Elapsed Time: 0:01:00 ETA:  0:49:03"
     ]
    },
    {
     "name": "stdout",
     "output_type": "stream",
     "text": [
      "invalid speed 1.04788572238 -1.14306766881 \n",
      " [[ 0.98621678 -0.0109049  -0.16509858  3.48114586]\n",
      " [ 0.01397536  0.99975011  0.01744753 -1.9040428 ]\n",
      " [ 0.16486706 -0.01951436  0.98612273 -3.57027774]\n",
      " [ 0.          0.          0.          1.        ]]\n"
     ]
    },
    {
     "name": "stderr",
     "output_type": "stream",
     "text": [
      "  4% (46 of 1101) |                       | Elapsed Time: 0:01:28 ETA:  0:58:51"
     ]
    },
    {
     "name": "stdout",
     "output_type": "stream",
     "text": [
      "invalid speed 49.6375225953 -1.05211915808 \n",
      " [[  9.77455870e-01   9.97685144e-03  -2.10903969e-01   1.99213376e+01]\n",
      " [ -9.87686215e-03   9.99950056e-01   1.52750217e-03  -5.52421497e+00]\n",
      " [  2.10908675e-01   5.90003469e-04   9.77505592e-01   4.17137463e+01]\n",
      " [  0.00000000e+00   0.00000000e+00   0.00000000e+00   1.00000000e+00]]\n"
     ]
    },
    {
     "name": "stderr",
     "output_type": "stream",
     "text": [
      "  4% (49 of 1101) |#                      | Elapsed Time: 0:01:52 ETA:  1:31:11"
     ]
    },
    {
     "name": "stdout",
     "output_type": "stream",
     "text": [
      "invalid speed 4.40441479961 -1.23627740149 \n",
      " [[ 0.99888723  0.01217285 -0.04556454  2.50112023]\n",
      " [-0.01201411  0.99992077  0.00375614  0.13688259]\n",
      " [ 0.04560665 -0.00320454  0.99895434  0.55834975]\n",
      " [ 0.          0.          0.          1.        ]]\n"
     ]
    },
    {
     "name": "stderr",
     "output_type": "stream",
     "text": [
      "  4% (52 of 1101) |#                      | Elapsed Time: 0:02:21 ETA:  1:53:51"
     ]
    },
    {
     "name": "stdout",
     "output_type": "stream",
     "text": [
      "invalid speed 4.45539006632 -1.33682050348 \n",
      " [[  9.99100797e-01   1.46041332e-02  -3.98034864e-02   3.16815026e+00]\n",
      " [ -1.47382846e-02   9.99886645e-01  -3.07897970e-03   5.28286593e-01]\n",
      " [  3.97540086e-02   3.66284618e-03   9.99202783e-01   3.60216947e-01]\n",
      " [  0.00000000e+00   0.00000000e+00   0.00000000e+00   1.00000000e+00]]\n"
     ]
    },
    {
     "name": "stderr",
     "output_type": "stream",
     "text": [
      "\r",
      "                                                                               \r",
      "\r",
      "  4% (53 of 1101) |#                      | Elapsed Time: 0:02:43 ETA:  2:26:06"
     ]
    }
   ],
   "source": [
    "seq = Sequence()\n",
    "for f in ProgressBar()(frame):\n",
    "    seq.add_frame(f)"
   ]
  },
  {
   "cell_type": "code",
   "execution_count": null,
   "metadata": {
    "collapsed": true
   },
   "outputs": [],
   "source": []
  },
  {
   "cell_type": "code",
   "execution_count": null,
   "metadata": {},
   "outputs": [],
   "source": [
    "show2(draw_frame_depth(frame[0]), draw_frame_depth(frame[1]))"
   ]
  },
  {
   "cell_type": "raw",
   "metadata": {},
   "source": [
    "cv_keyframes = get_covisible_keyframes(seq.keyframes[2])\n",
    "mappoints = get_mappoints(cv_keyframes)\n",
    "f_keyframes = get_fixed_keyframes(mappoints, cv_keyframes)\n",
    "\n",
    "cv_keyframes_np = keyframes_to_np(cv_keyframes)\n",
    "f_keyframes_np = keyframes_to_np(f_keyframes)\n",
    "mappoints_np = mappoints_to_np(mappoints)\n",
    "links_np = links_to_np(mappoints)\n",
    "\n",
    "np.save('cv_keyframes', cv_keyframes_np)\n",
    "np.save('f_keyframes', f_keyframes_np)\n",
    "np.save('mappoints', mappoints_np)\n",
    "np.save('links', links_np)\n"
   ]
  },
  {
   "cell_type": "raw",
   "metadata": {},
   "source": [
    "keyframes_np = keyframes_to_np(seq.keyframes)\n",
    "mappoints = get_mappoints(seq.keyframes)\n",
    "mappoints_np = mappoints_to_np(mappoints)\n",
    "links_np = links_to_np(mappoints)\n",
    "suffix = '_{}_{}_{}_{}'.format(FRAMECOUNT, PATCH_SIZE, STEREO_CONFIDENCE, SEQUENCE_CONFIDENCE)\n",
    "np.save('results/mappoints' + suffix, mappoints_np)\n",
    "np.save('results/links' + suffix, links_np)\n",
    "np.save('results/keyframes' + suffix, keyframes_np)"
   ]
  },
  {
   "cell_type": "markdown",
   "metadata": {},
   "source": [
    "Show only the ID's in frame[0] that are actually in frame[1], to avoid clutter in the image."
   ]
  },
  {
   "cell_type": "code",
   "execution_count": 2,
   "metadata": {
    "collapsed": true
   },
   "outputs": [],
   "source": [
    "#kp0 = [kp for kp in frame[0].get_observations() if kp.get_mappoint() in { p.get_mappoint() for p in frame[1].get_observations() }]\n",
    "#kp1 = [kp for kp in frame[1].get_observations() if kp.has_mappoint()]\n",
    "#frame[1].compute_depth()\n",
    "#show2(draw_observations_depth(kp0), draw_observations_depth(kp1))"
   ]
  },
  {
   "cell_type": "code",
   "execution_count": 3,
   "metadata": {},
   "outputs": [
    {
     "ename": "NameError",
     "evalue": "name 'frame' is not defined",
     "output_type": "error",
     "traceback": [
      "\u001b[0;31m---------------------------------------------------------------------------\u001b[0m",
      "\u001b[0;31mNameError\u001b[0m                                 Traceback (most recent call last)",
      "\u001b[0;32m<ipython-input-3-e0b1a2bedc6b>\u001b[0m in \u001b[0;36m<module>\u001b[0;34m()\u001b[0m\n\u001b[0;32m----> 1\u001b[0;31m \u001b[0mframe\u001b[0m\u001b[0;34m[\u001b[0m\u001b[0;36m5\u001b[0m\u001b[0;34m]\u001b[0m\u001b[0;34m.\u001b[0m\u001b[0mcompute_depth\u001b[0m\u001b[0;34m(\u001b[0m\u001b[0;34m)\u001b[0m\u001b[0;34m\u001b[0m\u001b[0m\n\u001b[0m\u001b[1;32m      2\u001b[0m \u001b[0mframe\u001b[0m\u001b[0;34m[\u001b[0m\u001b[0;36m5\u001b[0m\u001b[0;34m]\u001b[0m\u001b[0;34m.\u001b[0m\u001b[0mfilter_not_useful\u001b[0m\u001b[0;34m(\u001b[0m\u001b[0;34m)\u001b[0m\u001b[0;34m\u001b[0m\u001b[0m\n\u001b[1;32m      3\u001b[0m \u001b[0mframe\u001b[0m\u001b[0;34m[\u001b[0m\u001b[0;36m6\u001b[0m\u001b[0;34m]\u001b[0m\u001b[0;34m.\u001b[0m\u001b[0mcompute_depth\u001b[0m\u001b[0;34m(\u001b[0m\u001b[0;34m)\u001b[0m\u001b[0;34m\u001b[0m\u001b[0m\n\u001b[1;32m      4\u001b[0m \u001b[0mframe\u001b[0m\u001b[0;34m[\u001b[0m\u001b[0;36m6\u001b[0m\u001b[0;34m]\u001b[0m\u001b[0;34m.\u001b[0m\u001b[0mfilter_not_useful\u001b[0m\u001b[0;34m(\u001b[0m\u001b[0;34m)\u001b[0m\u001b[0;34m\u001b[0m\u001b[0m\n\u001b[1;32m      5\u001b[0m \u001b[0mobs1\u001b[0m \u001b[0;34m=\u001b[0m \u001b[0;34m[\u001b[0m\u001b[0mo\u001b[0m \u001b[0;32mfor\u001b[0m \u001b[0mo\u001b[0m \u001b[0;32min\u001b[0m \u001b[0mframe\u001b[0m\u001b[0;34m[\u001b[0m\u001b[0;36m5\u001b[0m\u001b[0;34m]\u001b[0m\u001b[0;34m.\u001b[0m\u001b[0mget_observations\u001b[0m\u001b[0;34m(\u001b[0m\u001b[0;34m)\u001b[0m \u001b[0;34m]\u001b[0m\u001b[0;34m\u001b[0m\u001b[0m\n",
      "\u001b[0;31mNameError\u001b[0m: name 'frame' is not defined"
     ]
    }
   ],
   "source": [
    "frame[5].compute_depth()\n",
    "frame[5].filter_not_useful()\n",
    "frame[6].compute_depth()\n",
    "frame[6].filter_not_useful()\n",
    "obs1 = [o for o in frame[5].get_observations() ]\n",
    "obs2 = [o for o in frame[6].get_observations() ]"
   ]
  },
  {
   "cell_type": "code",
   "execution_count": null,
   "metadata": {
    "collapsed": true
   },
   "outputs": [],
   "source": [
    "show2(draw_observations_depth(obs1), draw_observations_depth(obs2))"
   ]
  },
  {
   "cell_type": "code",
   "execution_count": null,
   "metadata": {
    "collapsed": true
   },
   "outputs": [],
   "source": [
    "frame[5].compute_depth()\n",
    "a = [ (o.get_depth(), o.confidence) for o in frame[5].get_observations() if o.confidence is not None and o.confidence > 1.4 ]\n",
    "len(a)\n",
    "#show2(draw_frame(frame[5]), draw_frame(frame[5].get_right_frame()))"
   ]
  },
  {
   "cell_type": "code",
   "execution_count": null,
   "metadata": {
    "collapsed": true
   },
   "outputs": [],
   "source": [
    "pl = [ o for o in frame[5].get_observations() if o.confidence is not None and o.confidence > 1.4 ]\n",
    "show(draw_observations_depth(pl))"
   ]
  },
  {
   "cell_type": "code",
   "execution_count": null,
   "metadata": {},
   "outputs": [],
   "source": [
    "show2(draw_frame(frame[0]), draw_frame(f.get_right_frame()))"
   ]
  },
  {
   "cell_type": "code",
   "execution_count": null,
   "metadata": {
    "collapsed": true
   },
   "outputs": [],
   "source": [
    "f = frame[0]"
   ]
  },
  {
   "cell_type": "code",
   "execution_count": null,
   "metadata": {
    "collapsed": true
   },
   "outputs": [],
   "source": [
    "f.compute_depth()"
   ]
  },
  {
   "cell_type": "code",
   "execution_count": null,
   "metadata": {},
   "outputs": [],
   "source": [
    "show(draw_observations_depth(frame[0].get_observations()[:100]))"
   ]
  },
  {
   "cell_type": "code",
   "execution_count": null,
   "metadata": {
    "collapsed": true
   },
   "outputs": [],
   "source": []
  }
 ],
 "metadata": {
  "kernelspec": {
   "display_name": "Python 3",
   "language": "python",
   "name": "python3"
  },
  "language_info": {
   "codemirror_mode": {
    "name": "ipython",
    "version": 3
   },
   "file_extension": ".py",
   "mimetype": "text/x-python",
   "name": "python",
   "nbconvert_exporter": "python",
   "pygments_lexer": "ipython3",
   "version": "3.6.1"
  }
 },
 "nbformat": 4,
 "nbformat_minor": 2
}
