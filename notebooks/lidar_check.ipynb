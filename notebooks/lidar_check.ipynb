{
 "cells": [
  {
   "cell_type": "markdown",
   "metadata": {},
   "source": [
    "# Check distance with lidar data\n",
    "\n",
    "not finished"
   ]
  },
  {
   "cell_type": "code",
   "execution_count": 1,
   "metadata": {
    "collapsed": true
   },
   "outputs": [],
   "source": [
    "from pyurb.urb_kitti import *\n",
    "import pykitti"
   ]
  },
  {
   "cell_type": "code",
   "execution_count": 2,
   "metadata": {
    "collapsed": true
   },
   "outputs": [],
   "source": [
    "calib = pykitti.utils.read_calib_file('/data/urbinn/datasets/kitti/sequences/00/calib.txt')\n",
    "scans = pykitti.utils.get_velo_scans(['/data/urbinn/datasets/kitti/sequences/00/velodyne/000000.bin'])\n",
    "lidarPoints = next(scans)"
   ]
  },
  {
   "cell_type": "code",
   "execution_count": 3,
   "metadata": {
    "collapsed": true
   },
   "outputs": [],
   "source": [
    "left = readImage('/data/urbinn/datasets/kitti/sequences/00/image_2/000000.png')"
   ]
  },
  {
   "cell_type": "code",
   "execution_count": 33,
   "metadata": {
    "collapsed": true
   },
   "outputs": [],
   "source": [
    "v2c = np.matrix('7.533745e-03 -9.999714e-01 -6.166020e-04 -4.069766e-03; 1.480249e-02 7.280733e-04 -9.998902e-01 -7.631618e-02; 9.998621e-01 7.523790e-03 1.480755e-02 -2.717806e-01; 0 0 0 1')\n",
    "\n",
    "#v2c = np.array(calib['Tr']).reshape((3,4))\n",
    "#v2c = np.matrix(np.vstack((v2c, np.array([0,0,0,1]))))"
   ]
  },
  {
   "cell_type": "code",
   "execution_count": 34,
   "metadata": {
    "collapsed": true
   },
   "outputs": [],
   "source": [
    "cameraFx = 718.856\n",
    "cameraFy = 718.856\n",
    "cameraCx = 607.1928\n",
    "cameraCy = 185.2157\n",
    "\n",
    "def toCamPoint(p):\n",
    "    p[3] = 1\n",
    "    p = np.matrix(np.array(p).reshape(4,1))\n",
    "    p = v2c * p\n",
    "    p[0,0] = p[0,0] * cameraFx + cameraCx\n",
    "    p[1,0] = p[1,0] * cameraFy + cameraCy\n",
    "    return (int(p[0,0]), int(p[1,0]), p[2,0])\n",
    "    "
   ]
  },
  {
   "cell_type": "code",
   "execution_count": 35,
   "metadata": {},
   "outputs": [
    {
     "data": {
      "text/plain": [
       "[(427, 232, 73.790759416809252),\n",
       " (260, 232, 73.86510935844818),\n",
       " (1138, 159, 52.456165270942058),\n",
       " (1203, 316, 39.753378668875229),\n",
       " (1114, 317, 39.798902049372217),\n",
       " (1024, 317, 39.872417633551343),\n",
       " (495, 359, -78.373532984342049),\n",
       " (595, 194, -44.114195119453036),\n",
       " (695, 194, -44.156536146697562),\n",
       " (795, 194, -44.231866464150734),\n",
       " (898, 196, -44.665310730563974)]"
      ]
     },
     "execution_count": 35,
     "metadata": {},
     "output_type": "execute_result"
    }
   ],
   "source": [
    "points = [toCamPoint(p) for p in lidarPoints]\n",
    "points = [p for p in points if p[0] > 0 and p[0] < 1242 and p[1] > 0 and p[1] < 376]\n",
    "points"
   ]
  },
  {
   "cell_type": "code",
   "execution_count": null,
   "metadata": {
    "collapsed": true
   },
   "outputs": [],
   "source": []
  }
 ],
 "metadata": {
  "kernelspec": {
   "display_name": "Python 3",
   "language": "python",
   "name": "python3"
  },
  "language_info": {
   "codemirror_mode": {
    "name": "ipython",
    "version": 3
   },
   "file_extension": ".py",
   "mimetype": "text/x-python",
   "name": "python",
   "nbconvert_exporter": "python",
   "pygments_lexer": "ipython3",
   "version": "3.6.1"
  }
 },
 "nbformat": 4,
 "nbformat_minor": 2
}
