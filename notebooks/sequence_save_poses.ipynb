{
 "cells": [
  {
   "cell_type": "markdown",
   "metadata": {},
   "source": [
    "# Sequence save poses\n",
    "\n",
    "Save a list of poses for an entire sequence for use with full Bundle Adjustment"
   ]
  },
  {
   "cell_type": "code",
   "execution_count": 1,
   "metadata": {
    "collapsed": true
   },
   "outputs": [],
   "source": [
    "# when you change a setting you have to restart the kernel (settings are only loaded once)\n",
    "import os\n",
    "os.environ['STEREO_CONFIDENCE'] = '1.6'\n",
    "os.environ['SEQUENCE_CONFIDENCE'] = '1.6'\n",
    "#os.environ['PATCH_SIZE'] = '17'\n",
    "FRAMECOUNT = 1101\n",
    "\n",
    "import sys\n",
    "sys.path.append('..')\n",
    "from pyurb.urb_kitti import *\n",
    "%matplotlib inline\n",
    "import numpy as np\n",
    "import glob"
   ]
  },
  {
   "cell_type": "markdown",
   "metadata": {},
   "source": [
    "Read the first 10 frames from KITTI sequence 00."
   ]
  },
  {
   "cell_type": "code",
   "execution_count": 2,
   "metadata": {},
   "outputs": [
    {
     "name": "stdout",
     "output_type": "stream",
     "text": [
      "CPU times: user 4.55 ms, sys: 922 µs, total: 5.47 ms\n",
      "Wall time: 4.65 ms\n"
     ]
    }
   ],
   "source": [
    "%%time\n",
    "LEFTDIR = '/data/urbinn/datasets/kitti/sequences/01/image_2'\n",
    "RIGHTDIR = '/data/urbinn/datasets/kitti/sequences/01/image_3'\n",
    "\n",
    "frame = []\n",
    "for filename in sorted(glob.glob(LEFTDIR + '/*')):\n",
    "    left_frame = Frame(filename, RIGHTDIR)\n",
    "    frame.append(left_frame)"
   ]
  },
  {
   "cell_type": "markdown",
   "metadata": {},
   "source": [
    "Inspect the FramePoints for the first frame"
   ]
  },
  {
   "cell_type": "markdown",
   "metadata": {},
   "source": [
    "We can also manually compute the Depth of the points and show these"
   ]
  },
  {
   "cell_type": "markdown",
   "metadata": {},
   "source": [
    "Turn the list of frames into a sequence. The first frame is automatically taken as the KeyFrame and its FramePoints are rerieved, depth is estimated, only the most confident points are kept, and they are tracked in the other frames."
   ]
  },
  {
   "cell_type": "code",
   "execution_count": 3,
   "metadata": {},
   "outputs": [
    {
     "name": "stderr",
     "output_type": "stream",
     "text": [
      " 20% (5 of 25) |#####                     | Elapsed Time: 0:00:08 ETA:  0:00:35"
     ]
    },
    {
     "name": "stdout",
     "output_type": "stream",
     "text": [
      "invalid speed 4.20373948795 -1.03510464781 \n",
      " [[ 0.97477079  0.0036529  -0.22317834  1.76321253]\n",
      " [-0.00251859  0.99998243  0.00536694 -0.1015843 ]\n",
      " [ 0.22319402 -0.00466944  0.97476286 -0.01759371]\n",
      " [ 0.          0.          0.          1.        ]]\n"
     ]
    },
    {
     "name": "stderr",
     "output_type": "stream",
     "text": [
      " 64% (16 of 25) |################         | Elapsed Time: 0:00:23 ETA:  0:00:07"
     ]
    },
    {
     "name": "stdout",
     "output_type": "stream",
     "text": [
      "WARNING: invalid pose estimation\n",
      "150 -1.00338851616 [[  9.98943459e-01   9.72309543e-05  -4.59560289e-02  -2.08941232e-02]\n",
      " [ -1.12544650e-05   9.99998249e-01   1.87109748e-03   7.17438652e-03]\n",
      " [  4.59561304e-02  -1.86860338e-03   9.98941711e-01  -1.00338852e+00]\n",
      " [  0.00000000e+00   0.00000000e+00   0.00000000e+00   1.00000000e+00]]\n",
      "invalid speed -2.08640786322 -1.09959396519 \n",
      " [[  9.95641204e-01   3.08054441e-03  -9.32153570e-02   6.39715736e-02]\n",
      " [ -2.89525640e-03   9.99993555e-01   2.12291185e-03   3.22341005e-02]\n",
      " [  9.32212960e-02  -1.84377615e-03   9.95643707e-01  -2.08640786e+00]\n",
      " [  0.00000000e+00   0.00000000e+00   0.00000000e+00   1.00000000e+00]]\n"
     ]
    },
    {
     "name": "stderr",
     "output_type": "stream",
     "text": [
      "\r",
      "                                                                               \r",
      "\r",
      " 68% (17 of 25) |#################        | Elapsed Time: 0:00:26 ETA:  0:00:08"
     ]
    },
    {
     "name": "stdout",
     "output_type": "stream",
     "text": [
      "WARNING: invalid pose estimation\n",
      "146 -1.00517670237 [[  9.98912562e-01   3.57953037e-03  -4.64852676e-02  -1.64516709e-02]\n",
      " [ -3.59418415e-03   9.99993514e-01  -2.31654796e-04   3.21980523e-02]\n",
      " [  4.64841369e-02   3.98479497e-04   9.98918949e-01  -1.00517670e+00]\n",
      " [  0.00000000e+00   0.00000000e+00   0.00000000e+00   1.00000000e+00]]\n",
      "invalid speed -2.04236292523 -1.06812154425 \n",
      " [[  9.95616080e-01   3.06044939e-03  -9.34839845e-02   8.86356017e-02]\n",
      " [ -2.99482780e-03   9.99995161e-01   8.42239115e-04   3.24173737e-02]\n",
      " [  9.34861098e-02  -5.58578370e-04   9.95620427e-01  -2.04236293e+00]\n",
      " [  0.00000000e+00   0.00000000e+00   0.00000000e+00   1.00000000e+00]]\n"
     ]
    },
    {
     "name": "stderr",
     "output_type": "stream",
     "text": [
      "100% (25 of 25) |#########################| Elapsed Time: 0:00:34 Time: 0:00:34\n"
     ]
    }
   ],
   "source": [
    "seq = Sequence()\n",
    "for f in ProgressBar()(frame[:25]):\n",
    "    seq.add_frame(f)"
   ]
  },
  {
   "cell_type": "code",
   "execution_count": 6,
   "metadata": {},
   "outputs": [],
   "source": [
    "import shutil\n",
    "OUTDIR = 'results'\n",
    "try:\n",
    "    shutil.rmtree(OUTDIR)\n",
    "except:\n",
    "    pass\n",
    "os.mkdir(OUTDIR)\n",
    "keyframes_np = keyframes_to_np(seq.keyframes)\n",
    "mappoints = get_mappoints(seq.keyframes)\n",
    "mappoints_np = mappoints_to_np(mappoints)\n",
    "links_np = links_to_np(mappoints)\n",
    "suffix = '_{}_{}_{}_{}'.format(FRAMECOUNT, PATCH_SIZE, STEREO_CONFIDENCE, SEQUENCE_CONFIDENCE)\n",
    "np.save(OUTDIR + '/mappoints' + suffix, mappoints_np)\n",
    "np.save(OUTDIR + '/links' + suffix, links_np)\n",
    "np.save(OUTDIR + '/keyframes' + suffix, keyframes_np)"
   ]
  },
  {
   "cell_type": "code",
   "execution_count": null,
   "metadata": {
    "collapsed": true
   },
   "outputs": [],
   "source": []
  }
 ],
 "metadata": {
  "kernelspec": {
   "display_name": "Python 3",
   "language": "python",
   "name": "python3"
  },
  "language_info": {
   "codemirror_mode": {
    "name": "ipython",
    "version": 3
   },
   "file_extension": ".py",
   "mimetype": "text/x-python",
   "name": "python",
   "nbconvert_exporter": "python",
   "pygments_lexer": "ipython3",
   "version": "3.6.1"
  }
 },
 "nbformat": 4,
 "nbformat_minor": 2
}
