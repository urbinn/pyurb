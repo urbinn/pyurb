{
 "cells": [
  {
   "cell_type": "code",
   "execution_count": 1,
   "metadata": {},
   "outputs": [
    {
     "data": {
      "text/html": [
       "<script>requirejs.config({paths: { 'plotly': ['https://cdn.plot.ly/plotly-latest.min']},});if(!window.Plotly) {{require(['plotly'],function(plotly) {window.Plotly=plotly;});}}</script>"
      ],
      "text/vnd.plotly.v1+html": [
       "<script>requirejs.config({paths: { 'plotly': ['https://cdn.plot.ly/plotly-latest.min']},});if(!window.Plotly) {{require(['plotly'],function(plotly) {window.Plotly=plotly;});}}</script>"
      ]
     },
     "metadata": {},
     "output_type": "display_data"
    }
   ],
   "source": [
    "from urb_kitti import *\n",
    "%matplotlib inline\n",
    "from mpl_toolkits.mplot3d import Axes3D\n",
    "from plotly.offline import *\n",
    "from plotly.graph_objs import Scatter3d, Figure, Layout\n",
    "init_notebook_mode(connected=True)"
   ]
  },
  {
   "cell_type": "markdown",
   "metadata": {},
   "source": [
    "Read frames from KITTI sequence 00 into a list of frames (frame)."
   ]
  },
  {
   "cell_type": "code",
   "execution_count": 2,
   "metadata": {},
   "outputs": [
    {
     "name": "stdout",
     "output_type": "stream",
     "text": [
      "0\n",
      "1\n",
      "2\n",
      "3\n",
      "4\n",
      "5\n",
      "6\n",
      "7\n",
      "8\n",
      "9\n",
      "CPU times: user 245 ms, sys: 6.26 ms, total: 251 ms\n",
      "Wall time: 249 ms\n"
     ]
    }
   ],
   "source": [
    "%%time\n",
    "LEFTDIR = '/data/urbinn/datasets/kitti/sequences/00/image_2'\n",
    "RIGHTDIR = '/data/urbinn/datasets/kitti/sequences/00/image_3'\n",
    "\n",
    "frame = []\n",
    "for frameid in range(10):\n",
    "    print(frameid)\n",
    "    filename = '%06d.png'%(frameid)\n",
    "    left_frame = Frame(LEFTDIR + '/' + filename, RIGHTDIR)\n",
    "    frame.append(left_frame)"
   ]
  },
  {
   "cell_type": "markdown",
   "metadata": {},
   "source": [
    "We can also manually compute the Depth of the points and show these"
   ]
  },
  {
   "cell_type": "markdown",
   "metadata": {},
   "source": [
    "Turn the list of frames into a sequence. The first frame is automatically taken as the KeyFrame and its FramePoints are rerieved, depth is estimated, only the most confident points are kept.\n",
    "\n",
    "If a new frame is added and its pose can not be reliably determined, the previous frame is turned in and they are tracked in the other frames."
   ]
  },
  {
   "cell_type": "code",
   "execution_count": 3,
   "metadata": {},
   "outputs": [
    {
     "name": "stdout",
     "output_type": "stream",
     "text": [
      "add frame 0\n",
      "add frame 1\n",
      "add frame 2\n",
      "add frame 3\n",
      "add frame 4\n",
      "add frame 5\n",
      "add frame 6\n",
      "add frame 7\n",
      "add frame 8\n",
      "add frame 9\n"
     ]
    }
   ],
   "source": [
    "seq = create_sequence(frame)"
   ]
  },
  {
   "cell_type": "code",
   "execution_count": 4,
   "metadata": {},
   "outputs": [
    {
     "data": {
      "text/plain": [
       "array([[  9.99494576e-01,  -1.65213557e-03,   3.17468624e-02,\n",
       "         -9.00927604e-02],\n",
       "       [  1.42382033e-03,   9.99972972e-01,   7.21300308e-03,\n",
       "          1.13086799e-02],\n",
       "       [ -3.17579212e-02,  -7.16415563e-03,   9.99469914e-01,\n",
       "         -5.29998042e+00],\n",
       "       [  0.00000000e+00,   0.00000000e+00,   0.00000000e+00,\n",
       "          1.00000000e+00]])"
      ]
     },
     "execution_count": 4,
     "metadata": {},
     "output_type": "execute_result"
    }
   ],
   "source": [
    "kf = seq.keyframes[2]\n",
    "kf.get_pose_wrt(seq.keyframes[0])"
   ]
  },
  {
   "cell_type": "code",
   "execution_count": 5,
   "metadata": {},
   "outputs": [
    {
     "data": {
      "text/plain": [
       "[<urb_frame.Frame at 0x7f1eb4282c18>,\n",
       " <urb_frame.Frame at 0x7f1e65bfd128>,\n",
       " <urb_frame.Frame at 0x7f1e65bfd2b0>]"
      ]
     },
     "execution_count": 5,
     "metadata": {},
     "output_type": "execute_result"
    }
   ],
   "source": [
    "seq.keyframes"
   ]
  },
  {
   "cell_type": "code",
   "execution_count": 6,
   "metadata": {},
   "outputs": [
    {
     "data": {
      "text/plain": [
       "(-8.3247186307788308, 6.3617947308474925, 27.680264726887973, 1)"
      ]
     },
     "execution_count": 6,
     "metadata": {},
     "output_type": "execute_result"
    }
   ],
   "source": [
    "k0 = seq.keyframes[1]\n",
    "k0.get_pose()\n",
    "k1 = seq.keyframes[1]\n",
    "k1.get_pose()\n",
    "fp = k1.get_framepoints()[0]\n",
    "fp.get_affine_coords()"
   ]
  },
  {
   "cell_type": "code",
   "execution_count": 7,
   "metadata": {},
   "outputs": [
    {
     "data": {
      "text/plain": [
       "array([[  9.99848389e-01,   6.25623322e-04,   1.74013781e-02,\n",
       "         -4.43070089e-02],\n",
       "       [ -7.18007324e-04,   9.99985680e-01,   5.30326407e-03,\n",
       "          1.36133777e-02],\n",
       "       [ -1.73978110e-02,  -5.31495435e-03,   9.99834520e-01,\n",
       "         -2.93516913e+00],\n",
       "       [  0.00000000e+00,   0.00000000e+00,   0.00000000e+00,\n",
       "          1.00000000e+00]])"
      ]
     },
     "execution_count": 7,
     "metadata": {},
     "output_type": "execute_result"
    }
   ],
   "source": [
    "pose0 = seq.keyframes[0].get_pose_wrt(seq.keyframes[0])\n",
    "pose1 = seq.keyframes[1].get_pose_wrt(seq.keyframes[0])\n",
    "pose1"
   ]
  },
  {
   "cell_type": "code",
   "execution_count": 8,
   "metadata": {},
   "outputs": [
    {
     "data": {
      "text/plain": [
       "array([ -5.91631102,   5.4978384 ,  27.40446511,   1.        ])"
      ]
     },
     "execution_count": 8,
     "metadata": {},
     "output_type": "execute_result"
    }
   ],
   "source": [
    "p0 = seq.keyframes[1].get_framepoints_xyz()[1]\n",
    "p0"
   ]
  },
  {
   "cell_type": "code",
   "execution_count": 9,
   "metadata": {},
   "outputs": [
    {
     "data": {
      "text/plain": [
       "array([ -8.32471863,   6.36179473,  27.68026473,   1.        ])"
      ]
     },
     "execution_count": 9,
     "metadata": {},
     "output_type": "execute_result"
    }
   ],
   "source": [
    "p1 = seq.keyframes[1].get_framepoints_xyz()[0]\n",
    "p1"
   ]
  },
  {
   "cell_type": "code",
   "execution_count": 10,
   "metadata": {},
   "outputs": [
    {
     "data": {
      "text/plain": [
       "array([ -8.81635579,   6.18019039,  30.49994312,   1.        ])"
      ]
     },
     "execution_count": 10,
     "metadata": {},
     "output_type": "execute_result"
    }
   ],
   "source": [
    "seq.keyframes[1].get_framepoints_wc(frame[0])[0]"
   ]
  },
  {
   "cell_type": "code",
   "execution_count": 11,
   "metadata": {},
   "outputs": [
    {
     "data": {
      "text/plain": [
       "array([ -6.40289468,   5.31921905,  30.26151696,   1.        ])"
      ]
     },
     "execution_count": 11,
     "metadata": {},
     "output_type": "execute_result"
    }
   ],
   "source": [
    "np.dot(np.linalg.inv(pose1), p0)"
   ]
  },
  {
   "cell_type": "code",
   "execution_count": 12,
   "metadata": {},
   "outputs": [
    {
     "ename": "TypeError",
     "evalue": "draw_frame_t() missing 2 required positional arguments: 'frame' and 't'",
     "output_type": "error",
     "traceback": [
      "\u001b[0;31m---------------------------------------------------------------------------\u001b[0m",
      "\u001b[0;31mTypeError\u001b[0m                                 Traceback (most recent call last)",
      "\u001b[0;32m<ipython-input-12-2e13fed1de34>\u001b[0m in \u001b[0;36m<module>\u001b[0;34m()\u001b[0m\n\u001b[0;32m----> 1\u001b[0;31m \u001b[0mshow\u001b[0m\u001b[0;34m(\u001b[0m\u001b[0mdraw_frame_t\u001b[0m\u001b[0;34m(\u001b[0m\u001b[0;34m)\u001b[0m\u001b[0;34m)\u001b[0m\u001b[0;34m\u001b[0m\u001b[0m\n\u001b[0m",
      "\u001b[0;31mTypeError\u001b[0m: draw_frame_t() missing 2 required positional arguments: 'frame' and 't'"
     ]
    }
   ],
   "source": [
    "show(draw_frame_t())"
   ]
  },
  {
   "cell_type": "code",
   "execution_count": null,
   "metadata": {
    "scrolled": true
   },
   "outputs": [],
   "source": [
    "show(draw_frame_xyz(frame[0]))"
   ]
  },
  {
   "cell_type": "code",
   "execution_count": null,
   "metadata": {},
   "outputs": [],
   "source": [
    "show(draw_frame_depth(frame[0]))"
   ]
  },
  {
   "cell_type": "code",
   "execution_count": null,
   "metadata": {
    "collapsed": true
   },
   "outputs": [],
   "source": [
    "def plot_frame(frame):\n",
    "    coords = frame.get_framepoints_xyz()\n",
    "    layout = Layout(\n",
    "                    scene = dict(\n",
    "                    xaxis = dict(\n",
    "                        nticks=4, range = [-100,100], mirror='ticks'),\n",
    "                    yaxis = dict(\n",
    "                        nticks=4, range = [-100, 100],),\n",
    "                    zaxis = dict(\n",
    "                        nticks=4, range = [0,200],),),\n",
    "                    width=900,\n",
    "                    height=300,\n",
    "                    margin=dict(\n",
    "                    r=20, l=10,\n",
    "                    b=10, t=10)\n",
    "                  )\n",
    "    scatter = Scatter3d(x=-coords[:,0], y=coords[:,1], z=coords[:,2], mode='markers', marker=dict(size=2))\n",
    "    iplot(dict(data=[scatter], layout=layout))\n",
    "\n"
   ]
  },
  {
   "cell_type": "code",
   "execution_count": null,
   "metadata": {},
   "outputs": [],
   "source": [
    "plot_frame(frame[0]);"
   ]
  },
  {
   "cell_type": "code",
   "execution_count": null,
   "metadata": {
    "collapsed": true
   },
   "outputs": [],
   "source": []
  }
 ],
 "metadata": {
  "kernelspec": {
   "display_name": "Python 3",
   "language": "python",
   "name": "python3"
  },
  "language_info": {
   "codemirror_mode": {
    "name": "ipython",
    "version": 3
   },
   "file_extension": ".py",
   "mimetype": "text/x-python",
   "name": "python",
   "nbconvert_exporter": "python",
   "pygments_lexer": "ipython3",
   "version": "3.6.1"
  }
 },
 "nbformat": 4,
 "nbformat_minor": 2
}
