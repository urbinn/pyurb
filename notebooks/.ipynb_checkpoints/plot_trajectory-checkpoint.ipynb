{
 "cells": [
  {
   "cell_type": "code",
   "execution_count": null,
   "metadata": {
    "collapsed": true
   },
   "outputs": [],
   "source": [
    "from progressbar import ProgressBar\n",
    "from urb_kitti import *\n",
    "import cv2\n",
    "%matplotlib inline"
   ]
  },
  {
   "cell_type": "markdown",
   "metadata": {},
   "source": [
    "Read frames from KITTI sequence 00 into a list of frames (frame)."
   ]
  },
  {
   "cell_type": "code",
   "execution_count": null,
   "metadata": {},
   "outputs": [
    {
     "name": "stderr",
     "output_type": "stream",
     "text": [
      " 19% (39 of 200) |####                    | Elapsed Time: 0:00:53 ETA:  0:03:15"
     ]
    },
    {
     "name": "stdout",
     "output_type": "stream",
     "text": [
      "WARNING: invalid pose estimation\n",
      "47 None\n"
     ]
    },
    {
     "name": "stderr",
     "output_type": "stream",
     "text": [
      " 45% (90 of 200) |##########              | Elapsed Time: 0:01:33 ETA:  0:01:00"
     ]
    }
   ],
   "source": [
    "LEFTDIR = '/data/urbinn/datasets/kitti/sequences/00/image_2'\n",
    "RIGHTDIR = '/data/urbinn/datasets/kitti/sequences/00/image_3'\n",
    "\n",
    "frames = []\n",
    "seq = Sequence()\n",
    "for frameid in ProgressBar(range(200)):\n",
    "    filename = '%06d.png'%(frameid)\n",
    "    left_frame = Frame(LEFTDIR + '/' + filename, RIGHTDIR)\n",
    "    seq.add_frame(left_frame, clean=True)\n",
    "    frames.append(left_frame)"
   ]
  },
  {
   "cell_type": "code",
   "execution_count": null,
   "metadata": {
    "collapsed": true
   },
   "outputs": [],
   "source": [
    "trajectoryXZ = []\n",
    "points = []\n",
    "\n",
    "for frame in seq.keyframes[:]:\n",
    "    pose = frame.get_pose()\n",
    "    if pose is not None:\n",
    "        points_new = []\n",
    "        for p in points:\n",
    "            p = np.dot(pose, p)\n",
    "            points_new.append(p)\n",
    "        points = points_new\n",
    "        new_point = np.array([0,0,0,1.0])\n",
    "        points.append(new_point)\n",
    "  \n",
    "\n",
    "minx = min([p[0] for p in points])\n",
    "maxx = max([p[0] for p in points])\n",
    "miny = min([p[2] for p in points])\n",
    "maxy = max([p[2] for p in points])\n",
    "maxxy = max(maxx, minx, maxy - miny)\n",
    "\n",
    "for p in points:\n",
    "    #print(p)\n",
    "    x = 400 * (p[0] - minx) / (maxxy)\n",
    "    z = 400 * (p[2] - miny) / (maxxy)\n",
    "    trajectoryXZ.append([x, z])"
   ]
  },
  {
   "cell_type": "code",
   "execution_count": null,
   "metadata": {},
   "outputs": [],
   "source": [
    "# Create a blank image\n",
    "img = np.zeros((400, 400, 3), np.uint8) \n",
    "img[:] = 255 #or img.fill(255)\n",
    "\n",
    "# Draw a black line with thickness of 2 px\n",
    "for i in range(1,len(trajectoryXZ)):\n",
    "    cv2.line(img, (int(trajectoryXZ[i - 1][0]), int(trajectoryXZ[i - 1][1])), (int(trajectoryXZ[i][0]), int(trajectoryXZ[i][1])), (0, 0, 0), 1)\n",
    "show(img)"
   ]
  },
  {
   "cell_type": "code",
   "execution_count": null,
   "metadata": {},
   "outputs": [],
   "source": [
    "seq.keyframes"
   ]
  },
  {
   "cell_type": "code",
   "execution_count": null,
   "metadata": {},
   "outputs": [],
   "source": [
    "show2(draw_frame_depth(frames[35]), draw_frame_depth(frames[36]))"
   ]
  },
  {
   "cell_type": "code",
   "execution_count": null,
   "metadata": {
    "collapsed": true
   },
   "outputs": [],
   "source": []
  }
 ],
 "metadata": {
  "kernelspec": {
   "display_name": "Python 3",
   "language": "python",
   "name": "python3"
  },
  "language_info": {
   "codemirror_mode": {
    "name": "ipython",
    "version": 3
   },
   "file_extension": ".py",
   "mimetype": "text/x-python",
   "name": "python",
   "nbconvert_exporter": "python",
   "pygments_lexer": "ipython3",
   "version": "3.6.1"
  }
 },
 "nbformat": 4,
 "nbformat_minor": 2
}
