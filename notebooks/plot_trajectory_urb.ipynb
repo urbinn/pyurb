{
 "cells": [
  {
   "cell_type": "code",
   "execution_count": 1,
   "metadata": {
    "collapsed": true
   },
   "outputs": [],
   "source": [
    "import sys\n",
    "sys.path.append('..')\n",
    "from pyurb.urb_kitti import *\n",
    "import numpy as np\n",
    "import cv2\n",
    "%matplotlib inline"
   ]
  },
  {
   "cell_type": "markdown",
   "metadata": {},
   "source": [
    "Read frame transformations from KITTI sequence 00 into a list of frames (frame)."
   ]
  },
  {
   "cell_type": "code",
   "execution_count": 2,
   "metadata": {
    "collapsed": true
   },
   "outputs": [],
   "source": [
    "IMAGE_SIZE = 400\n",
    "\n",
    "def load(file):\n",
    "    poses = np.load(file)[:,1:]\n",
    "    return poses.reshape(poses.shape[0], 4, 4)\n",
    "\n",
    "def load_csv(file):\n",
    "    poses = np.genfromtxt(file, delimiter= \" \")\n",
    "    poses = np.hstack([poses, np.repeat(np.array([[0,0,0,1.0]]), len(poses), axis=0) ])\n",
    "    return poses.reshape(poses.shape[0], 4, 4)\n",
    "\n",
    "def transform(poses):\n",
    "    points = np.repeat(np.array([[0,0,0,1.0]]), len(poses), axis=0) \n",
    "    for i in range(1, len(poses)):\n",
    "        points[:i] = np.dot(points[:i], poses[i].T)\n",
    "    return points\n",
    "        \n",
    "def transform2(poses):\n",
    "    points = poses[:,:,3]\n",
    "    return points\n",
    "    \n",
    "def plot_trajectory(points):\n",
    "    # remove y coordinate (we only use x and z to plot a view from above)\n",
    "    points = points[:, [0,2,3]]\n",
    "    # compute min and max\n",
    "    pmin = points.min(axis=0)\n",
    "    pmax = points.max(axis=0)\n",
    "    maxxy = max(pmax[0] - pmin[0], pmax[1] - pmin[1])\n",
    "\n",
    "    t = np.eye(3, dtype=np.float64)\n",
    "    t[0,0] = IMAGE_SIZE / maxxy\n",
    "    t[1,1] = -IMAGE_SIZE / maxxy\n",
    "    t[0,2] = -pmin[0] * IMAGE_SIZE / maxxy\n",
    "    t[1,2] = IMAGE_SIZE / maxxy + pmin[1] / maxxy + 100\n",
    "\n",
    "    return np.dot(points, t.T)\n",
    "    \n",
    "\n",
    "def plot_trajectory2(points):\n",
    "    # remove y coordinate (we only use x and z to plot a view from above)\n",
    "    points = points[:, [0,2,3]]\n",
    "    # compute min and max\n",
    "    pmin = points.min(axis=0)\n",
    "    pmax = points.max(axis=0)\n",
    "    maxxy = max(pmax[0] - pmin[0], pmax[1] - pmin[1]) * 1.01\n",
    "\n",
    "    t = np.eye(3, dtype=np.float64)\n",
    "    t[0,0] = IMAGE_SIZE / maxxy\n",
    "    t[1,1] = -IMAGE_SIZE / maxxy\n",
    "    t[0,2] = -pmin[0] * IMAGE_SIZE / maxxy\n",
    "    t[1,2] = IMAGE_SIZE / maxxy + pmin[1] / maxxy + 100\n",
    "    return np.dot(points, t.T)\n",
    "    \n",
    "def plot_trajectory3(points):\n",
    "    coords = []\n",
    "    minx = min([p[0] for p in points])\n",
    "    maxx = max([p[0] for p in points])\n",
    "    miny = min([p[2] for p in points])\n",
    "    maxy = max([p[2] for p in points])\n",
    "    maxxy = max(maxx - minx, maxy - miny)* 1.01\n",
    "\n",
    "    for p in points:\n",
    "        #print(p)\n",
    "        x = IMAGE_SIZE * (p[0] - minx) / (maxxy)\n",
    "        z = IMAGE_SIZE - IMAGE_SIZE * (p[2] - miny) / (maxxy)\n",
    "        coords.append([x, z])\n",
    "    return coords\n",
    "\n",
    "def new_image():\n",
    "    img = np.zeros((IMAGE_SIZE, IMAGE_SIZE, 3), np.uint8)\n",
    "    img[:] = 255 #or img.fill(255)\n",
    "    return img\n",
    "\n",
    "def draw(coords, img, color = (0,0,0)):\n",
    "    # Draw a black line with thickness of 2 px\n",
    "    for i in range(1,len(coords)):\n",
    "        cv2.line(img, (int(coords[i - 1][0]), int(coords[i - 1][1])), (int(coords[i][0]), int(coords[i][1])), color, 2)\n",
    "    return img"
   ]
  },
  {
   "cell_type": "markdown",
   "metadata": {},
   "source": [
    "Compute the frame positions by mutiplying every point by a sequence of their transformations\n",
    "vectorized to improve speed"
   ]
  },
  {
   "cell_type": "code",
   "execution_count": 4,
   "metadata": {},
   "outputs": [
    {
     "data": {
      "image/png": "[encoded data removed]",
      "text/plain": [
       "<matplotlib.figure.Figure at 0x7f5babe8e748>"
      ]
     },
     "metadata": {},
     "output_type": "display_data"
    }
   ],
   "source": [
    "sequence = 1\n",
    "\n",
    "poses = load('results8chi2/keyframes_%02d_all_17_1.6_1.6.npy'%(sequence))\n",
    "points = transform(poses)\n",
    "coords = plot_trajectory3(points)\n",
    "p = draw(coords, new_image())\n",
    "\n",
    "gt = load_csv('/data/urbinn/datasets/kitti/poses/%02d.txt'%(sequence))\n",
    "points = transform2(gt)\n",
    "coords = plot_trajectory3(points)\n",
    "show2(draw(coords, new_image()), p)"
   ]
  },
  {
   "cell_type": "markdown",
   "metadata": {},
   "source": [
    "Show the affine world coodinates for the first 3 poses"
   ]
  },
  {
   "cell_type": "code",
   "execution_count": null,
   "metadata": {
    "collapsed": true
   },
   "outputs": [],
   "source": []
  },
  {
   "cell_type": "code",
   "execution_count": 7,
   "metadata": {},
   "outputs": [
    {
     "data": {
      "text/plain": [
       "array([[  1.11022300e-16,   2.22044600e-16,  -2.22044600e-16,\n",
       "          1.00000000e+00],\n",
       "       [  5.15465600e-02,  -2.42488300e-02,   1.00072500e+00,\n",
       "          1.00000000e+00],\n",
       "       [  1.46463200e-01,  -5.05162200e-02,   1.99565900e+00,\n",
       "          1.00000000e+00]])"
      ]
     },
     "execution_count": 7,
     "metadata": {},
     "output_type": "execute_result"
    }
   ],
   "source": [
    "points[:3]"
   ]
  },
  {
   "cell_type": "markdown",
   "metadata": {},
   "source": [
    "show the converted x,y coordinates to plot the trajectory"
   ]
  },
  {
   "cell_type": "code",
   "execution_count": 9,
   "metadata": {},
   "outputs": [
    {
     "data": {
      "text/plain": [
       "[[0.0, 153.79385922266854],\n",
       " [0.011168696874392448, 153.57703012331396],\n",
       " [0.031734476249307773, 153.36145577158177]]"
      ]
     },
     "execution_count": 9,
     "metadata": {},
     "output_type": "execute_result"
    }
   ],
   "source": [
    "coords[:3]"
   ]
  }
 ],
 "metadata": {
  "kernelspec": {
   "display_name": "Python 3",
   "language": "python",
   "name": "python3"
  },
  "language_info": {
   "codemirror_mode": {
    "name": "ipython",
    "version": 3
   },
   "file_extension": ".py",
   "mimetype": "text/x-python",
   "name": "python",
   "nbconvert_exporter": "python",
   "pygments_lexer": "ipython3",
   "version": "3.6.1"
  }
 },
 "nbformat": 4,
 "nbformat_minor": 2
}
