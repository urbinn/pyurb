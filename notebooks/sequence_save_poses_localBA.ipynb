{
 "cells": [
  {
   "cell_type": "markdown",
   "metadata": {},
   "source": [
    "# Store kitti sequence\n",
    "\n",
    "Create a sequence"
   ]
  },
  {
   "cell_type": "code",
   "execution_count": 1,
   "metadata": {
    "collapsed": true
   },
   "outputs": [],
   "source": [
    "# when you change a setting you have to restart the kernel (settings are only loaded once)\n",
    "import os\n",
    "#os.environ['STEREO_CONFIDENCE'] = '1.6'\n",
    "#os.environ['SEQUENCE_CONFIDENCE'] = '1.6'\n",
    "#os.environ['PATCH_SIZE'] = '17'\n",
    "FRAMECOUNT = 1101\n",
    "\n",
    "import sys\n",
    "sys.path.append('..')\n",
    "from pyurb.urb_kitti import *\n",
    "%matplotlib inline\n",
    "import numpy as np\n",
    "import glob"
   ]
  },
  {
   "cell_type": "markdown",
   "metadata": {},
   "source": [
    "Read the first 10 frames from KITTI sequence 00."
   ]
  },
  {
   "cell_type": "code",
   "execution_count": 2,
   "metadata": {},
   "outputs": [
    {
     "name": "stdout",
     "output_type": "stream",
     "text": [
      "CPU times: user 17.5 ms, sys: 2.88 ms, total: 20.4 ms\n",
      "Wall time: 19.3 ms\n"
     ]
    }
   ],
   "source": [
    "%%time\n",
    "LEFTDIR = '/data/urbinn/datasets/kitti/sequences/00/image_2'\n",
    "RIGHTDIR = '/data/urbinn/datasets/kitti/sequences/00/image_3'\n",
    "\n",
    "frame = []\n",
    "for filename in sorted(glob.glob(LEFTDIR + '/*')):\n",
    "    left_frame = Frame(filename, RIGHTDIR)\n",
    "    frame.append(left_frame)"
   ]
  },
  {
   "cell_type": "markdown",
   "metadata": {},
   "source": [
    "Add the frames to a sequence. By adjusting the [:] you can use only a slice of the list of frames."
   ]
  },
  {
   "cell_type": "code",
   "execution_count": 3,
   "metadata": {},
   "outputs": [
    {
     "name": "stderr",
     "output_type": "stream",
     "text": [
      " 32% (8 of 25) |########                  | Elapsed Time: 0:00:17 ETA:  0:00:37"
     ]
    },
    {
     "name": "stdout",
     "output_type": "stream",
     "text": [
      "invalid speed 1.40389411519 -0.585267750984 \n",
      " [[ 0.99921797 -0.02199047  0.03286146 -0.24217853]\n",
      " [ 0.02180616  0.99974447  0.00595663  0.23511058]\n",
      " [-0.03298405 -0.00523539  0.99944217 -3.32015378]\n",
      " [ 0.          0.          0.          1.        ]]\n"
     ]
    },
    {
     "name": "stderr",
     "output_type": "stream",
     "text": [
      " 76% (19 of 25) |###################      | Elapsed Time: 0:00:45 ETA:  0:00:12"
     ]
    },
    {
     "name": "stdout",
     "output_type": "stream",
     "text": [
      "invalid speed 5.7035959541 -0.874646799939 \n",
      " [[ 0.99661723 -0.08004284  0.01863467 -2.51883032]\n",
      " [ 0.07994112  0.99678066  0.00614212  0.39529882]\n",
      " [-0.01906631 -0.00463167  0.99980749  1.27697186]\n",
      " [ 0.          0.          0.          1.        ]]\n"
     ]
    },
    {
     "name": "stderr",
     "output_type": "stream",
     "text": [
      " 88% (22 of 25) |######################   | Elapsed Time: 0:00:55 ETA:  0:00:08"
     ]
    },
    {
     "name": "stdout",
     "output_type": "stream",
     "text": [
      "invalid speed 0.749461482241 -0.909318970439 \n",
      " [[  9.99957851e-01  -1.88405034e-03   8.98591074e-03  -6.63216886e-01]\n",
      " [  1.92008982e-03   9.99990142e-01  -4.00372572e-03   2.05731448e-02]\n",
      " [ -8.97827893e-03   4.02081072e-03   9.99951611e-01  -2.01032677e+00]\n",
      " [  0.00000000e+00   0.00000000e+00   0.00000000e+00   1.00000000e+00]]\n"
     ]
    },
    {
     "name": "stderr",
     "output_type": "stream",
     "text": [
      "100% (25 of 25) |#########################| Elapsed Time: 0:01:06 Time: 0:01:06\n"
     ]
    }
   ],
   "source": [
    "seq = Sequence()\n",
    "for f in ProgressBar()(frame[:25]):\n",
    "    seq.add_frame(f)"
   ]
  },
  {
   "cell_type": "markdown",
   "metadata": {},
   "source": [
    "Example of how to save a set of covisible keyframes, fixed keyframes, mappoints and edges to use for local bundle adjustment"
   ]
  },
  {
   "cell_type": "code",
   "execution_count": 4,
   "metadata": {},
   "outputs": [],
   "source": [
    "cv_keyframes = get_covisible_keyframes(seq.keyframes[2])\n",
    "mappoints = get_mappoints(cv_keyframes)\n",
    "f_keyframes = get_fixed_keyframes(mappoints, cv_keyframes)\n",
    "\n",
    "cv_keyframes_np = keyframes_to_np(cv_keyframes)\n",
    "f_keyframes_np = keyframes_to_np(f_keyframes)\n",
    "mappoints_np = mappoints_to_np(mappoints)\n",
    "links_np = links_to_np(mappoints)\n",
    "\n",
    "np.save('cv_keyframes', cv_keyframes_np)\n",
    "np.save('f_keyframes', f_keyframes_np)\n",
    "np.save('mappoints', mappoints_np)\n",
    "np.save('links', links_np)\n"
   ]
  }
 ],
 "metadata": {
  "kernelspec": {
   "display_name": "Python 3",
   "language": "python",
   "name": "python3"
  },
  "language_info": {
   "codemirror_mode": {
    "name": "ipython",
    "version": 3
   },
   "file_extension": ".py",
   "mimetype": "text/x-python",
   "name": "python",
   "nbconvert_exporter": "python",
   "pygments_lexer": "ipython3",
   "version": "3.6.1"
  }
 },
 "nbformat": 4,
 "nbformat_minor": 2
}
