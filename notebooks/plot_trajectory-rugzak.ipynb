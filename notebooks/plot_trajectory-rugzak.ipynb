{
 "cells": [
  {
   "cell_type": "code",
   "execution_count": 1,
   "metadata": {
    "collapsed": true
   },
   "outputs": [],
   "source": [
    "from progressbar import ProgressBar\n",
    "from urb_zed import *\n",
    "import cv2\n",
    "%matplotlib inline"
   ]
  },
  {
   "cell_type": "markdown",
   "metadata": {},
   "source": [
    "Read frames from KITTI sequence 00 into a list of frames (frame)."
   ]
  },
  {
   "cell_type": "code",
   "execution_count": 2,
   "metadata": {},
   "outputs": [
    {
     "name": "stderr",
     "output_type": "stream",
     "text": [
      "  1% (1 of 99) |                          | Elapsed Time: 0:00:00 ETA:  0:01:05"
     ]
    },
    {
     "ename": "IndexError",
     "evalue": "pop from empty list",
     "output_type": "error",
     "traceback": [
      "\u001b[0;31m---------------------------------------------------------------------------\u001b[0m",
      "\u001b[0;31mIndexError\u001b[0m                                Traceback (most recent call last)",
      "\u001b[0;32m<ipython-input-2-6da56354da24>\u001b[0m in \u001b[0;36m<module>\u001b[0;34m()\u001b[0m\n\u001b[1;32m      7\u001b[0m     \u001b[0mfilename\u001b[0m \u001b[0;34m=\u001b[0m \u001b[0;34m'%06d.png'\u001b[0m\u001b[0;34m%\u001b[0m\u001b[0;34m(\u001b[0m\u001b[0mframeid\u001b[0m\u001b[0;34m)\u001b[0m\u001b[0;34m\u001b[0m\u001b[0m\n\u001b[1;32m      8\u001b[0m     \u001b[0mleft_frame\u001b[0m \u001b[0;34m=\u001b[0m \u001b[0mFrame\u001b[0m\u001b[0;34m(\u001b[0m\u001b[0mLEFTDIR\u001b[0m \u001b[0;34m+\u001b[0m \u001b[0;34m'/'\u001b[0m \u001b[0;34m+\u001b[0m \u001b[0mfilename\u001b[0m\u001b[0;34m,\u001b[0m \u001b[0mRIGHTDIR\u001b[0m\u001b[0;34m)\u001b[0m\u001b[0;34m\u001b[0m\u001b[0m\n\u001b[0;32m----> 9\u001b[0;31m     \u001b[0mseq\u001b[0m\u001b[0;34m.\u001b[0m\u001b[0madd_frame\u001b[0m\u001b[0;34m(\u001b[0m\u001b[0mleft_frame\u001b[0m\u001b[0;34m,\u001b[0m \u001b[0mclean\u001b[0m\u001b[0;34m=\u001b[0m\u001b[0;32mTrue\u001b[0m\u001b[0;34m)\u001b[0m\u001b[0;34m\u001b[0m\u001b[0m\n\u001b[0m",
      "\u001b[0;32m/data/urbinn/notebooks/pyurb/urb_sequence.py\u001b[0m in \u001b[0;36madd_frame\u001b[0;34m(self, frame, confidence_threshold, clean)\u001b[0m\n\u001b[1;32m     61\u001b[0m                         \u001b[0mf\u001b[0m\u001b[0;34m.\u001b[0m\u001b[0mclean\u001b[0m\u001b[0;34m(\u001b[0m\u001b[0;34m)\u001b[0m\u001b[0;34m\u001b[0m\u001b[0m\n\u001b[1;32m     62\u001b[0m                     \u001b[0mkeyframe\u001b[0m\u001b[0;34m.\u001b[0m\u001b[0mclean\u001b[0m\u001b[0;34m(\u001b[0m\u001b[0;34m)\u001b[0m\u001b[0;34m\u001b[0m\u001b[0m\n\u001b[0;32m---> 63\u001b[0;31m                 \u001b[0mkeyframe\u001b[0m \u001b[0;34m=\u001b[0m \u001b[0mkeyframe\u001b[0m\u001b[0;34m.\u001b[0m\u001b[0mframes\u001b[0m\u001b[0;34m.\u001b[0m\u001b[0mpop\u001b[0m\u001b[0;34m(\u001b[0m\u001b[0;34m)\u001b[0m\u001b[0;34m\u001b[0m\u001b[0m\n\u001b[0m\u001b[1;32m     64\u001b[0m                 \u001b[0mself\u001b[0m\u001b[0;34m.\u001b[0m\u001b[0madd_keyframe\u001b[0m\u001b[0;34m(\u001b[0m \u001b[0mkeyframe\u001b[0m \u001b[0;34m)\u001b[0m\u001b[0;34m\u001b[0m\u001b[0m\n\u001b[1;32m     65\u001b[0m                 \u001b[0mmatch_frame\u001b[0m\u001b[0;34m(\u001b[0m\u001b[0mframe\u001b[0m\u001b[0;34m,\u001b[0m \u001b[0mkeyframe\u001b[0m\u001b[0;34m.\u001b[0m\u001b[0mget_observations\u001b[0m\u001b[0;34m(\u001b[0m\u001b[0;34m)\u001b[0m\u001b[0;34m,\u001b[0m \u001b[0mconfidence_threshold\u001b[0m \u001b[0;34m=\u001b[0m \u001b[0mconfidence_threshold\u001b[0m\u001b[0;34m)\u001b[0m\u001b[0;34m\u001b[0m\u001b[0m\n",
      "\u001b[0;31mIndexError\u001b[0m: pop from empty list"
     ]
    }
   ],
   "source": [
    "bar = ProgressBar()\n",
    "LEFTDIR = '/data/urbinn/datasets/slinger_rugzak_2017-11-02/left'\n",
    "RIGHTDIR = '/data/urbinn/datasets/slinger_rugzak_2017-11-02/right'\n",
    "\n",
    "seq = Sequence()\n",
    "for frameid in bar(range(1, 100)):\n",
    "    filename = '%06d.png'%(frameid)\n",
    "    left_frame = Frame(LEFTDIR + '/' + filename, RIGHTDIR)\n",
    "    seq.add_frame(left_frame, clean=True)"
   ]
  },
  {
   "cell_type": "code",
   "execution_count": null,
   "metadata": {
    "collapsed": true
   },
   "outputs": [],
   "source": [
    "trajectoryXZ = []\n",
    "points = []\n",
    "\n",
    "for frame in seq.keyframes[:]:\n",
    "    pose = frame.get_pose()\n",
    "    if pose is not None:\n",
    "        points_new = []\n",
    "        for p in points:\n",
    "            p = np.dot(pose, p)\n",
    "            points_new.append(p)\n",
    "        points = points_new\n",
    "        new_point = np.array([0,0,0,1.0])\n",
    "        points.append(new_point)\n",
    "  \n",
    "\n",
    "minx = min([p[0] for p in points])\n",
    "maxx = max([p[0] for p in points])\n",
    "miny = min([p[2] for p in points])\n",
    "maxy = max([p[2] for p in points])\n",
    "maxxy = max(maxx, maxy)\n",
    "\n",
    "\n",
    "for p in points:\n",
    "    #print(p)\n",
    "    x = 400 * (p[0] - minx) / (maxxy)\n",
    "    z = 400 * (p[2] - miny) / (maxxy)\n",
    "    trajectoryXZ.append([x, z])"
   ]
  },
  {
   "cell_type": "code",
   "execution_count": null,
   "metadata": {},
   "outputs": [],
   "source": [
    "# Create a blank image\n",
    "img = np.zeros((400, 400, 3), np.uint8) \n",
    "img[:] = 255 #or img.fill(255)\n",
    "\n",
    "# Draw a black line with thickness of 2 px\n",
    "for i in range(1,len(trajectoryXZ)):\n",
    "    cv2.line(img, (int(trajectoryXZ[i - 1][0]), int(trajectoryXZ[i - 1][1])), (int(trajectoryXZ[i][0]), int(trajectoryXZ[i][1])), (0, 0, 0), 1)\n",
    "show(img)"
   ]
  },
  {
   "cell_type": "code",
   "execution_count": null,
   "metadata": {},
   "outputs": [],
   "source": [
    "a = type(seq.keyframes[0])\n",
    "a.__name__"
   ]
  },
  {
   "cell_type": "code",
   "execution_count": null,
   "metadata": {},
   "outputs": [],
   "source": [
    "import urb_json\n",
    "s = urb_json.saves(seq.keyframes[0])"
   ]
  },
  {
   "cell_type": "code",
   "execution_count": null,
   "metadata": {},
   "outputs": [],
   "source": [
    "s"
   ]
  },
  {
   "cell_type": "code",
   "execution_count": null,
   "metadata": {
    "collapsed": true
   },
   "outputs": [],
   "source": [
    "r = urb_json.loads(s)"
   ]
  }
 ],
 "metadata": {
  "kernelspec": {
   "display_name": "Python 3",
   "language": "python",
   "name": "python3"
  },
  "language_info": {
   "codemirror_mode": {
    "name": "ipython",
    "version": 3
   },
   "file_extension": ".py",
   "mimetype": "text/x-python",
   "name": "python",
   "nbconvert_exporter": "python",
   "pygments_lexer": "ipython3",
   "version": "3.6.1"
  }
 },
 "nbformat": 4,
 "nbformat_minor": 2
}
